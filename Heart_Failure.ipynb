{
  "nbformat": 4,
  "nbformat_minor": 0,
  "metadata": {
    "colab": {
      "name": "Heart Failure.ipynb",
      "provenance": [],
      "collapsed_sections": []
    },
    "kernelspec": {
      "name": "python3",
      "display_name": "Python 3"
    },
    "language_info": {
      "name": "python"
    }
  },
  "cells": [
    {
      "cell_type": "markdown",
      "source": [
        "#Heart Disease Prediction Logistic Regression"
      ],
      "metadata": {
        "id": "u1NXbKacxuBa"
      }
    },
    {
      "cell_type": "markdown",
      "metadata": {
        "id": "po9ehH5dp7lb"
      },
      "source": [
        "**Import Required Libraries**"
      ]
    },
    {
      "cell_type": "code",
      "metadata": {
        "id": "mI-a3UB_EL1N",
        "colab": {
          "base_uri": "https://localhost:8080/"
        },
        "outputId": "439ebcd4-5b45-4ece-ef9f-c9964a5c7761"
      },
      "source": [
        "import pandas as pd\n",
        "import numpy as np\n",
        "import statsmodels.api as sm\n",
        "import matplotlib.pyplot as plt\n",
        "import seaborn as sns\n",
        "sns.set()\n",
        "\n",
        "from statsmodels.discrete.discrete_model import Logit\n",
        "from scipy.special import logit"
      ],
      "execution_count": null,
      "outputs": [
        {
          "output_type": "stream",
          "name": "stderr",
          "text": [
            "/usr/local/lib/python3.7/dist-packages/statsmodels/tools/_testing.py:19: FutureWarning: pandas.util.testing is deprecated. Use the functions in the public API at pandas.testing instead.\n",
            "  import pandas.util.testing as tm\n"
          ]
        }
      ]
    },
    {
      "cell_type": "markdown",
      "metadata": {
        "id": "PatEFmBap_FA"
      },
      "source": [
        "**Data Preparation**\n",
        "\n",
        "The dataset was downloaded from the Kaggle website (URL: https://www.kaggle.com/fedesoriano/heart-failure-prediction). It contains 918 observations with 12 features."
      ]
    },
    {
      "cell_type": "code",
      "metadata": {
        "colab": {
          "base_uri": "https://localhost:8080/",
          "height": 226
        },
        "id": "8xr5Z7dBESmo",
        "outputId": "fa6c74c1-a8da-4893-b1d9-71dc9483aafb"
      },
      "source": [
        "heart_df=pd.read_csv(\"heart.csv\")\n",
        "heart_df.head()"
      ],
      "execution_count": null,
      "outputs": [
        {
          "output_type": "execute_result",
          "data": {
            "text/html": [
              "<div>\n",
              "<style scoped>\n",
              "    .dataframe tbody tr th:only-of-type {\n",
              "        vertical-align: middle;\n",
              "    }\n",
              "\n",
              "    .dataframe tbody tr th {\n",
              "        vertical-align: top;\n",
              "    }\n",
              "\n",
              "    .dataframe thead th {\n",
              "        text-align: right;\n",
              "    }\n",
              "</style>\n",
              "<table border=\"1\" class=\"dataframe\">\n",
              "  <thead>\n",
              "    <tr style=\"text-align: right;\">\n",
              "      <th></th>\n",
              "      <th>Age</th>\n",
              "      <th>Sex</th>\n",
              "      <th>ChestPainType</th>\n",
              "      <th>RestingBP</th>\n",
              "      <th>Cholesterol</th>\n",
              "      <th>FastingBS</th>\n",
              "      <th>RestingECG</th>\n",
              "      <th>MaxHR</th>\n",
              "      <th>ExerciseAngina</th>\n",
              "      <th>Oldpeak</th>\n",
              "      <th>ST_Slope</th>\n",
              "      <th>HeartDisease</th>\n",
              "    </tr>\n",
              "  </thead>\n",
              "  <tbody>\n",
              "    <tr>\n",
              "      <th>0</th>\n",
              "      <td>40</td>\n",
              "      <td>M</td>\n",
              "      <td>ATA</td>\n",
              "      <td>140</td>\n",
              "      <td>289</td>\n",
              "      <td>0</td>\n",
              "      <td>Normal</td>\n",
              "      <td>172</td>\n",
              "      <td>N</td>\n",
              "      <td>0.0</td>\n",
              "      <td>Up</td>\n",
              "      <td>0</td>\n",
              "    </tr>\n",
              "    <tr>\n",
              "      <th>1</th>\n",
              "      <td>49</td>\n",
              "      <td>F</td>\n",
              "      <td>NAP</td>\n",
              "      <td>160</td>\n",
              "      <td>180</td>\n",
              "      <td>0</td>\n",
              "      <td>Normal</td>\n",
              "      <td>156</td>\n",
              "      <td>N</td>\n",
              "      <td>1.0</td>\n",
              "      <td>Flat</td>\n",
              "      <td>1</td>\n",
              "    </tr>\n",
              "    <tr>\n",
              "      <th>2</th>\n",
              "      <td>37</td>\n",
              "      <td>M</td>\n",
              "      <td>ATA</td>\n",
              "      <td>130</td>\n",
              "      <td>283</td>\n",
              "      <td>0</td>\n",
              "      <td>ST</td>\n",
              "      <td>98</td>\n",
              "      <td>N</td>\n",
              "      <td>0.0</td>\n",
              "      <td>Up</td>\n",
              "      <td>0</td>\n",
              "    </tr>\n",
              "    <tr>\n",
              "      <th>3</th>\n",
              "      <td>48</td>\n",
              "      <td>F</td>\n",
              "      <td>ASY</td>\n",
              "      <td>138</td>\n",
              "      <td>214</td>\n",
              "      <td>0</td>\n",
              "      <td>Normal</td>\n",
              "      <td>108</td>\n",
              "      <td>Y</td>\n",
              "      <td>1.5</td>\n",
              "      <td>Flat</td>\n",
              "      <td>1</td>\n",
              "    </tr>\n",
              "    <tr>\n",
              "      <th>4</th>\n",
              "      <td>54</td>\n",
              "      <td>M</td>\n",
              "      <td>NAP</td>\n",
              "      <td>150</td>\n",
              "      <td>195</td>\n",
              "      <td>0</td>\n",
              "      <td>Normal</td>\n",
              "      <td>122</td>\n",
              "      <td>N</td>\n",
              "      <td>0.0</td>\n",
              "      <td>Up</td>\n",
              "      <td>0</td>\n",
              "    </tr>\n",
              "  </tbody>\n",
              "</table>\n",
              "</div>"
            ],
            "text/plain": [
              "   Age Sex ChestPainType  ...  Oldpeak  ST_Slope  HeartDisease\n",
              "0   40   M           ATA  ...      0.0        Up             0\n",
              "1   49   F           NAP  ...      1.0      Flat             1\n",
              "2   37   M           ATA  ...      0.0        Up             0\n",
              "3   48   F           ASY  ...      1.5      Flat             1\n",
              "4   54   M           NAP  ...      0.0        Up             0\n",
              "\n",
              "[5 rows x 12 columns]"
            ]
          },
          "metadata": {},
          "execution_count": 2
        }
      ]
    },
    {
      "cell_type": "code",
      "source": [
        "heart_df1=heart_df.copy()\n",
        "heart_df1.drop(['ChestPainType', 'RestingECG', 'ST_Slope'], axis=1, inplace=True)"
      ],
      "metadata": {
        "id": "Xorr7mTNspfA"
      },
      "execution_count": null,
      "outputs": []
    },
    {
      "cell_type": "markdown",
      "metadata": {
        "id": "xawW-bwiqHWq"
      },
      "source": [
        "The dataset has the following features:\n",
        "\n",
        "1. **Age**: age of the patient [years]\n",
        "2. **Sex**: sex of the patient [M: Male, F: Female]\n",
        "3. **ChestPainType**: chest pain type [TA: Typical Angina, ATA: Atypical Angina, NAP: Non-Anginal Pain, ASY: Asymptomatic]\n",
        "4. **RestingBP**: resting blood pressure [mm Hg]\n",
        "5. **Cholesterol**: serum cholesterol [mm/dl]\n",
        "6. **FastingBS**: fasting blood sugar [1: if FastingBS > 120 mg/dl, 0: otherwise]\n",
        "7. **RestingECG**: resting electrocardiogram results [Normal: Normal, ST: having ST-T wave abnormality (T wave inversions and/or ST elevation or depression of > 0.05 mV), LVH: showing probable or definite left ventricular hypertrophy by Estes' criteria]\n",
        "8. **MaxHR**: maximum heart rate achieved [Numeric value between 60 and 202]\n",
        "9. **ExerciseAngina**: exercise-induced angina [Y: Yes, N: No]\n",
        "10. **Oldpeak**: oldpeak = ST [Numeric value measured in depression]\n",
        "11. **ST_Slope**: the slope of the peak exercise ST segment [Up: upsloping, Flat: flat, Down: downsloping]\n",
        "12. **HeartDisease**: output class [1: heart disease, 0: Normal]"
      ]
    },
    {
      "cell_type": "code",
      "metadata": {
        "id": "Yvx-F75fESsr",
        "outputId": "91f4cb5d-52d7-492b-b221-98a4ba3fe650",
        "colab": {
          "base_uri": "https://localhost:8080/"
        }
      },
      "source": [
        "heart_df.info()"
      ],
      "execution_count": null,
      "outputs": [
        {
          "output_type": "stream",
          "name": "stdout",
          "text": [
            "<class 'pandas.core.frame.DataFrame'>\n",
            "RangeIndex: 918 entries, 0 to 917\n",
            "Data columns (total 12 columns):\n",
            " #   Column          Non-Null Count  Dtype  \n",
            "---  ------          --------------  -----  \n",
            " 0   Age             918 non-null    int64  \n",
            " 1   Sex             918 non-null    object \n",
            " 2   ChestPainType   918 non-null    object \n",
            " 3   RestingBP       918 non-null    int64  \n",
            " 4   Cholesterol     918 non-null    int64  \n",
            " 5   FastingBS       918 non-null    int64  \n",
            " 6   RestingECG      918 non-null    object \n",
            " 7   MaxHR           918 non-null    int64  \n",
            " 8   ExerciseAngina  918 non-null    object \n",
            " 9   Oldpeak         918 non-null    float64\n",
            " 10  ST_Slope        918 non-null    object \n",
            " 11  HeartDisease    918 non-null    int64  \n",
            "dtypes: float64(1), int64(6), object(5)\n",
            "memory usage: 86.2+ KB\n"
          ]
        }
      ]
    },
    {
      "cell_type": "markdown",
      "metadata": {
        "id": "xCgcrtphqNZK"
      },
      "source": [
        "Overall, the dataset looks prety good. However, there are a couple of columns (i.e. Cholesterol and RestingBP) that have a value of zero (0). A value of zero in these columns does not make sense and indicates an invalid or missing value.\n",
        "\n",
        "Since there's only one record with missing value in the RestingBP column, we can simply drop that observation.\n",
        "\n",
        "As for the missing values in the Cholesterol column, it is not wise to just drop them because it impacts roughly 20% of the observations. We don’t want to lose so much information so will impute them with the mean instead.\n",
        "\n",
        "There are also categorical features which need to be transformed into numeric quantities / dummy variables before we can feed the data into the model."
      ]
    },
    {
      "cell_type": "code",
      "source": [
        "# Replace the zero values in FastingBS and Cholesterol columns with NaN\n",
        "heart_df['RestingBP'] = heart_df['RestingBP'].replace(0, np.nan)\n",
        "heart_df['Cholesterol'] = heart_df['Cholesterol'].replace(0, np.nan)\n",
        "\n",
        "# Impute missing values in Cholesterol column with the mean\n",
        "heart_df['Cholesterol'].fillna((heart_df['Cholesterol'].mean()), inplace=True)\n",
        "\n",
        "# At this point, only one observation in the dataset has a missing value\n",
        "# and that is the record with zero RestingBP in the original dataset. \n",
        "# We will drop that one observation.\n",
        "heart_df = heart_df.dropna(axis=0)"
      ],
      "metadata": {
        "id": "4_JV0hUHs4Fj"
      },
      "execution_count": null,
      "outputs": []
    },
    {
      "cell_type": "markdown",
      "metadata": {
        "id": "1TD6hZt-qNyS"
      },
      "source": [
        "**Exploratory Data Visualization**\n",
        "\n",
        "Generate histograms to help us visualize the distribution of each data."
      ]
    },
    {
      "cell_type": "code",
      "metadata": {
        "id": "qNN3DXnKqQor",
        "outputId": "d75c7cf6-7b11-47f8-d08d-55aa0bf7861f",
        "colab": {
          "base_uri": "https://localhost:8080/",
          "height": 960
        }
      },
      "source": [
        "def draw_histograms(df, predictors, rows, cols):\n",
        "    fig = plt.figure(figsize=(20,20))\n",
        "    for i, predictor in enumerate(predictors):\n",
        "        ax = fig.add_subplot(rows, cols, i+1)\n",
        "        df[predictor].hist(bins=20, ax=ax)\n",
        "        ax.set_title(predictor + \" Distribution\")\n",
        "    fig.tight_layout()\n",
        "    plt.show()\n",
        "draw_histograms(heart_df, heart_df.columns, 4, 3)"
      ],
      "execution_count": null,
      "outputs": [
        {
          "output_type": "display_data",
          "data": {
            "image/png": "[encoded data removed]",
            "text/plain": [
              "<Figure size 1440x1440 with 12 Axes>"
            ]
          },
          "metadata": {
            "needs_background": "light"
          }
        }
      ]
    },
    {
      "cell_type": "markdown",
      "metadata": {
        "id": "CrbiATfzGt76"
      },
      "source": [
        "**Data Transformation**\n"
      ]
    },
    {
      "cell_type": "markdown",
      "metadata": {
        "id": "TEohNzHSG2UD"
      },
      "source": [
        "Transform the following categorical features into numeric:\n",
        "1. Sex\n",
        "2. ExerciseAngina"
      ]
    },
    {
      "cell_type": "code",
      "metadata": {
        "id": "PQWdqzEHGYvz"
      },
      "source": [
        "heart_df.Sex.replace({'M': 1, 'F': 0}, inplace=True)\n",
        "heart_df.ExerciseAngina.replace({'Y': 1, 'N': 0}, inplace=True)"
      ],
      "execution_count": null,
      "outputs": []
    },
    {
      "cell_type": "markdown",
      "source": [
        "Convert the following categorical features into dummy variables:\n",
        "1. ChestPainType\n",
        "2. RestingECG\n",
        "3. ST_Slope"
      ],
      "metadata": {
        "id": "vsMdXX2AtOup"
      }
    },
    {
      "cell_type": "code",
      "source": [
        "dummy_ChestPainType = pd.get_dummies(heart_df['ChestPainType'], prefix='ChestPainType', drop_first=True)\n",
        "heart_df = heart_df.join(dummy_ChestPainType)\n",
        "dummy_RestingECG = pd.get_dummies(heart_df['RestingECG'], prefix='RestingECG', drop_first=True)\n",
        "heart_df = heart_df.join(dummy_RestingECG)\n",
        "dummy_ST_Slope = pd.get_dummies(heart_df['ST_Slope'], prefix='ST_Slope', drop_first=True)\n",
        "heart_df = heart_df.join(dummy_ST_Slope)"
      ],
      "metadata": {
        "id": "VP5onpNqtQeI"
      },
      "execution_count": null,
      "outputs": []
    },
    {
      "cell_type": "code",
      "source": [
        "heart_df.head()"
      ],
      "metadata": {
        "colab": {
          "base_uri": "https://localhost:8080/",
          "height": 226
        },
        "id": "P_Ya_l-ltRwb",
        "outputId": "83122b60-2a69-4572-f234-82977b5d7499"
      },
      "execution_count": null,
      "outputs": [
        {
          "output_type": "execute_result",
          "data": {
            "text/html": [
              "<div>\n",
              "<style scoped>\n",
              "    .dataframe tbody tr th:only-of-type {\n",
              "        vertical-align: middle;\n",
              "    }\n",
              "\n",
              "    .dataframe tbody tr th {\n",
              "        vertical-align: top;\n",
              "    }\n",
              "\n",
              "    .dataframe thead th {\n",
              "        text-align: right;\n",
              "    }\n",
              "</style>\n",
              "<table border=\"1\" class=\"dataframe\">\n",
              "  <thead>\n",
              "    <tr style=\"text-align: right;\">\n",
              "      <th></th>\n",
              "      <th>Age</th>\n",
              "      <th>Sex</th>\n",
              "      <th>ChestPainType</th>\n",
              "      <th>RestingBP</th>\n",
              "      <th>Cholesterol</th>\n",
              "      <th>FastingBS</th>\n",
              "      <th>RestingECG</th>\n",
              "      <th>MaxHR</th>\n",
              "      <th>ExerciseAngina</th>\n",
              "      <th>Oldpeak</th>\n",
              "      <th>ST_Slope</th>\n",
              "      <th>HeartDisease</th>\n",
              "      <th>ChestPainType_ATA</th>\n",
              "      <th>ChestPainType_NAP</th>\n",
              "      <th>ChestPainType_TA</th>\n",
              "      <th>RestingECG_Normal</th>\n",
              "      <th>RestingECG_ST</th>\n",
              "      <th>ST_Slope_Flat</th>\n",
              "      <th>ST_Slope_Up</th>\n",
              "    </tr>\n",
              "  </thead>\n",
              "  <tbody>\n",
              "    <tr>\n",
              "      <th>0</th>\n",
              "      <td>40</td>\n",
              "      <td>1</td>\n",
              "      <td>ATA</td>\n",
              "      <td>140.0</td>\n",
              "      <td>289.0</td>\n",
              "      <td>0</td>\n",
              "      <td>Normal</td>\n",
              "      <td>172</td>\n",
              "      <td>0</td>\n",
              "      <td>0.0</td>\n",
              "      <td>Up</td>\n",
              "      <td>0</td>\n",
              "      <td>1</td>\n",
              "      <td>0</td>\n",
              "      <td>0</td>\n",
              "      <td>1</td>\n",
              "      <td>0</td>\n",
              "      <td>0</td>\n",
              "      <td>1</td>\n",
              "    </tr>\n",
              "    <tr>\n",
              "      <th>1</th>\n",
              "      <td>49</td>\n",
              "      <td>0</td>\n",
              "      <td>NAP</td>\n",
              "      <td>160.0</td>\n",
              "      <td>180.0</td>\n",
              "      <td>0</td>\n",
              "      <td>Normal</td>\n",
              "      <td>156</td>\n",
              "      <td>0</td>\n",
              "      <td>1.0</td>\n",
              "      <td>Flat</td>\n",
              "      <td>1</td>\n",
              "      <td>0</td>\n",
              "      <td>1</td>\n",
              "      <td>0</td>\n",
              "      <td>1</td>\n",
              "      <td>0</td>\n",
              "      <td>1</td>\n",
              "      <td>0</td>\n",
              "    </tr>\n",
              "    <tr>\n",
              "      <th>2</th>\n",
              "      <td>37</td>\n",
              "      <td>1</td>\n",
              "      <td>ATA</td>\n",
              "      <td>130.0</td>\n",
              "      <td>283.0</td>\n",
              "      <td>0</td>\n",
              "      <td>ST</td>\n",
              "      <td>98</td>\n",
              "      <td>0</td>\n",
              "      <td>0.0</td>\n",
              "      <td>Up</td>\n",
              "      <td>0</td>\n",
              "      <td>1</td>\n",
              "      <td>0</td>\n",
              "      <td>0</td>\n",
              "      <td>0</td>\n",
              "      <td>1</td>\n",
              "      <td>0</td>\n",
              "      <td>1</td>\n",
              "    </tr>\n",
              "    <tr>\n",
              "      <th>3</th>\n",
              "      <td>48</td>\n",
              "      <td>0</td>\n",
              "      <td>ASY</td>\n",
              "      <td>138.0</td>\n",
              "      <td>214.0</td>\n",
              "      <td>0</td>\n",
              "      <td>Normal</td>\n",
              "      <td>108</td>\n",
              "      <td>1</td>\n",
              "      <td>1.5</td>\n",
              "      <td>Flat</td>\n",
              "      <td>1</td>\n",
              "      <td>0</td>\n",
              "      <td>0</td>\n",
              "      <td>0</td>\n",
              "      <td>1</td>\n",
              "      <td>0</td>\n",
              "      <td>1</td>\n",
              "      <td>0</td>\n",
              "    </tr>\n",
              "    <tr>\n",
              "      <th>4</th>\n",
              "      <td>54</td>\n",
              "      <td>1</td>\n",
              "      <td>NAP</td>\n",
              "      <td>150.0</td>\n",
              "      <td>195.0</td>\n",
              "      <td>0</td>\n",
              "      <td>Normal</td>\n",
              "      <td>122</td>\n",
              "      <td>0</td>\n",
              "      <td>0.0</td>\n",
              "      <td>Up</td>\n",
              "      <td>0</td>\n",
              "      <td>0</td>\n",
              "      <td>1</td>\n",
              "      <td>0</td>\n",
              "      <td>1</td>\n",
              "      <td>0</td>\n",
              "      <td>0</td>\n",
              "      <td>1</td>\n",
              "    </tr>\n",
              "  </tbody>\n",
              "</table>\n",
              "</div>"
            ],
            "text/plain": [
              "   Age  Sex ChestPainType  ...  RestingECG_ST  ST_Slope_Flat  ST_Slope_Up\n",
              "0   40    1           ATA  ...              0              0            1\n",
              "1   49    0           NAP  ...              0              1            0\n",
              "2   37    1           ATA  ...              1              0            1\n",
              "3   48    0           ASY  ...              0              1            0\n",
              "4   54    1           NAP  ...              0              0            1\n",
              "\n",
              "[5 rows x 19 columns]"
            ]
          },
          "metadata": {},
          "execution_count": 9
        }
      ]
    },
    {
      "cell_type": "code",
      "source": [
        "heart_dfb=heart_df.copy()"
      ],
      "metadata": {
        "id": "Joeo5yi4tbi5"
      },
      "execution_count": null,
      "outputs": []
    },
    {
      "cell_type": "code",
      "source": [
        "# Fit the model\n",
        "predictors = ['Age', 'Sex', 'RestingBP', 'Cholesterol', \n",
        "              'FastingBS', 'MaxHR', 'ExerciseAngina', \n",
        "              'Oldpeak', 'ChestPainType_ATA', 'ChestPainType_NAP', \n",
        "              'ChestPainType_TA', 'RestingECG_Normal', 'RestingECG_ST', \n",
        "              'ST_Slope_Flat', 'ST_Slope_Up']\n",
        "m = Logit(heart_dfb['HeartDisease'], heart_dfb[predictors]).fit()\n",
        "m.summary()"
      ],
      "metadata": {
        "colab": {
          "base_uri": "https://localhost:8080/",
          "height": 582
        },
        "id": "pcjArqlqtiMP",
        "outputId": "8f8a0576-1aea-4c71-8f9f-cfff38f22c49"
      },
      "execution_count": null,
      "outputs": [
        {
          "output_type": "stream",
          "name": "stdout",
          "text": [
            "Optimization terminated successfully.\n",
            "         Current function value: 0.331624\n",
            "         Iterations 7\n"
          ]
        },
        {
          "output_type": "execute_result",
          "data": {
            "text/html": [
              "<table class=\"simpletable\">\n",
              "<caption>Logit Regression Results</caption>\n",
              "<tr>\n",
              "  <th>Dep. Variable:</th>     <td>HeartDisease</td>   <th>  No. Observations:  </th>   <td>   917</td>  \n",
              "</tr>\n",
              "<tr>\n",
              "  <th>Model:</th>                 <td>Logit</td>      <th>  Df Residuals:      </th>   <td>   902</td>  \n",
              "</tr>\n",
              "<tr>\n",
              "  <th>Method:</th>                 <td>MLE</td>       <th>  Df Model:          </th>   <td>    14</td>  \n",
              "</tr>\n",
              "<tr>\n",
              "  <th>Date:</th>            <td>Tue, 14 Dec 2021</td> <th>  Pseudo R-squ.:     </th>   <td>0.5177</td>  \n",
              "</tr>\n",
              "<tr>\n",
              "  <th>Time:</th>                <td>00:20:50</td>     <th>  Log-Likelihood:    </th>  <td> -304.10</td> \n",
              "</tr>\n",
              "<tr>\n",
              "  <th>converged:</th>             <td>True</td>       <th>  LL-Null:           </th>  <td> -630.48</td> \n",
              "</tr>\n",
              "<tr>\n",
              "  <th>Covariance Type:</th>     <td>nonrobust</td>    <th>  LLR p-value:       </th> <td>3.087e-130</td>\n",
              "</tr>\n",
              "</table>\n",
              "<table class=\"simpletable\">\n",
              "<tr>\n",
              "          <td></td>             <th>coef</th>     <th>std err</th>      <th>z</th>      <th>P>|z|</th>  <th>[0.025</th>    <th>0.975]</th>  \n",
              "</tr>\n",
              "<tr>\n",
              "  <th>Age</th>               <td>    0.0084</td> <td>    0.011</td> <td>    0.768</td> <td> 0.442</td> <td>   -0.013</td> <td>    0.030</td>\n",
              "</tr>\n",
              "<tr>\n",
              "  <th>Sex</th>               <td>    1.5242</td> <td>    0.267</td> <td>    5.719</td> <td> 0.000</td> <td>    1.002</td> <td>    2.047</td>\n",
              "</tr>\n",
              "<tr>\n",
              "  <th>RestingBP</th>         <td>   -0.0014</td> <td>    0.006</td> <td>   -0.248</td> <td> 0.804</td> <td>   -0.013</td> <td>    0.010</td>\n",
              "</tr>\n",
              "<tr>\n",
              "  <th>Cholesterol</th>       <td>    0.0018</td> <td>    0.002</td> <td>    0.931</td> <td> 0.352</td> <td>   -0.002</td> <td>    0.006</td>\n",
              "</tr>\n",
              "<tr>\n",
              "  <th>FastingBS</th>         <td>    1.3403</td> <td>    0.266</td> <td>    5.031</td> <td> 0.000</td> <td>    0.818</td> <td>    1.863</td>\n",
              "</tr>\n",
              "<tr>\n",
              "  <th>MaxHR</th>             <td>   -0.0121</td> <td>    0.004</td> <td>   -3.117</td> <td> 0.002</td> <td>   -0.020</td> <td>   -0.004</td>\n",
              "</tr>\n",
              "<tr>\n",
              "  <th>ExerciseAngina</th>    <td>    0.8381</td> <td>    0.241</td> <td>    3.477</td> <td> 0.001</td> <td>    0.366</td> <td>    1.311</td>\n",
              "</tr>\n",
              "<tr>\n",
              "  <th>Oldpeak</th>           <td>    0.3607</td> <td>    0.116</td> <td>    3.111</td> <td> 0.002</td> <td>    0.133</td> <td>    0.588</td>\n",
              "</tr>\n",
              "<tr>\n",
              "  <th>ChestPainType_ATA</th> <td>   -1.8915</td> <td>    0.322</td> <td>   -5.872</td> <td> 0.000</td> <td>   -2.523</td> <td>   -1.260</td>\n",
              "</tr>\n",
              "<tr>\n",
              "  <th>ChestPainType_NAP</th> <td>   -1.6127</td> <td>    0.258</td> <td>   -6.249</td> <td> 0.000</td> <td>   -2.119</td> <td>   -1.107</td>\n",
              "</tr>\n",
              "<tr>\n",
              "  <th>ChestPainType_TA</th>  <td>   -1.4081</td> <td>    0.424</td> <td>   -3.319</td> <td> 0.001</td> <td>   -2.240</td> <td>   -0.577</td>\n",
              "</tr>\n",
              "<tr>\n",
              "  <th>RestingECG_Normal</th> <td>   -0.1193</td> <td>    0.252</td> <td>   -0.473</td> <td> 0.636</td> <td>   -0.614</td> <td>    0.375</td>\n",
              "</tr>\n",
              "<tr>\n",
              "  <th>RestingECG_ST</th>     <td>   -0.1213</td> <td>    0.332</td> <td>   -0.365</td> <td> 0.715</td> <td>   -0.772</td> <td>    0.529</td>\n",
              "</tr>\n",
              "<tr>\n",
              "  <th>ST_Slope_Flat</th>     <td>    1.0815</td> <td>    0.422</td> <td>    2.564</td> <td> 0.010</td> <td>    0.255</td> <td>    1.908</td>\n",
              "</tr>\n",
              "<tr>\n",
              "  <th>ST_Slope_Up</th>       <td>   -1.2267</td> <td>    0.443</td> <td>   -2.771</td> <td> 0.006</td> <td>   -2.094</td> <td>   -0.359</td>\n",
              "</tr>\n",
              "</table>"
            ],
            "text/plain": [
              "<class 'statsmodels.iolib.summary.Summary'>\n",
              "\"\"\"\n",
              "                           Logit Regression Results                           \n",
              "==============================================================================\n",
              "Dep. Variable:           HeartDisease   No. Observations:                  917\n",
              "Model:                          Logit   Df Residuals:                      902\n",
              "Method:                           MLE   Df Model:                           14\n",
              "Date:                Tue, 14 Dec 2021   Pseudo R-squ.:                  0.5177\n",
              "Time:                        00:20:50   Log-Likelihood:                -304.10\n",
              "converged:                       True   LL-Null:                       -630.48\n",
              "Covariance Type:            nonrobust   LLR p-value:                3.087e-130\n",
              "=====================================================================================\n",
              "                        coef    std err          z      P>|z|      [0.025      0.975]\n",
              "-------------------------------------------------------------------------------------\n",
              "Age                   0.0084      0.011      0.768      0.442      -0.013       0.030\n",
              "Sex                   1.5242      0.267      5.719      0.000       1.002       2.047\n",
              "RestingBP            -0.0014      0.006     -0.248      0.804      -0.013       0.010\n",
              "Cholesterol           0.0018      0.002      0.931      0.352      -0.002       0.006\n",
              "FastingBS             1.3403      0.266      5.031      0.000       0.818       1.863\n",
              "MaxHR                -0.0121      0.004     -3.117      0.002      -0.020      -0.004\n",
              "ExerciseAngina        0.8381      0.241      3.477      0.001       0.366       1.311\n",
              "Oldpeak               0.3607      0.116      3.111      0.002       0.133       0.588\n",
              "ChestPainType_ATA    -1.8915      0.322     -5.872      0.000      -2.523      -1.260\n",
              "ChestPainType_NAP    -1.6127      0.258     -6.249      0.000      -2.119      -1.107\n",
              "ChestPainType_TA     -1.4081      0.424     -3.319      0.001      -2.240      -0.577\n",
              "RestingECG_Normal    -0.1193      0.252     -0.473      0.636      -0.614       0.375\n",
              "RestingECG_ST        -0.1213      0.332     -0.365      0.715      -0.772       0.529\n",
              "ST_Slope_Flat         1.0815      0.422      2.564      0.010       0.255       1.908\n",
              "ST_Slope_Up          -1.2267      0.443     -2.771      0.006      -2.094      -0.359\n",
              "=====================================================================================\n",
              "\"\"\""
            ]
          },
          "metadata": {},
          "execution_count": 11
        }
      ]
    },
    {
      "cell_type": "markdown",
      "source": [
        "The results tell us that there are predictors with p-value higher than 5%. Such predictors have a low statistically significant relationship with the probability of Heart Disease. We will use Backward Elimination to remove  predictors with the highest p-value one at a time followed by running the regression repeatedly until all attributes have p-value less than 5%."
      ],
      "metadata": {
        "id": "US-jam_qtnjX"
      }
    },
    {
      "cell_type": "markdown",
      "source": [
        "Create a dataframe containing the predictors and dependent variable that will be fed into the model."
      ],
      "metadata": {
        "id": "hXVp5n9VtoIP"
      }
    },
    {
      "cell_type": "code",
      "source": [
        "heart_df_a = heart_dfb[['Age', 'Sex', 'RestingBP', 'Cholesterol', 'FastingBS',\n",
        "       'MaxHR', 'ExerciseAngina', 'Oldpeak', \n",
        "       'ChestPainType_ATA', 'ChestPainType_NAP',\n",
        "       'ChestPainType_TA', 'RestingECG_Normal', 'RestingECG_ST',\n",
        "       'ST_Slope_Flat', 'ST_Slope_Up', 'HeartDisease']]\n",
        "predictors = heart_df_a.columns[:-1]"
      ],
      "metadata": {
        "id": "2vZzm9f0tq9_"
      },
      "execution_count": null,
      "outputs": []
    },
    {
      "cell_type": "code",
      "source": [
        "def backward_elimination (df, dependent_variable, predictors):\n",
        "    while len(predictors) > 0:\n",
        "        m = Logit(df[dependent_variable], df[predictors])\n",
        "        result = m.fit()        \n",
        "        largest_pvalue = round(result.pvalues, 3).nlargest(1)\n",
        "        if (largest_pvalue[0] < (0.05)):\n",
        "            return result\n",
        "            break\n",
        "        else:\n",
        "            predictors = predictors.drop(largest_pvalue.index)\n",
        "\n",
        "result = backward_elimination(heart_df_a, 'HeartDisease', predictors)\n",
        "result.summary()"
      ],
      "metadata": {
        "colab": {
          "base_uri": "https://localhost:8080/",
          "height": 735
        },
        "id": "tn8wR3CrttU4",
        "outputId": "053a993b-81d1-4db2-b3bc-a21198d14507"
      },
      "execution_count": null,
      "outputs": [
        {
          "output_type": "stream",
          "name": "stdout",
          "text": [
            "Optimization terminated successfully.\n",
            "         Current function value: 0.331624\n",
            "         Iterations 7\n",
            "Optimization terminated successfully.\n",
            "         Current function value: 0.331658\n",
            "         Iterations 7\n",
            "Optimization terminated successfully.\n",
            "         Current function value: 0.331748\n",
            "         Iterations 7\n",
            "Optimization terminated successfully.\n",
            "         Current function value: 0.331816\n",
            "         Iterations 7\n",
            "Optimization terminated successfully.\n",
            "         Current function value: 0.332111\n",
            "         Iterations 7\n",
            "Optimization terminated successfully.\n",
            "         Current function value: 0.332947\n",
            "         Iterations 7\n"
          ]
        },
        {
          "output_type": "execute_result",
          "data": {
            "text/html": [
              "<table class=\"simpletable\">\n",
              "<caption>Logit Regression Results</caption>\n",
              "<tr>\n",
              "  <th>Dep. Variable:</th>     <td>HeartDisease</td>   <th>  No. Observations:  </th>   <td>   917</td>  \n",
              "</tr>\n",
              "<tr>\n",
              "  <th>Model:</th>                 <td>Logit</td>      <th>  Df Residuals:      </th>   <td>   907</td>  \n",
              "</tr>\n",
              "<tr>\n",
              "  <th>Method:</th>                 <td>MLE</td>       <th>  Df Model:          </th>   <td>     9</td>  \n",
              "</tr>\n",
              "<tr>\n",
              "  <th>Date:</th>            <td>Tue, 14 Dec 2021</td> <th>  Pseudo R-squ.:     </th>   <td>0.5157</td>  \n",
              "</tr>\n",
              "<tr>\n",
              "  <th>Time:</th>                <td>00:20:51</td>     <th>  Log-Likelihood:    </th>  <td> -305.31</td> \n",
              "</tr>\n",
              "<tr>\n",
              "  <th>converged:</th>             <td>True</td>       <th>  LL-Null:           </th>  <td> -630.48</td> \n",
              "</tr>\n",
              "<tr>\n",
              "  <th>Covariance Type:</th>     <td>nonrobust</td>    <th>  LLR p-value:       </th> <td>3.269e-134</td>\n",
              "</tr>\n",
              "</table>\n",
              "<table class=\"simpletable\">\n",
              "<tr>\n",
              "          <td></td>             <th>coef</th>     <th>std err</th>      <th>z</th>      <th>P>|z|</th>  <th>[0.025</th>    <th>0.975]</th>  \n",
              "</tr>\n",
              "<tr>\n",
              "  <th>Sex</th>               <td>    1.5574</td> <td>    0.257</td> <td>    6.063</td> <td> 0.000</td> <td>    1.054</td> <td>    2.061</td>\n",
              "</tr>\n",
              "<tr>\n",
              "  <th>FastingBS</th>         <td>    1.3917</td> <td>    0.260</td> <td>    5.351</td> <td> 0.000</td> <td>    0.882</td> <td>    1.902</td>\n",
              "</tr>\n",
              "<tr>\n",
              "  <th>MaxHR</th>             <td>   -0.0096</td> <td>    0.003</td> <td>   -3.308</td> <td> 0.001</td> <td>   -0.015</td> <td>   -0.004</td>\n",
              "</tr>\n",
              "<tr>\n",
              "  <th>ExerciseAngina</th>    <td>    0.8987</td> <td>    0.228</td> <td>    3.935</td> <td> 0.000</td> <td>    0.451</td> <td>    1.346</td>\n",
              "</tr>\n",
              "<tr>\n",
              "  <th>Oldpeak</th>           <td>    0.3952</td> <td>    0.111</td> <td>    3.558</td> <td> 0.000</td> <td>    0.178</td> <td>    0.613</td>\n",
              "</tr>\n",
              "<tr>\n",
              "  <th>ChestPainType_ATA</th> <td>   -1.9096</td> <td>    0.321</td> <td>   -5.941</td> <td> 0.000</td> <td>   -2.540</td> <td>   -1.280</td>\n",
              "</tr>\n",
              "<tr>\n",
              "  <th>ChestPainType_NAP</th> <td>   -1.6163</td> <td>    0.257</td> <td>   -6.301</td> <td> 0.000</td> <td>   -2.119</td> <td>   -1.114</td>\n",
              "</tr>\n",
              "<tr>\n",
              "  <th>ChestPainType_TA</th>  <td>   -1.4038</td> <td>    0.419</td> <td>   -3.346</td> <td> 0.001</td> <td>   -2.226</td> <td>   -0.582</td>\n",
              "</tr>\n",
              "<tr>\n",
              "  <th>ST_Slope_Flat</th>     <td>    1.2816</td> <td>    0.362</td> <td>    3.537</td> <td> 0.000</td> <td>    0.572</td> <td>    1.992</td>\n",
              "</tr>\n",
              "<tr>\n",
              "  <th>ST_Slope_Up</th>       <td>   -1.0679</td> <td>    0.397</td> <td>   -2.689</td> <td> 0.007</td> <td>   -1.846</td> <td>   -0.289</td>\n",
              "</tr>\n",
              "</table>"
            ],
            "text/plain": [
              "<class 'statsmodels.iolib.summary.Summary'>\n",
              "\"\"\"\n",
              "                           Logit Regression Results                           \n",
              "==============================================================================\n",
              "Dep. Variable:           HeartDisease   No. Observations:                  917\n",
              "Model:                          Logit   Df Residuals:                      907\n",
              "Method:                           MLE   Df Model:                            9\n",
              "Date:                Tue, 14 Dec 2021   Pseudo R-squ.:                  0.5157\n",
              "Time:                        00:20:51   Log-Likelihood:                -305.31\n",
              "converged:                       True   LL-Null:                       -630.48\n",
              "Covariance Type:            nonrobust   LLR p-value:                3.269e-134\n",
              "=====================================================================================\n",
              "                        coef    std err          z      P>|z|      [0.025      0.975]\n",
              "-------------------------------------------------------------------------------------\n",
              "Sex                   1.5574      0.257      6.063      0.000       1.054       2.061\n",
              "FastingBS             1.3917      0.260      5.351      0.000       0.882       1.902\n",
              "MaxHR                -0.0096      0.003     -3.308      0.001      -0.015      -0.004\n",
              "ExerciseAngina        0.8987      0.228      3.935      0.000       0.451       1.346\n",
              "Oldpeak               0.3952      0.111      3.558      0.000       0.178       0.613\n",
              "ChestPainType_ATA    -1.9096      0.321     -5.941      0.000      -2.540      -1.280\n",
              "ChestPainType_NAP    -1.6163      0.257     -6.301      0.000      -2.119      -1.114\n",
              "ChestPainType_TA     -1.4038      0.419     -3.346      0.001      -2.226      -0.582\n",
              "ST_Slope_Flat         1.2816      0.362      3.537      0.000       0.572       1.992\n",
              "ST_Slope_Up          -1.0679      0.397     -2.689      0.007      -1.846      -0.289\n",
              "=====================================================================================\n",
              "\"\"\""
            ]
          },
          "metadata": {},
          "execution_count": 13
        }
      ]
    },
    {
      "cell_type": "markdown",
      "source": [
        "The results summary of the final model shows that all remaining predictors have a p-value less than 5%. These predictors are:\n",
        "1. Sex\n",
        "2. FastingBS\n",
        "3. MaxHR\n",
        "4. ExerciseAngina\n",
        "5. Oldpeak\n",
        "6. ChestPainType (dummy variables)\n",
        "7. ST_Slope (dummy variables)"
      ],
      "metadata": {
        "id": "o_HuHpN-t_be"
      }
    },
    {
      "cell_type": "markdown",
      "source": [
        "**Derive the estimates of the odds ratio, confidence intervals and p-values**"
      ],
      "metadata": {
        "id": "ojQFUpCcuD-P"
      }
    },
    {
      "cell_type": "code",
      "source": [
        "params = np.exp(result.params)\n",
        "conf = np.exp(result.conf_int())\n",
        "conf['oddsratio'] = params\n",
        "pvalue = round(result.pvalues,3)\n",
        "conf['pvalue'] = pvalue\n",
        "conf.columns = ['CI 95%(2.5%)','CI 95%(97.5%)', 'Odds Ratio', 'pvalue']\n",
        "conf"
      ],
      "metadata": {
        "colab": {
          "base_uri": "https://localhost:8080/",
          "height": 363
        },
        "id": "k5OIMt-quFS_",
        "outputId": "906d0bb2-7da2-44dc-e6a1-9da1074ddf8a"
      },
      "execution_count": null,
      "outputs": [
        {
          "output_type": "execute_result",
          "data": {
            "text/html": [
              "<div>\n",
              "<style scoped>\n",
              "    .dataframe tbody tr th:only-of-type {\n",
              "        vertical-align: middle;\n",
              "    }\n",
              "\n",
              "    .dataframe tbody tr th {\n",
              "        vertical-align: top;\n",
              "    }\n",
              "\n",
              "    .dataframe thead th {\n",
              "        text-align: right;\n",
              "    }\n",
              "</style>\n",
              "<table border=\"1\" class=\"dataframe\">\n",
              "  <thead>\n",
              "    <tr style=\"text-align: right;\">\n",
              "      <th></th>\n",
              "      <th>CI 95%(2.5%)</th>\n",
              "      <th>CI 95%(97.5%)</th>\n",
              "      <th>Odds Ratio</th>\n",
              "      <th>pvalue</th>\n",
              "    </tr>\n",
              "  </thead>\n",
              "  <tbody>\n",
              "    <tr>\n",
              "      <th>Sex</th>\n",
              "      <td>2.868938</td>\n",
              "      <td>7.852380</td>\n",
              "      <td>4.746366</td>\n",
              "      <td>0.000</td>\n",
              "    </tr>\n",
              "    <tr>\n",
              "      <th>FastingBS</th>\n",
              "      <td>2.415624</td>\n",
              "      <td>6.696069</td>\n",
              "      <td>4.021838</td>\n",
              "      <td>0.000</td>\n",
              "    </tr>\n",
              "    <tr>\n",
              "      <th>MaxHR</th>\n",
              "      <td>0.984843</td>\n",
              "      <td>0.996099</td>\n",
              "      <td>0.990455</td>\n",
              "      <td>0.001</td>\n",
              "    </tr>\n",
              "    <tr>\n",
              "      <th>ExerciseAngina</th>\n",
              "      <td>1.570016</td>\n",
              "      <td>3.843474</td>\n",
              "      <td>2.456485</td>\n",
              "      <td>0.000</td>\n",
              "    </tr>\n",
              "    <tr>\n",
              "      <th>Oldpeak</th>\n",
              "      <td>1.194234</td>\n",
              "      <td>1.845831</td>\n",
              "      <td>1.484707</td>\n",
              "      <td>0.000</td>\n",
              "    </tr>\n",
              "    <tr>\n",
              "      <th>ChestPainType_ATA</th>\n",
              "      <td>0.078894</td>\n",
              "      <td>0.278150</td>\n",
              "      <td>0.148136</td>\n",
              "      <td>0.000</td>\n",
              "    </tr>\n",
              "    <tr>\n",
              "      <th>ChestPainType_NAP</th>\n",
              "      <td>0.120146</td>\n",
              "      <td>0.328382</td>\n",
              "      <td>0.198630</td>\n",
              "      <td>0.000</td>\n",
              "    </tr>\n",
              "    <tr>\n",
              "      <th>ChestPainType_TA</th>\n",
              "      <td>0.107963</td>\n",
              "      <td>0.559023</td>\n",
              "      <td>0.245670</td>\n",
              "      <td>0.001</td>\n",
              "    </tr>\n",
              "    <tr>\n",
              "      <th>ST_Slope_Flat</th>\n",
              "      <td>1.770941</td>\n",
              "      <td>7.327671</td>\n",
              "      <td>3.602342</td>\n",
              "      <td>0.000</td>\n",
              "    </tr>\n",
              "    <tr>\n",
              "      <th>ST_Slope_Up</th>\n",
              "      <td>0.157824</td>\n",
              "      <td>0.748647</td>\n",
              "      <td>0.343736</td>\n",
              "      <td>0.007</td>\n",
              "    </tr>\n",
              "  </tbody>\n",
              "</table>\n",
              "</div>"
            ],
            "text/plain": [
              "                   CI 95%(2.5%)  CI 95%(97.5%)  Odds Ratio  pvalue\n",
              "Sex                    2.868938       7.852380    4.746366   0.000\n",
              "FastingBS              2.415624       6.696069    4.021838   0.000\n",
              "MaxHR                  0.984843       0.996099    0.990455   0.001\n",
              "ExerciseAngina         1.570016       3.843474    2.456485   0.000\n",
              "Oldpeak                1.194234       1.845831    1.484707   0.000\n",
              "ChestPainType_ATA      0.078894       0.278150    0.148136   0.000\n",
              "ChestPainType_NAP      0.120146       0.328382    0.198630   0.000\n",
              "ChestPainType_TA       0.107963       0.559023    0.245670   0.001\n",
              "ST_Slope_Flat          1.770941       7.327671    3.602342   0.000\n",
              "ST_Slope_Up            0.157824       0.748647    0.343736   0.007"
            ]
          },
          "metadata": {},
          "execution_count": 14
        }
      ]
    },
    {
      "cell_type": "markdown",
      "source": [
        "**Interpretation of the Odds Ratio**"
      ],
      "metadata": {
        "id": "OGboa08JuG9u"
      }
    },
    {
      "cell_type": "markdown",
      "source": [
        "**Sex** - The odds of getting diagnosed with Heart Disease for males over that of females is 4.75. In terms of percent change, we can say that the odds for males getting diagnosed are 375% higher than the odds for females.\n",
        "\n",
        "**FastingBS** - With an odds ratio of 4.02, patients with fasting blood sugar higher than 120mg/dl are 302% more likely to be diagnosed with heart disease than patients with lower fasting blood sugar levels.\n",
        "\n",
        "**MaxHR** - An odds ratio close to 1 implies there is equal probability between event and non-event. Therefore, patients with high MaxHR are just as likely to be diagnosed with heart disease as patients with low MaxHR.\n",
        "\n",
        "**ExerciseAngina** - Patients displaying exercise angina are 146% more likely to have heart disease than patients who do not.\n",
        "\n",
        "**Oldpeak** - Old peak is a discrete variable defined as the ST segment depression induced by exercise relative to rest, where values higher than 1.5 indicate risk. An odds ratio of 1.48 signifies that with every increase in 1 ST depression, the probability that the patient will be diagnosed with heart disease increases by 48%.\n",
        "\n",
        "**ChestPainType** - ATA (atypical angina): 0.15, NAP (non-anginal pain): 0.20, TA (typical angina): 0.25. The odds ratios for all three types of chest pain are below 1, signifying that patients with these types of chest pain are less likely to have heart disease, compared to those who have the reference type - asymptomatic. Overall, patients with atypical angina pain are the least likely to have heart disease and are 85% less likely when compared to patients with asymptomic chest pain.\n",
        "\n",
        "**ST Slope** - Flat: 3.60, up: 0.24. The reference for ST slope is down. Patients with flat ST slope are 260% more likely to have heart disease compared to those with down ST slope. Those with up ST slope are 76% less likely to have heart disease compared to those possessing the reference ST type (i.e. down slope).\n"
      ],
      "metadata": {
        "id": "zQEtZqFtuHUW"
      }
    },
    {
      "cell_type": "markdown",
      "source": [
        "**Evaluation Metrics:**"
      ],
      "metadata": {
        "id": "u_wsubwmuM9l"
      }
    },
    {
      "cell_type": "code",
      "source": [
        "conf_mat = m.pred_table()\n",
        "print ('Confusion Matrix:')\n",
        "print (conf_mat)"
      ],
      "metadata": {
        "colab": {
          "base_uri": "https://localhost:8080/"
        },
        "id": "eDlIGza_uNYl",
        "outputId": "ba5ec1c2-cb52-49b7-8457-f94eecf8a2ad"
      },
      "execution_count": null,
      "outputs": [
        {
          "output_type": "stream",
          "name": "stdout",
          "text": [
            "Confusion Matrix:\n",
            "[[341.  69.]\n",
            " [ 55. 452.]]\n"
          ]
        }
      ]
    },
    {
      "cell_type": "code",
      "source": [
        "tn, fp, fn, tp = conf_mat.flatten()\n",
        "print ('TN, FP, FN, TP:')\n",
        "print (tn, fp, fn, tp)"
      ],
      "metadata": {
        "colab": {
          "base_uri": "https://localhost:8080/"
        },
        "id": "E5PHvCUjuQC1",
        "outputId": "1f275464-b3e0-42db-f8d8-eb3411c5ced7"
      },
      "execution_count": null,
      "outputs": [
        {
          "output_type": "stream",
          "name": "stdout",
          "text": [
            "TN, FP, FN, TP:\n",
            "341.0 69.0 55.0 452.0\n"
          ]
        }
      ]
    },
    {
      "cell_type": "code",
      "source": [
        "acc = (tp + tn) / np.sum(conf_mat)\n",
        "mcc = (tp * tn - fp * fn)/np.sqrt((tp + fp)*(tp + fn)*(tn + fp)*(tn + fn))\n",
        "prc = tp / (tp + fp)\n",
        "rec = tp / (tp + fn)\n",
        "print (\"Accuracy of the model is: %1.2f\" % acc)\n",
        "print (\"Mathews correlation coefficient between the estimates and the true response is: %1.2f\" % mcc)\n",
        "print (\"Model's precision is %1.2f and its recall is %1.2f\" % (prc, rec))"
      ],
      "metadata": {
        "colab": {
          "base_uri": "https://localhost:8080/"
        },
        "id": "1ClztR7ruQXd",
        "outputId": "2834bb60-4f0f-4ba4-defa-908ecff65a58"
      },
      "execution_count": null,
      "outputs": [
        {
          "output_type": "stream",
          "name": "stdout",
          "text": [
            "Accuracy of the model is: 0.86\n",
            "Mathews correlation coefficient between the estimates and the true response is: 0.73\n",
            "Model's precision is 0.87 and its recall is 0.89\n"
          ]
        }
      ]
    },
    {
      "cell_type": "markdown",
      "source": [
        "Now, let's plot the ROC curve."
      ],
      "metadata": {
        "id": "H7M4yrwquT8n"
      }
    },
    {
      "cell_type": "code",
      "source": [
        "def plot_ROC (m):\n",
        "    ths = np.arange(0., 1.0, 0.005)\n",
        "    sensitivity = []\n",
        "    specificity = []\n",
        "    accuracy = []\n",
        "    matthews = []\n",
        "\n",
        "    for th in ths:\n",
        "        conf_mat = m.pred_table(threshold=th)\n",
        "        tn, fp, fn, tp = conf_mat.flatten()\n",
        "\n",
        "        sens = (1. * tp) / (tp + fn)\n",
        "        spec = (1. * tn) / (tn + fp)    \n",
        "        acc = (tp + tn) / np.sum(conf_mat)\n",
        "        mcc = (tp * tn - fp * fn)/np.sqrt((tp + fp)*(tp + fn)*(tn + fp)*(tn + fn))\n",
        "\n",
        "        sensitivity.append(sens)\n",
        "        specificity.append(spec)\n",
        "        accuracy.append(acc)\n",
        "        matthews.append(mcc)\n",
        "\n",
        "    roc = pd.DataFrame({'discret_thr' : ths, \n",
        "              'sensitivity' : sensitivity, \n",
        "              'specificity' : specificity,\n",
        "              '_specificity' : [1 - x for x in specificity],\n",
        "              'accuracy' : accuracy, \n",
        "              'matthews' : matthews})\n",
        "\n",
        "    roc = roc.sort_values(by = \"_specificity\")\n",
        "    auc = np.trapz(y = roc.sensitivity, x = roc._specificity)\n",
        "    print (\"Area under ROC curve = %1.2f\" % auc)\n",
        "    \n",
        "    J = max(roc.sensitivity + roc.specificity - 1)\n",
        "    print ('Youden\\'s J = %1.2f' % J)\n",
        "    \n",
        "    idx_default_th = np.where(roc.discret_thr == 0.5)[0][0]\n",
        "    idx_youdensj = np.argmax(roc.sensitivity + roc.specificity)\n",
        "    idx_ballance = np.argmin(np.abs(roc.sensitivity - roc.specificity))\n",
        "    idx_maxacc = np.argmax(roc.accuracy)\n",
        "    idx_maxmcc = np.argmax(roc.matthews)\n",
        "    \n",
        "    plt.plot(roc._specificity, roc.sensitivity, label = 'ROC')\n",
        "\n",
        "    plt.plot(np.arange(0., 1., 0.01), \n",
        "             np.arange(0., 1., 0.01), \n",
        "             '--')\n",
        "\n",
        "    plt.plot(roc._specificity[idx_default_th], \n",
        "             roc.sensitivity[idx_default_th], \n",
        "             's', color = 'blue',\n",
        "             label = 'Default')\n",
        "\n",
        "    plt.plot(roc._specificity[idx_youdensj], \n",
        "             roc.sensitivity[idx_youdensj], \n",
        "             's', color = 'red',\n",
        "             label = 'Max(Spec. + Sens.)')\n",
        "\n",
        "    plt.plot(roc._specificity[idx_ballance], \n",
        "             roc.sensitivity[idx_ballance], \n",
        "             's', color = 'green', \n",
        "             label = 'Spec. = Sens.')\n",
        "    \n",
        "    plt.plot(roc._specificity[idx_maxacc], \n",
        "             roc.sensitivity[idx_maxacc], \n",
        "             's', color = 'purple',\n",
        "             label = 'Max. Accuracy')\n",
        "\n",
        "    plt.plot(roc._specificity[idx_maxmcc], \n",
        "             roc.sensitivity[idx_maxmcc], \n",
        "             '^', color = 'cyan', \n",
        "             label = 'Max. MCC')\n",
        "\n",
        "    plt.legend(loc = 4)\n",
        "    plt.xlabel('1 - Specificity')\n",
        "    plt.ylabel('Sensitivity')\n",
        "    plt.show()"
      ],
      "metadata": {
        "id": "XLl0GGoLuRTN"
      },
      "execution_count": null,
      "outputs": []
    },
    {
      "cell_type": "code",
      "source": [
        "plot_ROC(result)"
      ],
      "metadata": {
        "colab": {
          "base_uri": "https://localhost:8080/",
          "height": 374
        },
        "id": "X0oEEPEaqSMG",
        "outputId": "2fc275d8-4693-4409-bcca-53bc538b847e"
      },
      "execution_count": null,
      "outputs": [
        {
          "output_type": "stream",
          "name": "stdout",
          "text": [
            "Area under ROC curve = 0.93\n",
            "Youden's J = 0.74\n"
          ]
        },
        {
          "output_type": "stream",
          "name": "stderr",
          "text": [
            "/usr/local/lib/python3.7/dist-packages/ipykernel_launcher.py:15: RuntimeWarning: invalid value encountered in double_scalars\n",
            "  from ipykernel import kernelapp as app\n"
          ]
        },
        {
          "output_type": "display_data",
          "data": {
            "image/png": "[encoded data removed]",
            "text/plain": [
              "<Figure size 432x288 with 1 Axes>"
            ]
          },
          "metadata": {
            "needs_background": "light"
          }
        }
      ]
    },
    {
      "cell_type": "markdown",
      "source": [
        "**Evaluation of the Logistic Regression Model**"
      ],
      "metadata": {
        "id": "UwZySgbkuZd1"
      }
    },
    {
      "cell_type": "markdown",
      "source": [
        "Accuracy, precision, recall and MCC of the model are all fairly close to 1. This indicates that the predictions of whether a patient has Heart Disease, as produced by the model, closely match with the observed results. The ROC curve is close to the error-free point, and Youden's J value is 0.74. As it is fairly close to 1, the value which indicates a perfect model, we can confirm that our model fits the given overall data well. The most significant attributes to be used for predicting heart disease are sex, fasting blood sugar, maximum heart rate, exercise angina, oldpeak, chest pain type and ST slope type."
      ],
      "metadata": {
        "id": "VoiPGCUnuZ-D"
      }
    },
    {
      "cell_type": "markdown",
      "source": [
        "##Data Segmentation by Sex"
      ],
      "metadata": {
        "id": "P1YLemtCx-tf"
      }
    },
    {
      "cell_type": "markdown",
      "source": [
        "As the data includes significant more male patients than female patients, we will look at the two groups separately and determine if there are differences between the significant predictors of heart disease."
      ],
      "metadata": {
        "id": "ASiZcz2kySNe"
      }
    },
    {
      "cell_type": "markdown",
      "metadata": {
        "id": "nHdkNwPqGpwq"
      },
      "source": [
        "**Overview of Data by Sex**"
      ]
    },
    {
      "cell_type": "code",
      "source": [
        "heart_df_a.groupby(['Sex']).mean()"
      ],
      "metadata": {
        "id": "KboKSYcuARGy",
        "outputId": "fa1d6ab1-0876-4c55-c8cf-4367d6eb76b0",
        "colab": {
          "base_uri": "https://localhost:8080/",
          "height": 163
        }
      },
      "execution_count": null,
      "outputs": [
        {
          "output_type": "execute_result",
          "data": {
            "text/html": [
              "<div>\n",
              "<style scoped>\n",
              "    .dataframe tbody tr th:only-of-type {\n",
              "        vertical-align: middle;\n",
              "    }\n",
              "\n",
              "    .dataframe tbody tr th {\n",
              "        vertical-align: top;\n",
              "    }\n",
              "\n",
              "    .dataframe thead th {\n",
              "        text-align: right;\n",
              "    }\n",
              "</style>\n",
              "<table border=\"1\" class=\"dataframe\">\n",
              "  <thead>\n",
              "    <tr style=\"text-align: right;\">\n",
              "      <th></th>\n",
              "      <th>Age</th>\n",
              "      <th>RestingBP</th>\n",
              "      <th>Cholesterol</th>\n",
              "      <th>FastingBS</th>\n",
              "      <th>MaxHR</th>\n",
              "      <th>ExerciseAngina</th>\n",
              "      <th>Oldpeak</th>\n",
              "      <th>ChestPainType_ATA</th>\n",
              "      <th>ChestPainType_NAP</th>\n",
              "      <th>ChestPainType_TA</th>\n",
              "      <th>RestingECG_Normal</th>\n",
              "      <th>RestingECG_ST</th>\n",
              "      <th>ST_Slope_Flat</th>\n",
              "      <th>ST_Slope_Up</th>\n",
              "      <th>HeartDisease</th>\n",
              "    </tr>\n",
              "    <tr>\n",
              "      <th>Sex</th>\n",
              "      <th></th>\n",
              "      <th></th>\n",
              "      <th></th>\n",
              "      <th></th>\n",
              "      <th></th>\n",
              "      <th></th>\n",
              "      <th></th>\n",
              "      <th></th>\n",
              "      <th></th>\n",
              "      <th></th>\n",
              "      <th></th>\n",
              "      <th></th>\n",
              "      <th></th>\n",
              "      <th></th>\n",
              "      <th></th>\n",
              "    </tr>\n",
              "  </thead>\n",
              "  <tbody>\n",
              "    <tr>\n",
              "      <th>0</th>\n",
              "      <td>52.492228</td>\n",
              "      <td>132.212435</td>\n",
              "      <td>255.139841</td>\n",
              "      <td>0.134715</td>\n",
              "      <td>146.139896</td>\n",
              "      <td>0.222798</td>\n",
              "      <td>0.668912</td>\n",
              "      <td>0.310881</td>\n",
              "      <td>0.274611</td>\n",
              "      <td>0.051813</td>\n",
              "      <td>0.611399</td>\n",
              "      <td>0.145078</td>\n",
              "      <td>0.388601</td>\n",
              "      <td>0.575130</td>\n",
              "      <td>0.259067</td>\n",
              "    </tr>\n",
              "    <tr>\n",
              "      <th>1</th>\n",
              "      <td>53.780387</td>\n",
              "      <td>132.628453</td>\n",
              "      <td>241.835169</td>\n",
              "      <td>0.259669</td>\n",
              "      <td>134.296961</td>\n",
              "      <td>0.453039</td>\n",
              "      <td>0.944751</td>\n",
              "      <td>0.156077</td>\n",
              "      <td>0.205801</td>\n",
              "      <td>0.049724</td>\n",
              "      <td>0.598066</td>\n",
              "      <td>0.207182</td>\n",
              "      <td>0.530387</td>\n",
              "      <td>0.392265</td>\n",
              "      <td>0.631215</td>\n",
              "    </tr>\n",
              "  </tbody>\n",
              "</table>\n",
              "</div>"
            ],
            "text/plain": [
              "           Age   RestingBP  ...  ST_Slope_Up  HeartDisease\n",
              "Sex                         ...                           \n",
              "0    52.492228  132.212435  ...     0.575130      0.259067\n",
              "1    53.780387  132.628453  ...     0.392265      0.631215\n",
              "\n",
              "[2 rows x 15 columns]"
            ]
          },
          "metadata": {},
          "execution_count": 20
        }
      ]
    },
    {
      "cell_type": "code",
      "source": [
        "heart_df_a.groupby(['Sex']).median()"
      ],
      "metadata": {
        "id": "-I8ZJSJQAU1f",
        "outputId": "566cffde-1e95-4066-867c-c7e231c94baf",
        "colab": {
          "base_uri": "https://localhost:8080/",
          "height": 163
        }
      },
      "execution_count": null,
      "outputs": [
        {
          "output_type": "execute_result",
          "data": {
            "text/html": [
              "<div>\n",
              "<style scoped>\n",
              "    .dataframe tbody tr th:only-of-type {\n",
              "        vertical-align: middle;\n",
              "    }\n",
              "\n",
              "    .dataframe tbody tr th {\n",
              "        vertical-align: top;\n",
              "    }\n",
              "\n",
              "    .dataframe thead th {\n",
              "        text-align: right;\n",
              "    }\n",
              "</style>\n",
              "<table border=\"1\" class=\"dataframe\">\n",
              "  <thead>\n",
              "    <tr style=\"text-align: right;\">\n",
              "      <th></th>\n",
              "      <th>Age</th>\n",
              "      <th>RestingBP</th>\n",
              "      <th>Cholesterol</th>\n",
              "      <th>FastingBS</th>\n",
              "      <th>MaxHR</th>\n",
              "      <th>ExerciseAngina</th>\n",
              "      <th>Oldpeak</th>\n",
              "      <th>ChestPainType_ATA</th>\n",
              "      <th>ChestPainType_NAP</th>\n",
              "      <th>ChestPainType_TA</th>\n",
              "      <th>RestingECG_Normal</th>\n",
              "      <th>RestingECG_ST</th>\n",
              "      <th>ST_Slope_Flat</th>\n",
              "      <th>ST_Slope_Up</th>\n",
              "      <th>HeartDisease</th>\n",
              "    </tr>\n",
              "    <tr>\n",
              "      <th>Sex</th>\n",
              "      <th></th>\n",
              "      <th></th>\n",
              "      <th></th>\n",
              "      <th></th>\n",
              "      <th></th>\n",
              "      <th></th>\n",
              "      <th></th>\n",
              "      <th></th>\n",
              "      <th></th>\n",
              "      <th></th>\n",
              "      <th></th>\n",
              "      <th></th>\n",
              "      <th></th>\n",
              "      <th></th>\n",
              "      <th></th>\n",
              "    </tr>\n",
              "  </thead>\n",
              "  <tbody>\n",
              "    <tr>\n",
              "      <th>0</th>\n",
              "      <td>53</td>\n",
              "      <td>130.0</td>\n",
              "      <td>244.635389</td>\n",
              "      <td>0</td>\n",
              "      <td>150</td>\n",
              "      <td>0</td>\n",
              "      <td>0.0</td>\n",
              "      <td>0</td>\n",
              "      <td>0</td>\n",
              "      <td>0</td>\n",
              "      <td>1</td>\n",
              "      <td>0</td>\n",
              "      <td>0</td>\n",
              "      <td>1</td>\n",
              "      <td>0</td>\n",
              "    </tr>\n",
              "    <tr>\n",
              "      <th>1</th>\n",
              "      <td>55</td>\n",
              "      <td>130.0</td>\n",
              "      <td>244.635389</td>\n",
              "      <td>0</td>\n",
              "      <td>134</td>\n",
              "      <td>0</td>\n",
              "      <td>0.8</td>\n",
              "      <td>0</td>\n",
              "      <td>0</td>\n",
              "      <td>0</td>\n",
              "      <td>1</td>\n",
              "      <td>0</td>\n",
              "      <td>1</td>\n",
              "      <td>0</td>\n",
              "      <td>1</td>\n",
              "    </tr>\n",
              "  </tbody>\n",
              "</table>\n",
              "</div>"
            ],
            "text/plain": [
              "     Age  RestingBP  Cholesterol  ...  ST_Slope_Flat  ST_Slope_Up  HeartDisease\n",
              "Sex                               ...                                          \n",
              "0     53      130.0   244.635389  ...              0            1             0\n",
              "1     55      130.0   244.635389  ...              1            0             1\n",
              "\n",
              "[2 rows x 15 columns]"
            ]
          },
          "metadata": {},
          "execution_count": 21
        }
      ]
    },
    {
      "cell_type": "code",
      "source": [
        "heart_df_a.groupby(['Sex']).std()"
      ],
      "metadata": {
        "id": "-_WpARsLAXq5",
        "outputId": "b58b2e26-d8b1-4621-b5c4-876ff60192ee",
        "colab": {
          "base_uri": "https://localhost:8080/",
          "height": 163
        }
      },
      "execution_count": null,
      "outputs": [
        {
          "output_type": "execute_result",
          "data": {
            "text/html": [
              "<div>\n",
              "<style scoped>\n",
              "    .dataframe tbody tr th:only-of-type {\n",
              "        vertical-align: middle;\n",
              "    }\n",
              "\n",
              "    .dataframe tbody tr th {\n",
              "        vertical-align: top;\n",
              "    }\n",
              "\n",
              "    .dataframe thead th {\n",
              "        text-align: right;\n",
              "    }\n",
              "</style>\n",
              "<table border=\"1\" class=\"dataframe\">\n",
              "  <thead>\n",
              "    <tr style=\"text-align: right;\">\n",
              "      <th></th>\n",
              "      <th>Age</th>\n",
              "      <th>RestingBP</th>\n",
              "      <th>Cholesterol</th>\n",
              "      <th>FastingBS</th>\n",
              "      <th>MaxHR</th>\n",
              "      <th>ExerciseAngina</th>\n",
              "      <th>Oldpeak</th>\n",
              "      <th>ChestPainType_ATA</th>\n",
              "      <th>ChestPainType_NAP</th>\n",
              "      <th>ChestPainType_TA</th>\n",
              "      <th>RestingECG_Normal</th>\n",
              "      <th>RestingECG_ST</th>\n",
              "      <th>ST_Slope_Flat</th>\n",
              "      <th>ST_Slope_Up</th>\n",
              "      <th>HeartDisease</th>\n",
              "    </tr>\n",
              "    <tr>\n",
              "      <th>Sex</th>\n",
              "      <th></th>\n",
              "      <th></th>\n",
              "      <th></th>\n",
              "      <th></th>\n",
              "      <th></th>\n",
              "      <th></th>\n",
              "      <th></th>\n",
              "      <th></th>\n",
              "      <th></th>\n",
              "      <th></th>\n",
              "      <th></th>\n",
              "      <th></th>\n",
              "      <th></th>\n",
              "      <th></th>\n",
              "      <th></th>\n",
              "    </tr>\n",
              "  </thead>\n",
              "  <tbody>\n",
              "    <tr>\n",
              "      <th>0</th>\n",
              "      <td>9.517593</td>\n",
              "      <td>19.392638</td>\n",
              "      <td>61.078028</td>\n",
              "      <td>0.342307</td>\n",
              "      <td>22.154902</td>\n",
              "      <td>0.417206</td>\n",
              "      <td>0.956865</td>\n",
              "      <td>0.464058</td>\n",
              "      <td>0.447479</td>\n",
              "      <td>0.222227</td>\n",
              "      <td>0.488700</td>\n",
              "      <td>0.353095</td>\n",
              "      <td>0.488700</td>\n",
              "      <td>0.495609</td>\n",
              "      <td>0.439262</td>\n",
              "    </tr>\n",
              "    <tr>\n",
              "      <th>1</th>\n",
              "      <td>9.404252</td>\n",
              "      <td>17.623033</td>\n",
              "      <td>50.770339</td>\n",
              "      <td>0.438756</td>\n",
              "      <td>25.725467</td>\n",
              "      <td>0.498134</td>\n",
              "      <td>1.087710</td>\n",
              "      <td>0.363180</td>\n",
              "      <td>0.404565</td>\n",
              "      <td>0.217524</td>\n",
              "      <td>0.490628</td>\n",
              "      <td>0.405567</td>\n",
              "      <td>0.499421</td>\n",
              "      <td>0.488593</td>\n",
              "      <td>0.482809</td>\n",
              "    </tr>\n",
              "  </tbody>\n",
              "</table>\n",
              "</div>"
            ],
            "text/plain": [
              "          Age  RestingBP  Cholesterol  ...  ST_Slope_Flat  ST_Slope_Up  HeartDisease\n",
              "Sex                                    ...                                          \n",
              "0    9.517593  19.392638    61.078028  ...       0.488700     0.495609      0.439262\n",
              "1    9.404252  17.623033    50.770339  ...       0.499421     0.488593      0.482809\n",
              "\n",
              "[2 rows x 15 columns]"
            ]
          },
          "metadata": {},
          "execution_count": 22
        }
      ]
    },
    {
      "cell_type": "code",
      "source": [
        "heart_df_M = heart_df_a[heart_df.Sex == 1]\n",
        "heart_df_M.drop('Sex',axis=1, inplace=True)\n",
        "heart_df_F = heart_df_a[heart_df.Sex == 0]\n",
        "heart_df_F.drop('Sex',axis=1, inplace=True)\n",
        "heart_df_F.head()"
      ],
      "metadata": {
        "id": "ChBpNI51AdqE",
        "outputId": "66ef4f5b-c19f-40ea-a8fd-a29ed81b8b36",
        "colab": {
          "base_uri": "https://localhost:8080/",
          "height": 400
        }
      },
      "execution_count": null,
      "outputs": [
        {
          "output_type": "stream",
          "name": "stderr",
          "text": [
            "/usr/local/lib/python3.7/dist-packages/pandas/core/frame.py:4174: SettingWithCopyWarning: \n",
            "A value is trying to be set on a copy of a slice from a DataFrame\n",
            "\n",
            "See the caveats in the documentation: https://pandas.pydata.org/pandas-docs/stable/user_guide/indexing.html#returning-a-view-versus-a-copy\n",
            "  errors=errors,\n",
            "/usr/local/lib/python3.7/dist-packages/pandas/core/frame.py:4174: SettingWithCopyWarning: \n",
            "A value is trying to be set on a copy of a slice from a DataFrame\n",
            "\n",
            "See the caveats in the documentation: https://pandas.pydata.org/pandas-docs/stable/user_guide/indexing.html#returning-a-view-versus-a-copy\n",
            "  errors=errors,\n"
          ]
        },
        {
          "output_type": "execute_result",
          "data": {
            "text/html": [
              "<div>\n",
              "<style scoped>\n",
              "    .dataframe tbody tr th:only-of-type {\n",
              "        vertical-align: middle;\n",
              "    }\n",
              "\n",
              "    .dataframe tbody tr th {\n",
              "        vertical-align: top;\n",
              "    }\n",
              "\n",
              "    .dataframe thead th {\n",
              "        text-align: right;\n",
              "    }\n",
              "</style>\n",
              "<table border=\"1\" class=\"dataframe\">\n",
              "  <thead>\n",
              "    <tr style=\"text-align: right;\">\n",
              "      <th></th>\n",
              "      <th>Age</th>\n",
              "      <th>RestingBP</th>\n",
              "      <th>Cholesterol</th>\n",
              "      <th>FastingBS</th>\n",
              "      <th>MaxHR</th>\n",
              "      <th>ExerciseAngina</th>\n",
              "      <th>Oldpeak</th>\n",
              "      <th>ChestPainType_ATA</th>\n",
              "      <th>ChestPainType_NAP</th>\n",
              "      <th>ChestPainType_TA</th>\n",
              "      <th>RestingECG_Normal</th>\n",
              "      <th>RestingECG_ST</th>\n",
              "      <th>ST_Slope_Flat</th>\n",
              "      <th>ST_Slope_Up</th>\n",
              "      <th>HeartDisease</th>\n",
              "    </tr>\n",
              "  </thead>\n",
              "  <tbody>\n",
              "    <tr>\n",
              "      <th>1</th>\n",
              "      <td>49</td>\n",
              "      <td>160.0</td>\n",
              "      <td>180.0</td>\n",
              "      <td>0</td>\n",
              "      <td>156</td>\n",
              "      <td>0</td>\n",
              "      <td>1.0</td>\n",
              "      <td>0</td>\n",
              "      <td>1</td>\n",
              "      <td>0</td>\n",
              "      <td>1</td>\n",
              "      <td>0</td>\n",
              "      <td>1</td>\n",
              "      <td>0</td>\n",
              "      <td>1</td>\n",
              "    </tr>\n",
              "    <tr>\n",
              "      <th>3</th>\n",
              "      <td>48</td>\n",
              "      <td>138.0</td>\n",
              "      <td>214.0</td>\n",
              "      <td>0</td>\n",
              "      <td>108</td>\n",
              "      <td>1</td>\n",
              "      <td>1.5</td>\n",
              "      <td>0</td>\n",
              "      <td>0</td>\n",
              "      <td>0</td>\n",
              "      <td>1</td>\n",
              "      <td>0</td>\n",
              "      <td>1</td>\n",
              "      <td>0</td>\n",
              "      <td>1</td>\n",
              "    </tr>\n",
              "    <tr>\n",
              "      <th>6</th>\n",
              "      <td>45</td>\n",
              "      <td>130.0</td>\n",
              "      <td>237.0</td>\n",
              "      <td>0</td>\n",
              "      <td>170</td>\n",
              "      <td>0</td>\n",
              "      <td>0.0</td>\n",
              "      <td>1</td>\n",
              "      <td>0</td>\n",
              "      <td>0</td>\n",
              "      <td>1</td>\n",
              "      <td>0</td>\n",
              "      <td>0</td>\n",
              "      <td>1</td>\n",
              "      <td>0</td>\n",
              "    </tr>\n",
              "    <tr>\n",
              "      <th>9</th>\n",
              "      <td>48</td>\n",
              "      <td>120.0</td>\n",
              "      <td>284.0</td>\n",
              "      <td>0</td>\n",
              "      <td>120</td>\n",
              "      <td>0</td>\n",
              "      <td>0.0</td>\n",
              "      <td>1</td>\n",
              "      <td>0</td>\n",
              "      <td>0</td>\n",
              "      <td>1</td>\n",
              "      <td>0</td>\n",
              "      <td>0</td>\n",
              "      <td>1</td>\n",
              "      <td>0</td>\n",
              "    </tr>\n",
              "    <tr>\n",
              "      <th>10</th>\n",
              "      <td>37</td>\n",
              "      <td>130.0</td>\n",
              "      <td>211.0</td>\n",
              "      <td>0</td>\n",
              "      <td>142</td>\n",
              "      <td>0</td>\n",
              "      <td>0.0</td>\n",
              "      <td>0</td>\n",
              "      <td>1</td>\n",
              "      <td>0</td>\n",
              "      <td>1</td>\n",
              "      <td>0</td>\n",
              "      <td>0</td>\n",
              "      <td>1</td>\n",
              "      <td>0</td>\n",
              "    </tr>\n",
              "  </tbody>\n",
              "</table>\n",
              "</div>"
            ],
            "text/plain": [
              "    Age  RestingBP  Cholesterol  ...  ST_Slope_Flat  ST_Slope_Up  HeartDisease\n",
              "1    49      160.0        180.0  ...              1            0             1\n",
              "3    48      138.0        214.0  ...              1            0             1\n",
              "6    45      130.0        237.0  ...              0            1             0\n",
              "9    48      120.0        284.0  ...              0            1             0\n",
              "10   37      130.0        211.0  ...              0            1             0\n",
              "\n",
              "[5 rows x 15 columns]"
            ]
          },
          "metadata": {},
          "execution_count": 23
        }
      ]
    },
    {
      "cell_type": "code",
      "source": [
        "# Fit the model\n",
        "predictors_MF = ['Age', 'RestingBP', 'Cholesterol', \n",
        "              'FastingBS', 'MaxHR', 'ExerciseAngina', \n",
        "              'Oldpeak', 'ChestPainType_ATA', 'ChestPainType_NAP', \n",
        "              'ChestPainType_TA', 'RestingECG_Normal', 'RestingECG_ST', \n",
        "              'ST_Slope_Flat', 'ST_Slope_Up']\n",
        "m_M = Logit(heart_df_M['HeartDisease'], heart_df_M[predictors_MF]).fit()\n",
        "m_F = Logit(heart_df_F['HeartDisease'], heart_df_F[predictors_MF]).fit()"
      ],
      "metadata": {
        "id": "__kKsPwCAri0",
        "outputId": "7c1a0392-c273-45cd-ead2-3f49fe8477a8",
        "colab": {
          "base_uri": "https://localhost:8080/"
        }
      },
      "execution_count": null,
      "outputs": [
        {
          "output_type": "stream",
          "name": "stdout",
          "text": [
            "Optimization terminated successfully.\n",
            "         Current function value: 0.334780\n",
            "         Iterations 7\n",
            "Optimization terminated successfully.\n",
            "         Current function value: 0.285432\n",
            "         Iterations 8\n"
          ]
        }
      ]
    },
    {
      "cell_type": "code",
      "source": [
        "m_M.summary2()"
      ],
      "metadata": {
        "id": "9NHTSl8WAtEa",
        "outputId": "019da255-b1ea-42c6-8973-9bd215d8531e",
        "colab": {
          "base_uri": "https://localhost:8080/",
          "height": 512
        }
      },
      "execution_count": null,
      "outputs": [
        {
          "output_type": "execute_result",
          "data": {
            "text/html": [
              "<table class=\"simpletable\">\n",
              "<tr>\n",
              "        <td>Model:</td>              <td>Logit</td>      <td>Pseudo R-squared:</td>    <td>0.491</td>  \n",
              "</tr>\n",
              "<tr>\n",
              "  <td>Dependent Variable:</td>   <td>HeartDisease</td>         <td>AIC:</td>         <td>512.7612</td> \n",
              "</tr>\n",
              "<tr>\n",
              "         <td>Date:</td>        <td>2021-12-14 00:20</td>       <td>BIC:</td>         <td>576.9482</td> \n",
              "</tr>\n",
              "<tr>\n",
              "   <td>No. Observations:</td>         <td>724</td>        <td>Log-Likelihood:</td>    <td>-242.38</td> \n",
              "</tr>\n",
              "<tr>\n",
              "       <td>Df Model:</td>             <td>13</td>            <td>LL-Null:</td>        <td>-476.61</td> \n",
              "</tr>\n",
              "<tr>\n",
              "     <td>Df Residuals:</td>           <td>710</td>         <td>LLR p-value:</td>    <td>7.2136e-92</td>\n",
              "</tr>\n",
              "<tr>\n",
              "      <td>Converged:</td>           <td>1.0000</td>           <td>Scale:</td>         <td>1.0000</td>  \n",
              "</tr>\n",
              "<tr>\n",
              "    <td>No. Iterations:</td>        <td>7.0000</td>              <td></td>               <td></td>     \n",
              "</tr>\n",
              "</table>\n",
              "<table class=\"simpletable\">\n",
              "<tr>\n",
              "          <td></td>           <th>Coef.</th>  <th>Std.Err.</th>    <th>z</th>     <th>P>|z|</th> <th>[0.025</th>  <th>0.975]</th> \n",
              "</tr>\n",
              "<tr>\n",
              "  <th>Age</th>               <td>0.0215</td>   <td>0.0122</td>  <td>1.7601</td>  <td>0.0784</td> <td>-0.0024</td> <td>0.0454</td> \n",
              "</tr>\n",
              "<tr>\n",
              "  <th>RestingBP</th>         <td>-0.0035</td>  <td>0.0065</td>  <td>-0.5379</td> <td>0.5906</td> <td>-0.0162</td> <td>0.0092</td> \n",
              "</tr>\n",
              "<tr>\n",
              "  <th>Cholesterol</th>       <td>0.0030</td>   <td>0.0023</td>  <td>1.2959</td>  <td>0.1950</td> <td>-0.0015</td> <td>0.0075</td> \n",
              "</tr>\n",
              "<tr>\n",
              "  <th>FastingBS</th>         <td>1.0913</td>   <td>0.2877</td>  <td>3.7931</td>  <td>0.0001</td> <td>0.5274</td>  <td>1.6551</td> \n",
              "</tr>\n",
              "<tr>\n",
              "  <th>MaxHR</th>             <td>-0.0091</td>  <td>0.0043</td>  <td>-2.1226</td> <td>0.0338</td> <td>-0.0175</td> <td>-0.0007</td>\n",
              "</tr>\n",
              "<tr>\n",
              "  <th>ExerciseAngina</th>    <td>0.8566</td>   <td>0.2714</td>  <td>3.1560</td>  <td>0.0016</td> <td>0.3246</td>  <td>1.3885</td> \n",
              "</tr>\n",
              "<tr>\n",
              "  <th>Oldpeak</th>           <td>0.3851</td>   <td>0.1306</td>  <td>2.9488</td>  <td>0.0032</td> <td>0.1291</td>  <td>0.6410</td> \n",
              "</tr>\n",
              "<tr>\n",
              "  <th>ChestPainType_ATA</th> <td>-1.9850</td>  <td>0.3701</td>  <td>-5.3637</td> <td>0.0000</td> <td>-2.7103</td> <td>-1.2596</td>\n",
              "</tr>\n",
              "<tr>\n",
              "  <th>ChestPainType_NAP</th> <td>-1.6698</td>  <td>0.2908</td>  <td>-5.7415</td> <td>0.0000</td> <td>-2.2398</td> <td>-1.0998</td>\n",
              "</tr>\n",
              "<tr>\n",
              "  <th>ChestPainType_TA</th>  <td>-1.3761</td>  <td>0.4673</td>  <td>-2.9448</td> <td>0.0032</td> <td>-2.2919</td> <td>-0.4602</td>\n",
              "</tr>\n",
              "<tr>\n",
              "  <th>RestingECG_Normal</th> <td>-0.0524</td>  <td>0.2881</td>  <td>-0.1820</td> <td>0.8556</td> <td>-0.6170</td> <td>0.5122</td> \n",
              "</tr>\n",
              "<tr>\n",
              "  <th>RestingECG_ST</th>     <td>-0.0029</td>  <td>0.3623</td>  <td>-0.0081</td> <td>0.9935</td> <td>-0.7130</td> <td>0.7071</td> \n",
              "</tr>\n",
              "<tr>\n",
              "  <th>ST_Slope_Flat</th>     <td>1.5278</td>   <td>0.4458</td>  <td>3.4271</td>  <td>0.0006</td> <td>0.6541</td>  <td>2.4016</td> \n",
              "</tr>\n",
              "<tr>\n",
              "  <th>ST_Slope_Up</th>       <td>-0.8467</td>  <td>0.4638</td>  <td>-1.8258</td> <td>0.0679</td> <td>-1.7557</td> <td>0.0622</td> \n",
              "</tr>\n",
              "</table>"
            ],
            "text/plain": [
              "<class 'statsmodels.iolib.summary2.Summary'>\n",
              "\"\"\"\n",
              "                         Results: Logit\n",
              "=================================================================\n",
              "Model:              Logit            Pseudo R-squared: 0.491     \n",
              "Dependent Variable: HeartDisease     AIC:              512.7612  \n",
              "Date:               2021-12-14 00:20 BIC:              576.9482  \n",
              "No. Observations:   724              Log-Likelihood:   -242.38   \n",
              "Df Model:           13               LL-Null:          -476.61   \n",
              "Df Residuals:       710              LLR p-value:      7.2136e-92\n",
              "Converged:          1.0000           Scale:            1.0000    \n",
              "No. Iterations:     7.0000                                       \n",
              "-----------------------------------------------------------------\n",
              "                   Coef.  Std.Err.    z    P>|z|   [0.025  0.975]\n",
              "-----------------------------------------------------------------\n",
              "Age                0.0215   0.0122  1.7601 0.0784 -0.0024  0.0454\n",
              "RestingBP         -0.0035   0.0065 -0.5379 0.5906 -0.0162  0.0092\n",
              "Cholesterol        0.0030   0.0023  1.2959 0.1950 -0.0015  0.0075\n",
              "FastingBS          1.0913   0.2877  3.7931 0.0001  0.5274  1.6551\n",
              "MaxHR             -0.0091   0.0043 -2.1226 0.0338 -0.0175 -0.0007\n",
              "ExerciseAngina     0.8566   0.2714  3.1560 0.0016  0.3246  1.3885\n",
              "Oldpeak            0.3851   0.1306  2.9488 0.0032  0.1291  0.6410\n",
              "ChestPainType_ATA -1.9850   0.3701 -5.3637 0.0000 -2.7103 -1.2596\n",
              "ChestPainType_NAP -1.6698   0.2908 -5.7415 0.0000 -2.2398 -1.0998\n",
              "ChestPainType_TA  -1.3761   0.4673 -2.9448 0.0032 -2.2919 -0.4602\n",
              "RestingECG_Normal -0.0524   0.2881 -0.1820 0.8556 -0.6170  0.5122\n",
              "RestingECG_ST     -0.0029   0.3623 -0.0081 0.9935 -0.7130  0.7071\n",
              "ST_Slope_Flat      1.5278   0.4458  3.4271 0.0006  0.6541  2.4016\n",
              "ST_Slope_Up       -0.8467   0.4638 -1.8258 0.0679 -1.7557  0.0622\n",
              "=================================================================\n",
              "\n",
              "\"\"\""
            ]
          },
          "metadata": {},
          "execution_count": 25
        }
      ]
    },
    {
      "cell_type": "code",
      "source": [
        "m_F.summary2()"
      ],
      "metadata": {
        "id": "WoL_hbNJAuZt",
        "outputId": "5a8dc59f-2707-4986-ddaf-03de64261c98",
        "colab": {
          "base_uri": "https://localhost:8080/",
          "height": 512
        }
      },
      "execution_count": null,
      "outputs": [
        {
          "output_type": "execute_result",
          "data": {
            "text/html": [
              "<table class=\"simpletable\">\n",
              "<tr>\n",
              "        <td>Model:</td>              <td>Logit</td>      <td>Pseudo R-squared:</td>    <td>0.501</td>  \n",
              "</tr>\n",
              "<tr>\n",
              "  <td>Dependent Variable:</td>   <td>HeartDisease</td>         <td>AIC:</td>         <td>138.1768</td> \n",
              "</tr>\n",
              "<tr>\n",
              "         <td>Date:</td>        <td>2021-12-14 00:20</td>       <td>BIC:</td>         <td>183.8545</td> \n",
              "</tr>\n",
              "<tr>\n",
              "   <td>No. Observations:</td>         <td>193</td>        <td>Log-Likelihood:</td>    <td>-55.088</td> \n",
              "</tr>\n",
              "<tr>\n",
              "       <td>Df Model:</td>             <td>13</td>            <td>LL-Null:</td>        <td>-110.41</td> \n",
              "</tr>\n",
              "<tr>\n",
              "     <td>Df Residuals:</td>           <td>179</td>         <td>LLR p-value:</td>    <td>1.3960e-17</td>\n",
              "</tr>\n",
              "<tr>\n",
              "      <td>Converged:</td>           <td>1.0000</td>           <td>Scale:</td>         <td>1.0000</td>  \n",
              "</tr>\n",
              "<tr>\n",
              "    <td>No. Iterations:</td>        <td>8.0000</td>              <td></td>               <td></td>     \n",
              "</tr>\n",
              "</table>\n",
              "<table class=\"simpletable\">\n",
              "<tr>\n",
              "          <td></td>           <th>Coef.</th>  <th>Std.Err.</th>    <th>z</th>     <th>P>|z|</th> <th>[0.025</th>  <th>0.975]</th> \n",
              "</tr>\n",
              "<tr>\n",
              "  <th>Age</th>               <td>-0.0079</td>  <td>0.0286</td>  <td>-0.2765</td> <td>0.7822</td> <td>-0.0639</td> <td>0.0481</td> \n",
              "</tr>\n",
              "<tr>\n",
              "  <th>RestingBP</th>         <td>0.0193</td>   <td>0.0140</td>  <td>1.3799</td>  <td>0.1676</td> <td>-0.0081</td> <td>0.0468</td> \n",
              "</tr>\n",
              "<tr>\n",
              "  <th>Cholesterol</th>       <td>0.0032</td>   <td>0.0041</td>  <td>0.7664</td>  <td>0.4435</td> <td>-0.0050</td> <td>0.0113</td> \n",
              "</tr>\n",
              "<tr>\n",
              "  <th>FastingBS</th>         <td>3.0468</td>   <td>0.8506</td>  <td>3.5820</td>  <td>0.0003</td> <td>1.3797</td>  <td>4.7140</td> \n",
              "</tr>\n",
              "<tr>\n",
              "  <th>MaxHR</th>             <td>-0.0100</td>  <td>0.0100</td>  <td>-0.9989</td> <td>0.3179</td> <td>-0.0296</td> <td>0.0096</td> \n",
              "</tr>\n",
              "<tr>\n",
              "  <th>ExerciseAngina</th>    <td>0.3649</td>   <td>0.6060</td>  <td>0.6021</td>  <td>0.5471</td> <td>-0.8229</td> <td>1.5526</td> \n",
              "</tr>\n",
              "<tr>\n",
              "  <th>Oldpeak</th>           <td>0.0991</td>   <td>0.3071</td>  <td>0.3227</td>  <td>0.7469</td> <td>-0.5027</td> <td>0.7009</td> \n",
              "</tr>\n",
              "<tr>\n",
              "  <th>ChestPainType_ATA</th> <td>-1.7273</td>  <td>0.7266</td>  <td>-2.3771</td> <td>0.0174</td> <td>-3.1515</td> <td>-0.3031</td>\n",
              "</tr>\n",
              "<tr>\n",
              "  <th>ChestPainType_NAP</th> <td>-1.6433</td>  <td>0.6855</td>  <td>-2.3971</td> <td>0.0165</td> <td>-2.9870</td> <td>-0.2997</td>\n",
              "</tr>\n",
              "<tr>\n",
              "  <th>ChestPainType_TA</th>  <td>-3.3364</td>  <td>1.6174</td>  <td>-2.0629</td> <td>0.0391</td> <td>-6.5064</td> <td>-0.1664</td>\n",
              "</tr>\n",
              "<tr>\n",
              "  <th>RestingECG_Normal</th> <td>0.3987</td>   <td>0.6090</td>  <td>0.6547</td>  <td>0.5127</td> <td>-0.7950</td> <td>1.5924</td> \n",
              "</tr>\n",
              "<tr>\n",
              "  <th>RestingECG_ST</th>     <td>0.1862</td>   <td>1.0060</td>  <td>0.1851</td>  <td>0.8532</td> <td>-1.7855</td> <td>2.1579</td> \n",
              "</tr>\n",
              "<tr>\n",
              "  <th>ST_Slope_Flat</th>     <td>-1.5941</td>  <td>1.4135</td>  <td>-1.1278</td> <td>0.2594</td> <td>-4.3646</td> <td>1.1763</td> \n",
              "</tr>\n",
              "<tr>\n",
              "  <th>ST_Slope_Up</th>       <td>-4.4618</td>  <td>1.6868</td>  <td>-2.6451</td> <td>0.0082</td> <td>-7.7678</td> <td>-1.1557</td>\n",
              "</tr>\n",
              "</table>"
            ],
            "text/plain": [
              "<class 'statsmodels.iolib.summary2.Summary'>\n",
              "\"\"\"\n",
              "                         Results: Logit\n",
              "=================================================================\n",
              "Model:              Logit            Pseudo R-squared: 0.501     \n",
              "Dependent Variable: HeartDisease     AIC:              138.1768  \n",
              "Date:               2021-12-14 00:20 BIC:              183.8545  \n",
              "No. Observations:   193              Log-Likelihood:   -55.088   \n",
              "Df Model:           13               LL-Null:          -110.41   \n",
              "Df Residuals:       179              LLR p-value:      1.3960e-17\n",
              "Converged:          1.0000           Scale:            1.0000    \n",
              "No. Iterations:     8.0000                                       \n",
              "-----------------------------------------------------------------\n",
              "                   Coef.  Std.Err.    z    P>|z|   [0.025  0.975]\n",
              "-----------------------------------------------------------------\n",
              "Age               -0.0079   0.0286 -0.2765 0.7822 -0.0639  0.0481\n",
              "RestingBP          0.0193   0.0140  1.3799 0.1676 -0.0081  0.0468\n",
              "Cholesterol        0.0032   0.0041  0.7664 0.4435 -0.0050  0.0113\n",
              "FastingBS          3.0468   0.8506  3.5820 0.0003  1.3797  4.7140\n",
              "MaxHR             -0.0100   0.0100 -0.9989 0.3179 -0.0296  0.0096\n",
              "ExerciseAngina     0.3649   0.6060  0.6021 0.5471 -0.8229  1.5526\n",
              "Oldpeak            0.0991   0.3071  0.3227 0.7469 -0.5027  0.7009\n",
              "ChestPainType_ATA -1.7273   0.7266 -2.3771 0.0174 -3.1515 -0.3031\n",
              "ChestPainType_NAP -1.6433   0.6855 -2.3971 0.0165 -2.9870 -0.2997\n",
              "ChestPainType_TA  -3.3364   1.6174 -2.0629 0.0391 -6.5064 -0.1664\n",
              "RestingECG_Normal  0.3987   0.6090  0.6547 0.5127 -0.7950  1.5924\n",
              "RestingECG_ST      0.1862   1.0060  0.1851 0.8532 -1.7855  2.1579\n",
              "ST_Slope_Flat     -1.5941   1.4135 -1.1278 0.2594 -4.3646  1.1763\n",
              "ST_Slope_Up       -4.4618   1.6868 -2.6451 0.0082 -7.7678 -1.1557\n",
              "=================================================================\n",
              "\n",
              "\"\"\""
            ]
          },
          "metadata": {},
          "execution_count": 26
        }
      ]
    },
    {
      "cell_type": "code",
      "metadata": {
        "id": "1cXbghoHqnTd"
      },
      "source": [
        "predictors_MF = heart_df_a[['Age', 'RestingBP', 'Cholesterol', \n",
        "              'FastingBS', 'MaxHR', 'ExerciseAngina', \n",
        "              'Oldpeak', 'ChestPainType_ATA', 'ChestPainType_NAP', \n",
        "              'ChestPainType_TA', 'RestingECG_Normal', 'RestingECG_ST', \n",
        "              'ST_Slope_Flat', 'ST_Slope_Up']].columns"
      ],
      "execution_count": null,
      "outputs": []
    },
    {
      "cell_type": "code",
      "source": [
        "predictors_MF"
      ],
      "metadata": {
        "colab": {
          "base_uri": "https://localhost:8080/"
        },
        "id": "apO_7oqSu8C7",
        "outputId": "cbf42318-dc49-40c6-8084-75333dd144c8"
      },
      "execution_count": null,
      "outputs": [
        {
          "output_type": "execute_result",
          "data": {
            "text/plain": [
              "Index(['Age', 'RestingBP', 'Cholesterol', 'FastingBS', 'MaxHR',\n",
              "       'ExerciseAngina', 'Oldpeak', 'ChestPainType_ATA', 'ChestPainType_NAP',\n",
              "       'ChestPainType_TA', 'RestingECG_Normal', 'RestingECG_ST',\n",
              "       'ST_Slope_Flat', 'ST_Slope_Up'],\n",
              "      dtype='object')"
            ]
          },
          "metadata": {},
          "execution_count": 28
        }
      ]
    },
    {
      "cell_type": "code",
      "metadata": {
        "id": "Hmu8c9SfqpeO",
        "outputId": "8f973ced-9f67-4545-9ea0-f275fb02a356",
        "colab": {
          "base_uri": "https://localhost:8080/"
        }
      },
      "source": [
        "result_M = backward_elimination(heart_df_M, 'HeartDisease', predictors_MF)\n",
        "result_F = backward_elimination(heart_df_F, 'HeartDisease', predictors_MF)"
      ],
      "execution_count": null,
      "outputs": [
        {
          "output_type": "stream",
          "name": "stdout",
          "text": [
            "Optimization terminated successfully.\n",
            "         Current function value: 0.334780\n",
            "         Iterations 7\n",
            "Optimization terminated successfully.\n",
            "         Current function value: 0.334780\n",
            "         Iterations 7\n",
            "Optimization terminated successfully.\n",
            "         Current function value: 0.334812\n",
            "         Iterations 7\n",
            "Optimization terminated successfully.\n",
            "         Current function value: 0.335027\n",
            "         Iterations 7\n",
            "Optimization terminated successfully.\n",
            "         Current function value: 0.336029\n",
            "         Iterations 7\n",
            "Optimization terminated successfully.\n",
            "         Current function value: 0.338658\n",
            "         Iterations 7\n",
            "Optimization terminated successfully.\n",
            "         Current function value: 0.285432\n",
            "         Iterations 8\n",
            "Optimization terminated successfully.\n",
            "         Current function value: 0.285521\n",
            "         Iterations 8\n",
            "Optimization terminated successfully.\n",
            "         Current function value: 0.285718\n",
            "         Iterations 8\n",
            "Optimization terminated successfully.\n",
            "         Current function value: 0.285933\n",
            "         Iterations 8\n",
            "Optimization terminated successfully.\n",
            "         Current function value: 0.286975\n",
            "         Iterations 8\n",
            "Optimization terminated successfully.\n",
            "         Current function value: 0.288875\n",
            "         Iterations 8\n",
            "Optimization terminated successfully.\n",
            "         Current function value: 0.289946\n",
            "         Iterations 8\n",
            "Optimization terminated successfully.\n",
            "         Current function value: 0.292894\n",
            "         Iterations 8\n",
            "Optimization terminated successfully.\n",
            "         Current function value: 0.300992\n",
            "         Iterations 8\n"
          ]
        }
      ]
    },
    {
      "cell_type": "code",
      "source": [
        "result_M.summary()"
      ],
      "metadata": {
        "id": "93XTz4WLBBAj",
        "outputId": "d8978f80-1af2-4561-8f8c-162aa8fd8639",
        "colab": {
          "base_uri": "https://localhost:8080/",
          "height": 401
        }
      },
      "execution_count": null,
      "outputs": [
        {
          "output_type": "execute_result",
          "data": {
            "text/html": [
              "<table class=\"simpletable\">\n",
              "<caption>Logit Regression Results</caption>\n",
              "<tr>\n",
              "  <th>Dep. Variable:</th>     <td>HeartDisease</td>   <th>  No. Observations:  </th>  <td>   724</td>  \n",
              "</tr>\n",
              "<tr>\n",
              "  <th>Model:</th>                 <td>Logit</td>      <th>  Df Residuals:      </th>  <td>   715</td>  \n",
              "</tr>\n",
              "<tr>\n",
              "  <th>Method:</th>                 <td>MLE</td>       <th>  Df Model:          </th>  <td>     8</td>  \n",
              "</tr>\n",
              "<tr>\n",
              "  <th>Date:</th>            <td>Tue, 14 Dec 2021</td> <th>  Pseudo R-squ.:     </th>  <td>0.4856</td>  \n",
              "</tr>\n",
              "<tr>\n",
              "  <th>Time:</th>                <td>00:20:52</td>     <th>  Log-Likelihood:    </th> <td> -245.19</td> \n",
              "</tr>\n",
              "<tr>\n",
              "  <th>converged:</th>             <td>True</td>       <th>  LL-Null:           </th> <td> -476.61</td> \n",
              "</tr>\n",
              "<tr>\n",
              "  <th>Covariance Type:</th>     <td>nonrobust</td>    <th>  LLR p-value:       </th> <td>6.521e-95</td>\n",
              "</tr>\n",
              "</table>\n",
              "<table class=\"simpletable\">\n",
              "<tr>\n",
              "          <td></td>             <th>coef</th>     <th>std err</th>      <th>z</th>      <th>P>|z|</th>  <th>[0.025</th>    <th>0.975]</th>  \n",
              "</tr>\n",
              "<tr>\n",
              "  <th>Age</th>               <td>    0.0167</td> <td>    0.008</td> <td>    1.991</td> <td> 0.047</td> <td>    0.000</td> <td>    0.033</td>\n",
              "</tr>\n",
              "<tr>\n",
              "  <th>FastingBS</th>         <td>    1.1655</td> <td>    0.282</td> <td>    4.134</td> <td> 0.000</td> <td>    0.613</td> <td>    1.718</td>\n",
              "</tr>\n",
              "<tr>\n",
              "  <th>MaxHR</th>             <td>   -0.0113</td> <td>    0.003</td> <td>   -3.709</td> <td> 0.000</td> <td>   -0.017</td> <td>   -0.005</td>\n",
              "</tr>\n",
              "<tr>\n",
              "  <th>ExerciseAngina</th>    <td>    0.8975</td> <td>    0.264</td> <td>    3.395</td> <td> 0.001</td> <td>    0.379</td> <td>    1.416</td>\n",
              "</tr>\n",
              "<tr>\n",
              "  <th>Oldpeak</th>           <td>    0.4710</td> <td>    0.119</td> <td>    3.956</td> <td> 0.000</td> <td>    0.238</td> <td>    0.704</td>\n",
              "</tr>\n",
              "<tr>\n",
              "  <th>ChestPainType_ATA</th> <td>   -2.0352</td> <td>    0.367</td> <td>   -5.548</td> <td> 0.000</td> <td>   -2.754</td> <td>   -1.316</td>\n",
              "</tr>\n",
              "<tr>\n",
              "  <th>ChestPainType_NAP</th> <td>   -1.6826</td> <td>    0.286</td> <td>   -5.876</td> <td> 0.000</td> <td>   -2.244</td> <td>   -1.121</td>\n",
              "</tr>\n",
              "<tr>\n",
              "  <th>ChestPainType_TA</th>  <td>   -1.3717</td> <td>    0.450</td> <td>   -3.047</td> <td> 0.002</td> <td>   -2.254</td> <td>   -0.489</td>\n",
              "</tr>\n",
              "<tr>\n",
              "  <th>ST_Slope_Flat</th>     <td>    2.2237</td> <td>    0.242</td> <td>    9.183</td> <td> 0.000</td> <td>    1.749</td> <td>    2.698</td>\n",
              "</tr>\n",
              "</table>"
            ],
            "text/plain": [
              "<class 'statsmodels.iolib.summary.Summary'>\n",
              "\"\"\"\n",
              "                           Logit Regression Results                           \n",
              "==============================================================================\n",
              "Dep. Variable:           HeartDisease   No. Observations:                  724\n",
              "Model:                          Logit   Df Residuals:                      715\n",
              "Method:                           MLE   Df Model:                            8\n",
              "Date:                Tue, 14 Dec 2021   Pseudo R-squ.:                  0.4856\n",
              "Time:                        00:20:52   Log-Likelihood:                -245.19\n",
              "converged:                       True   LL-Null:                       -476.61\n",
              "Covariance Type:            nonrobust   LLR p-value:                 6.521e-95\n",
              "=====================================================================================\n",
              "                        coef    std err          z      P>|z|      [0.025      0.975]\n",
              "-------------------------------------------------------------------------------------\n",
              "Age                   0.0167      0.008      1.991      0.047       0.000       0.033\n",
              "FastingBS             1.1655      0.282      4.134      0.000       0.613       1.718\n",
              "MaxHR                -0.0113      0.003     -3.709      0.000      -0.017      -0.005\n",
              "ExerciseAngina        0.8975      0.264      3.395      0.001       0.379       1.416\n",
              "Oldpeak               0.4710      0.119      3.956      0.000       0.238       0.704\n",
              "ChestPainType_ATA    -2.0352      0.367     -5.548      0.000      -2.754      -1.316\n",
              "ChestPainType_NAP    -1.6826      0.286     -5.876      0.000      -2.244      -1.121\n",
              "ChestPainType_TA     -1.3717      0.450     -3.047      0.002      -2.254      -0.489\n",
              "ST_Slope_Flat         2.2237      0.242      9.183      0.000       1.749       2.698\n",
              "=====================================================================================\n",
              "\"\"\""
            ]
          },
          "metadata": {},
          "execution_count": 30
        }
      ]
    },
    {
      "cell_type": "code",
      "source": [
        "conf_mat_M=result_M.pred_table()\n",
        "print ('Confusion Matrix:')\n",
        "print (conf_mat_M)"
      ],
      "metadata": {
        "colab": {
          "base_uri": "https://localhost:8080/"
        },
        "id": "RoE44JwFWHLn",
        "outputId": "40d6776b-584e-40dd-86d1-d643a28e74ac"
      },
      "execution_count": null,
      "outputs": [
        {
          "output_type": "stream",
          "name": "stdout",
          "text": [
            "Confusion Matrix:\n",
            "[[214.  53.]\n",
            " [ 40. 417.]]\n"
          ]
        }
      ]
    },
    {
      "cell_type": "code",
      "source": [
        "tn_M, fp_M, fn_M, tp_M = conf_mat_M.flatten()\n",
        "print ('TN, FP, FN, TP:')\n",
        "print (tn_M, fp_M, fn_M, tp_M)"
      ],
      "metadata": {
        "colab": {
          "base_uri": "https://localhost:8080/"
        },
        "id": "yEmVU-2ZWHY7",
        "outputId": "ab84685e-4369-42ba-cb7c-1e00da19295a"
      },
      "execution_count": null,
      "outputs": [
        {
          "output_type": "stream",
          "name": "stdout",
          "text": [
            "TN, FP, FN, TP:\n",
            "214.0 53.0 40.0 417.0\n"
          ]
        }
      ]
    },
    {
      "cell_type": "code",
      "source": [
        "acc_M = (tp_M + tn_M) / np.sum(conf_mat_M)\n",
        "mcc_M = (tp_M * tn_M - fp_M * fn_M)/np.sqrt((tp_M + fp_M)*(tp_M + fn_M)*(tn_M + fp_M)*(tn_M + fn_M))\n",
        "prc_M = tp_M / (tp_M + fp_M)\n",
        "rec_M = tp_M / (tp_M + fn_M)\n",
        "print (\"Accuracy of the model is: %1.2f\" % acc_M)\n",
        "print (\"Mathews correlation coefficient between the estimates and the true response is: %1.2f\" % mcc_M)\n",
        "print (\"Model's precision is %1.2f and its recall is %1.2f\" % (prc_M, rec_M))"
      ],
      "metadata": {
        "colab": {
          "base_uri": "https://localhost:8080/"
        },
        "id": "dLybsPEXWHlh",
        "outputId": "58c5ce43-05c0-4b6a-964a-e6bb899d2688"
      },
      "execution_count": null,
      "outputs": [
        {
          "output_type": "stream",
          "name": "stdout",
          "text": [
            "Accuracy of the model is: 0.87\n",
            "Mathews correlation coefficient between the estimates and the true response is: 0.72\n",
            "Model's precision is 0.89 and its recall is 0.91\n"
          ]
        }
      ]
    },
    {
      "cell_type": "code",
      "source": [
        "result_F.summary()"
      ],
      "metadata": {
        "id": "lOUrGyNcBF39",
        "outputId": "5d2031cc-c603-4bb1-95cc-91b5040a190b",
        "colab": {
          "base_uri": "https://localhost:8080/",
          "height": 337
        }
      },
      "execution_count": null,
      "outputs": [
        {
          "output_type": "execute_result",
          "data": {
            "text/html": [
              "<table class=\"simpletable\">\n",
              "<caption>Logit Regression Results</caption>\n",
              "<tr>\n",
              "  <th>Dep. Variable:</th>     <td>HeartDisease</td>   <th>  No. Observations:  </th>  <td>   193</td>  \n",
              "</tr>\n",
              "<tr>\n",
              "  <th>Model:</th>                 <td>Logit</td>      <th>  Df Residuals:      </th>  <td>   187</td>  \n",
              "</tr>\n",
              "<tr>\n",
              "  <th>Method:</th>                 <td>MLE</td>       <th>  Df Model:          </th>  <td>     5</td>  \n",
              "</tr>\n",
              "<tr>\n",
              "  <th>Date:</th>            <td>Tue, 14 Dec 2021</td> <th>  Pseudo R-squ.:     </th>  <td>0.4739</td>  \n",
              "</tr>\n",
              "<tr>\n",
              "  <th>Time:</th>                <td>00:20:52</td>     <th>  Log-Likelihood:    </th> <td> -58.092</td> \n",
              "</tr>\n",
              "<tr>\n",
              "  <th>converged:</th>             <td>True</td>       <th>  LL-Null:           </th> <td> -110.41</td> \n",
              "</tr>\n",
              "<tr>\n",
              "  <th>Covariance Type:</th>     <td>nonrobust</td>    <th>  LLR p-value:       </th> <td>5.553e-21</td>\n",
              "</tr>\n",
              "</table>\n",
              "<table class=\"simpletable\">\n",
              "<tr>\n",
              "          <td></td>             <th>coef</th>     <th>std err</th>      <th>z</th>      <th>P>|z|</th>  <th>[0.025</th>    <th>0.975]</th>  \n",
              "</tr>\n",
              "<tr>\n",
              "  <th>RestingBP</th>         <td>    0.0060</td> <td>    0.002</td> <td>    2.503</td> <td> 0.012</td> <td>    0.001</td> <td>    0.011</td>\n",
              "</tr>\n",
              "<tr>\n",
              "  <th>FastingBS</th>         <td>    3.0238</td> <td>    0.816</td> <td>    3.704</td> <td> 0.000</td> <td>    1.424</td> <td>    4.624</td>\n",
              "</tr>\n",
              "<tr>\n",
              "  <th>ChestPainType_ATA</th> <td>   -2.0097</td> <td>    0.648</td> <td>   -3.103</td> <td> 0.002</td> <td>   -3.279</td> <td>   -0.740</td>\n",
              "</tr>\n",
              "<tr>\n",
              "  <th>ChestPainType_NAP</th> <td>   -2.0142</td> <td>    0.574</td> <td>   -3.509</td> <td> 0.000</td> <td>   -3.139</td> <td>   -0.889</td>\n",
              "</tr>\n",
              "<tr>\n",
              "  <th>ChestPainType_TA</th>  <td>   -3.0558</td> <td>    1.512</td> <td>   -2.021</td> <td> 0.043</td> <td>   -6.019</td> <td>   -0.092</td>\n",
              "</tr>\n",
              "<tr>\n",
              "  <th>ST_Slope_Up</th>       <td>   -3.2138</td> <td>    0.663</td> <td>   -4.846</td> <td> 0.000</td> <td>   -4.514</td> <td>   -1.914</td>\n",
              "</tr>\n",
              "</table>"
            ],
            "text/plain": [
              "<class 'statsmodels.iolib.summary.Summary'>\n",
              "\"\"\"\n",
              "                           Logit Regression Results                           \n",
              "==============================================================================\n",
              "Dep. Variable:           HeartDisease   No. Observations:                  193\n",
              "Model:                          Logit   Df Residuals:                      187\n",
              "Method:                           MLE   Df Model:                            5\n",
              "Date:                Tue, 14 Dec 2021   Pseudo R-squ.:                  0.4739\n",
              "Time:                        00:20:52   Log-Likelihood:                -58.092\n",
              "converged:                       True   LL-Null:                       -110.41\n",
              "Covariance Type:            nonrobust   LLR p-value:                 5.553e-21\n",
              "=====================================================================================\n",
              "                        coef    std err          z      P>|z|      [0.025      0.975]\n",
              "-------------------------------------------------------------------------------------\n",
              "RestingBP             0.0060      0.002      2.503      0.012       0.001       0.011\n",
              "FastingBS             3.0238      0.816      3.704      0.000       1.424       4.624\n",
              "ChestPainType_ATA    -2.0097      0.648     -3.103      0.002      -3.279      -0.740\n",
              "ChestPainType_NAP    -2.0142      0.574     -3.509      0.000      -3.139      -0.889\n",
              "ChestPainType_TA     -3.0558      1.512     -2.021      0.043      -6.019      -0.092\n",
              "ST_Slope_Up          -3.2138      0.663     -4.846      0.000      -4.514      -1.914\n",
              "=====================================================================================\n",
              "\"\"\""
            ]
          },
          "metadata": {},
          "execution_count": 31
        }
      ]
    },
    {
      "cell_type": "code",
      "source": [
        "conf_mat_F=result_F.pred_table()\n",
        "print ('Confusion Matrix:')\n",
        "print (conf_mat_F)"
      ],
      "metadata": {
        "colab": {
          "base_uri": "https://localhost:8080/"
        },
        "id": "EBW1iLmbU-SG",
        "outputId": "4b19a186-912b-4972-da34-2a9e99419f8d"
      },
      "execution_count": null,
      "outputs": [
        {
          "output_type": "stream",
          "name": "stdout",
          "text": [
            "Confusion Matrix:\n",
            "[[128.  15.]\n",
            " [ 11.  39.]]\n"
          ]
        }
      ]
    },
    {
      "cell_type": "code",
      "source": [
        "tn_F, fp_F, fn_F, tp_F = conf_mat_F.flatten()\n",
        "print ('TN, FP, FN, TP:')\n",
        "print (tn_F, fp_F, fn_F, tp_F)"
      ],
      "metadata": {
        "colab": {
          "base_uri": "https://localhost:8080/"
        },
        "id": "f_B-49r5VJff",
        "outputId": "35fa8ab9-12e9-48aa-dea9-fbbf5d501344"
      },
      "execution_count": null,
      "outputs": [
        {
          "output_type": "stream",
          "name": "stdout",
          "text": [
            "TN, FP, FN, TP:\n",
            "128.0 15.0 11.0 39.0\n"
          ]
        }
      ]
    },
    {
      "cell_type": "code",
      "source": [
        "acc_F = (tp_F + tn_F) / np.sum(conf_mat_F)\n",
        "mcc_F = (tp_F * tn_F - fp_F * fn_F)/np.sqrt((tp_F + fp_F)*(tp_F + fn_F)*(tn_F + fp_F)*(tn_F + fn_F))\n",
        "prc_F = tp_F / (tp_F + fp_F)\n",
        "rec_F = tp_F / (tp_F + fn_F)\n",
        "print (\"Accuracy of the model is: %1.2f\" % acc_F)\n",
        "print (\"Mathews correlation coefficient between the estimates and the true response is: %1.2f\" % mcc_F)\n",
        "print (\"Model's precision is %1.2f and its recall is %1.2f\" % (prc_F, rec_F))"
      ],
      "metadata": {
        "colab": {
          "base_uri": "https://localhost:8080/"
        },
        "id": "MAecUTz1VpR6",
        "outputId": "794ebb99-69a9-44fb-9e82-ee0f467241ec"
      },
      "execution_count": null,
      "outputs": [
        {
          "output_type": "stream",
          "name": "stdout",
          "text": [
            "Accuracy of the model is: 0.87\n",
            "Mathews correlation coefficient between the estimates and the true response is: 0.66\n",
            "Model's precision is 0.72 and its recall is 0.78\n"
          ]
        }
      ]
    },
    {
      "cell_type": "code",
      "source": [
        "params_M = np.exp(result_M.params)\n",
        "conf_M = np.exp(result_M.conf_int())\n",
        "conf_M['oddsratio'] = params_M\n",
        "pvalue_M = round(result_M.pvalues,3)\n",
        "conf_M['pvalue'] = pvalue_M\n",
        "conf_M.columns = ['CI 95%(2.5%)','CI 95%(97.5%)', 'Odds Ratio', 'pvalue']\n",
        "conf_M"
      ],
      "metadata": {
        "id": "FR_QqFobBNmO",
        "outputId": "1e4b5385-93bf-4cae-be4d-ecf7a30cf9fb",
        "colab": {
          "base_uri": "https://localhost:8080/",
          "height": 332
        }
      },
      "execution_count": null,
      "outputs": [
        {
          "output_type": "execute_result",
          "data": {
            "text/html": [
              "<div>\n",
              "<style scoped>\n",
              "    .dataframe tbody tr th:only-of-type {\n",
              "        vertical-align: middle;\n",
              "    }\n",
              "\n",
              "    .dataframe tbody tr th {\n",
              "        vertical-align: top;\n",
              "    }\n",
              "\n",
              "    .dataframe thead th {\n",
              "        text-align: right;\n",
              "    }\n",
              "</style>\n",
              "<table border=\"1\" class=\"dataframe\">\n",
              "  <thead>\n",
              "    <tr style=\"text-align: right;\">\n",
              "      <th></th>\n",
              "      <th>CI 95%(2.5%)</th>\n",
              "      <th>CI 95%(97.5%)</th>\n",
              "      <th>Odds Ratio</th>\n",
              "      <th>pvalue</th>\n",
              "    </tr>\n",
              "  </thead>\n",
              "  <tbody>\n",
              "    <tr>\n",
              "      <th>Age</th>\n",
              "      <td>1.000256</td>\n",
              "      <td>1.033670</td>\n",
              "      <td>1.016826</td>\n",
              "      <td>0.047</td>\n",
              "    </tr>\n",
              "    <tr>\n",
              "      <th>FastingBS</th>\n",
              "      <td>1.845982</td>\n",
              "      <td>5.573852</td>\n",
              "      <td>3.207683</td>\n",
              "      <td>0.000</td>\n",
              "    </tr>\n",
              "    <tr>\n",
              "      <th>MaxHR</th>\n",
              "      <td>0.982927</td>\n",
              "      <td>0.994702</td>\n",
              "      <td>0.988797</td>\n",
              "      <td>0.000</td>\n",
              "    </tr>\n",
              "    <tr>\n",
              "      <th>ExerciseAngina</th>\n",
              "      <td>1.461336</td>\n",
              "      <td>4.119031</td>\n",
              "      <td>2.453423</td>\n",
              "      <td>0.001</td>\n",
              "    </tr>\n",
              "    <tr>\n",
              "      <th>Oldpeak</th>\n",
              "      <td>1.268206</td>\n",
              "      <td>2.022474</td>\n",
              "      <td>1.601535</td>\n",
              "      <td>0.000</td>\n",
              "    </tr>\n",
              "    <tr>\n",
              "      <th>ChestPainType_ATA</th>\n",
              "      <td>0.063663</td>\n",
              "      <td>0.268144</td>\n",
              "      <td>0.130656</td>\n",
              "      <td>0.000</td>\n",
              "    </tr>\n",
              "    <tr>\n",
              "      <th>ChestPainType_NAP</th>\n",
              "      <td>0.106048</td>\n",
              "      <td>0.325833</td>\n",
              "      <td>0.185887</td>\n",
              "      <td>0.000</td>\n",
              "    </tr>\n",
              "    <tr>\n",
              "      <th>ChestPainType_TA</th>\n",
              "      <td>0.104967</td>\n",
              "      <td>0.613105</td>\n",
              "      <td>0.253685</td>\n",
              "      <td>0.002</td>\n",
              "    </tr>\n",
              "    <tr>\n",
              "      <th>ST_Slope_Flat</th>\n",
              "      <td>5.749469</td>\n",
              "      <td>14.854631</td>\n",
              "      <td>9.241550</td>\n",
              "      <td>0.000</td>\n",
              "    </tr>\n",
              "  </tbody>\n",
              "</table>\n",
              "</div>"
            ],
            "text/plain": [
              "                   CI 95%(2.5%)  CI 95%(97.5%)  Odds Ratio  pvalue\n",
              "Age                    1.000256       1.033670    1.016826   0.047\n",
              "FastingBS              1.845982       5.573852    3.207683   0.000\n",
              "MaxHR                  0.982927       0.994702    0.988797   0.000\n",
              "ExerciseAngina         1.461336       4.119031    2.453423   0.001\n",
              "Oldpeak                1.268206       2.022474    1.601535   0.000\n",
              "ChestPainType_ATA      0.063663       0.268144    0.130656   0.000\n",
              "ChestPainType_NAP      0.106048       0.325833    0.185887   0.000\n",
              "ChestPainType_TA       0.104967       0.613105    0.253685   0.002\n",
              "ST_Slope_Flat          5.749469      14.854631    9.241550   0.000"
            ]
          },
          "metadata": {},
          "execution_count": 32
        }
      ]
    },
    {
      "cell_type": "markdown",
      "source": [
        "**Interpretation of the Odds Ratio**"
      ],
      "metadata": {
        "id": "YQf5fH-kj9vh"
      }
    },
    {
      "cell_type": "markdown",
      "source": [
        "**Age** - The odds of getting diagnosed with heart disease for the Age attribute is 1.02. Male patients across all age groups are approximately equally likely to have heart disease. However, for an increase of 1 year, the patient will have a 2% increase in risk of heart disease.\n",
        "\n",
        "**FastingBS** - With an odds ratio of 3.21, male patients with fasting blood sugar higher than 120 mg/dl are at 3.21 times greater odds to be diagnosed with heart disease than male patients with lower fasting blood sugar levels.\n",
        "\n",
        "**MaxHR** - The odds of getting diagnosed with heart disease for the MaxHR attribute is 0.99. As the odds ratio is so close to 1, male patients with high and low maximum heart rates are both equally likely to have disease.\n",
        "\n",
        "**ExerciseAngina** - Patients displaying exercise angina are at 2.45 times greater odds to have heart disease than patients who do not.\n",
        "\n",
        "**Oldpeak** - An odds ratio of 1.60 signifies that with every increase in 1 ST depression, the probability that the patient will be diagnosed with heart disease increases by 60%.\n",
        "\n",
        "**ChestPainType** - ATA (atypical angina): 0.15, NAP (non-anginal pain): 0.20, TA (typical angina): 0.25. The odds ratios for all three types of chest pain are below 1, signifying that patients with these types of chest pain are less likely to have heart disease, compared to those who have the reference type - asymptomatic. Overall, patients with atypical angina pain are the least likely to have heart disease and are 85% less likely when compared to patients with asymptomatic chest pain.\n",
        "\n",
        "**ST Slope** - Flat: 3.60, up: 0.34. The reference for ST slope is down. Patients with flat ST slope are 260% more likely to have heart disease compared to those with down ST slope. Those with up ST slope are 66% less likely to have heart disease compared to those possessing the reference ST type (i.e. down slope)."
      ],
      "metadata": {
        "id": "UHL6T88LkBN1"
      }
    },
    {
      "cell_type": "code",
      "source": [
        "params_F = np.exp(result_F.params)\n",
        "conf_F = np.exp(result_F.conf_int())\n",
        "conf_F['oddsratio'] = params_F\n",
        "pvalue_F = round(result_F.pvalues,3)\n",
        "conf_F['pvalue'] = pvalue_F\n",
        "conf_F.columns = ['CI 95%(2.5%)','CI 95%(97.5%)', 'Odds Ratio', 'pvalue']\n",
        "conf_F"
      ],
      "metadata": {
        "id": "ouxhqXxyBO-O",
        "outputId": "5db13f7c-85ec-47ac-b06d-0c360a5c5d61",
        "colab": {
          "base_uri": "https://localhost:8080/",
          "height": 238
        }
      },
      "execution_count": null,
      "outputs": [
        {
          "output_type": "execute_result",
          "data": {
            "text/html": [
              "<div>\n",
              "<style scoped>\n",
              "    .dataframe tbody tr th:only-of-type {\n",
              "        vertical-align: middle;\n",
              "    }\n",
              "\n",
              "    .dataframe tbody tr th {\n",
              "        vertical-align: top;\n",
              "    }\n",
              "\n",
              "    .dataframe thead th {\n",
              "        text-align: right;\n",
              "    }\n",
              "</style>\n",
              "<table border=\"1\" class=\"dataframe\">\n",
              "  <thead>\n",
              "    <tr style=\"text-align: right;\">\n",
              "      <th></th>\n",
              "      <th>CI 95%(2.5%)</th>\n",
              "      <th>CI 95%(97.5%)</th>\n",
              "      <th>Odds Ratio</th>\n",
              "      <th>pvalue</th>\n",
              "    </tr>\n",
              "  </thead>\n",
              "  <tbody>\n",
              "    <tr>\n",
              "      <th>RestingBP</th>\n",
              "      <td>1.001295</td>\n",
              "      <td>1.010693</td>\n",
              "      <td>1.005983</td>\n",
              "      <td>0.012</td>\n",
              "    </tr>\n",
              "    <tr>\n",
              "      <th>FastingBS</th>\n",
              "      <td>4.153313</td>\n",
              "      <td>101.866877</td>\n",
              "      <td>20.569030</td>\n",
              "      <td>0.000</td>\n",
              "    </tr>\n",
              "    <tr>\n",
              "      <th>ChestPainType_ATA</th>\n",
              "      <td>0.037661</td>\n",
              "      <td>0.477006</td>\n",
              "      <td>0.134032</td>\n",
              "      <td>0.002</td>\n",
              "    </tr>\n",
              "    <tr>\n",
              "      <th>ChestPainType_NAP</th>\n",
              "      <td>0.043306</td>\n",
              "      <td>0.411054</td>\n",
              "      <td>0.133421</td>\n",
              "      <td>0.000</td>\n",
              "    </tr>\n",
              "    <tr>\n",
              "      <th>ChestPainType_TA</th>\n",
              "      <td>0.002432</td>\n",
              "      <td>0.911724</td>\n",
              "      <td>0.047085</td>\n",
              "      <td>0.043</td>\n",
              "    </tr>\n",
              "    <tr>\n",
              "      <th>ST_Slope_Up</th>\n",
              "      <td>0.010960</td>\n",
              "      <td>0.147476</td>\n",
              "      <td>0.040204</td>\n",
              "      <td>0.000</td>\n",
              "    </tr>\n",
              "  </tbody>\n",
              "</table>\n",
              "</div>"
            ],
            "text/plain": [
              "                   CI 95%(2.5%)  CI 95%(97.5%)  Odds Ratio  pvalue\n",
              "RestingBP              1.001295       1.010693    1.005983   0.012\n",
              "FastingBS              4.153313     101.866877   20.569030   0.000\n",
              "ChestPainType_ATA      0.037661       0.477006    0.134032   0.002\n",
              "ChestPainType_NAP      0.043306       0.411054    0.133421   0.000\n",
              "ChestPainType_TA       0.002432       0.911724    0.047085   0.043\n",
              "ST_Slope_Up            0.010960       0.147476    0.040204   0.000"
            ]
          },
          "metadata": {},
          "execution_count": 33
        }
      ]
    },
    {
      "cell_type": "markdown",
      "source": [
        "**Interpretation of the Odds Ratio**"
      ],
      "metadata": {
        "id": "HKEBqvCTy5dY"
      }
    },
    {
      "cell_type": "markdown",
      "source": [
        "**RestingBP** - The odds of getting diagnosed with heart disease for the RestingBP attribute is 1.01, indicating that female patients with higher resting blood pressure are at slightly higher risk of having heart disease. For every 1 mm/hg increase in blood pressure, the patient has a 1% increase in probability of heart disease.\n",
        "\n",
        "**FastingBS** - With an odds ratio of 20.57, female patients with fasting blood sugar higher than 120 mg/dl are at 20.57 times greater odds to be diagnosed with heart disease than female patients with lower fasting blood sugar levels.\n",
        "\n",
        "**ChestPainType** - ATA (atypical angina): 0.13, NAP (non-anginal pain): 0.13, TA (typical angina): 0.05. The odds ratios for all three types of chest pain are below 1, signifying that patients with these types of chest pain are less likely to have heart disease, compared to those who have asymptomatic pain. Patients with atypical angina and non-anginal pain are both 87% less likely, and patients with atypical angina are 95% less likely to have heart disease compared to patients with asymptomatic chest pain.\n",
        "\n",
        "**ST Slope** - With an odd ratio of 0.04 for up, female patients with up ST slope are 96% less likely to have heart disease than those with down ST slope. Flat ST slope was eliminated due statistical insignificance."
      ],
      "metadata": {
        "id": "L59eWo_Cy_i9"
      }
    },
    {
      "cell_type": "markdown",
      "source": [
        "**ROC**"
      ],
      "metadata": {
        "id": "X2kj-OcNBQ_B"
      }
    },
    {
      "cell_type": "code",
      "source": [
        "plot_ROC(result_M)"
      ],
      "metadata": {
        "id": "fVCKX49cBWHJ",
        "outputId": "6943c44e-74b5-4683-8a90-37a3eeb4a0d6",
        "colab": {
          "base_uri": "https://localhost:8080/",
          "height": 374
        }
      },
      "execution_count": null,
      "outputs": [
        {
          "output_type": "stream",
          "name": "stderr",
          "text": [
            "/usr/local/lib/python3.7/dist-packages/ipykernel_launcher.py:15: RuntimeWarning: invalid value encountered in double_scalars\n",
            "  from ipykernel import kernelapp as app\n"
          ]
        },
        {
          "output_type": "stream",
          "name": "stdout",
          "text": [
            "Area under ROC curve = 0.92\n",
            "Youden's J = 0.72\n"
          ]
        },
        {
          "output_type": "display_data",
          "data": {
            "image/png": "[encoded data removed]",
            "text/plain": [
              "<Figure size 432x288 with 1 Axes>"
            ]
          },
          "metadata": {
            "needs_background": "light"
          }
        }
      ]
    },
    {
      "cell_type": "code",
      "source": [
        "plot_ROC(result_F)"
      ],
      "metadata": {
        "id": "QqHmNjl4BXYm",
        "outputId": "fc7a86d2-43ad-4fd5-b1e3-9e8ffe9b9770",
        "colab": {
          "base_uri": "https://localhost:8080/",
          "height": 374
        }
      },
      "execution_count": null,
      "outputs": [
        {
          "output_type": "stream",
          "name": "stderr",
          "text": [
            "/usr/local/lib/python3.7/dist-packages/ipykernel_launcher.py:15: RuntimeWarning: invalid value encountered in double_scalars\n",
            "  from ipykernel import kernelapp as app\n"
          ]
        },
        {
          "output_type": "stream",
          "name": "stdout",
          "text": [
            "Area under ROC curve = 0.93\n",
            "Youden's J = 0.72\n"
          ]
        },
        {
          "output_type": "display_data",
          "data": {
            "image/png": "[encoded data removed]",
            "text/plain": [
              "<Figure size 432x288 with 1 Axes>"
            ]
          },
          "metadata": {
            "needs_background": "light"
          }
        }
      ]
    }
  ]
}