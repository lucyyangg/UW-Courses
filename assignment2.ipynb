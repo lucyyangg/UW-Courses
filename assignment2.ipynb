{
 "cells": [
  {
   "cell_type": "markdown",
   "metadata": {},
   "source": [
    "Before you turn this problem in, make sure everything runs as expected. First, **restart the kernel** (in the menu bar, select Kernel$\\rightarrow$Restart) and then **run all cells** (in the menu bar, select Cell$\\rightarrow$Run All).\n",
    "\n",
    "Make sure that in addition to the code, you provide written answers for all questions of the assignment. \n",
    "\n",
    "Below, please fill in your name and collaborators:"
   ]
  },
  {
   "cell_type": "code",
   "execution_count": 1,
   "metadata": {
    "collapsed": true
   },
   "outputs": [],
   "source": [
    "NAME = \"Lucy Yang\"\n",
    "COLLABORATORS = \"\""
   ]
  },
  {
   "cell_type": "markdown",
   "metadata": {},
   "source": [
    "## Assignment 2 - Data Analysis using Pandas\n",
    "**(15 points total)**"
   ]
  },
  {
   "cell_type": "markdown",
   "metadata": {},
   "source": [
    "For this assignment, we will analyze the open dataset with data on the passengers aboard the Titanic.\n",
    "\n",
    "The data file for this assignment can be downloaded from Kaggle website: https://www.kaggle.com/c/titanic/data, file `train.csv`. It is also attached to the assignment page. The definition of all variables can be found on the same Kaggle page, in the Data Dictionary section.\n",
    "\n",
    "Read the data from the file into pandas DataFrame. Analyze, clean and transform the data to answer the following question: \n",
    "\n",
    "**What categories of passengers were most likely to survive the Titanic disaster?**"
   ]
  },
  {
   "cell_type": "markdown",
   "metadata": {},
   "source": [
    "**Question 1.**  _(4 points)_\n",
    "* The answer to the main question - What categories of passengers were most likely to survive the Titanic disaster? _(2 points)_\n",
    "    * Looking at individual attributes, the following categories of passengers were more likely to survive:\n",
    "        - Women\n",
    "        - Passengers around the age of 25 (15-40 year olds as well as babies/toddlers < 5 also have a decent chance of survival)\n",
    "        - Passengers who did not have any family on board\n",
    "        - Passengers who were in first class\n",
    "    * 2 variables:\n",
    "         - In the same passenger class, women are just as likely to survive than men in first class, more likely to survive in 2nd and less likely in 3rd\n",
    "         - Women more likely to survive in all age ranges than men, but there were also more women on board to start with\n",
    "        \n",
    "* The detailed explanation of the logic of the analysis _(2 points)_\n",
    "    * I thought that women and childen were prioritized in getting onto life boats from the Titanic movie. Thus I split the original dataframe by all male passengers, all female passengers, survivors, male survivors, and female survivors. I first looked at the sex composition of survivors against all survivors, just to make sure that there were not more female survivors because there were more females on board to start with. Then I compared the age distribution for each of those categories, again to make sure that there age range with the most survivors were not disproportionally large in all passengers. I then continued comparing the distribution for passenger class, fare, SibSp+Parch and embarkment location between sexes of survivors and sexes of all passengers. At this point I'm trying to figure out which demographic to focus on. I used a scatter plot to determine the relationship between fare values and the passenger class. The conclusion I was able to draw was that there was no clear correlation between the two, as some first class fares were as low as third class fares. There was also one outlier at approimately $500. I then looked at the embarkment location split among survivors. The proportions were close enough to that of all passengers that I believe it has no real correlation probability of survival.\n",
    "    * Focusing on the 15-40 year group as most survivors seem to belong in that category, I looked at the split of # family members they traveled with, and class. Both distributions looked proportional to that of total survivors.\n",
    "    * Testing my hypothesis of whether solo travelers were more likely to survive, I looked at the age and class distribution of survivors and all passengers. The results were that most solo travelers belonged to the age 15-40 group which indicates correlation. For the class distribution, survivors who were traveling solo belonged to first and third class were pretty close, where as there were significantly more solo travelers in third class when looking at all passengers. The lack of proportion here leads me to think that passenger class is not very important in determining probability of survival. Instead, it is sex, and age or traveling by oneself (those two could be closely related as well).\n",
    "\n",
    "\n",
    "**Question 2.**  _(3 points)_\n",
    "* What other attributes did you use for the analysis? Explain how you used them and why you decided to use them. \n",
    "    * \n",
    "        - Survived - Used to filter for passengers who actually survived the wreck, to allow for analysis of their characteristics/attributes\n",
    "        - Sex - As it was said at the end of the movie, women and children first. Data was further split by sex to determine if the remaining attributes had strong correlations to survival\n",
    "        - Age - Statistical value of life decreases as age increases. Compared between all passengers, all survivors and the sexes among survivors.\n",
    "        - SibSp/Parch (summed to make the Family column) - Thought those by themselves didn't have to focus their attention/efforts on family and would therefore be more likely to survive. These were first compared between sexes and among all survivors, then among survivors 15-40 years old (as they made up majority of the survivors).\n",
    "        - Pclass - Thought first class would take priority. Compared between sexes among all survivors, as well as survivors 15-40 years\n",
    "        - Fare - Used to verify relationship against passenger class. The scatter plot against passenger class indicates that there is no strong correlaton between the two attributes.\n",
    "        - Embarked - Was not sure if this attribute was useful, so kept it in. Compared against all passengers\n",
    "        \n",
    "* Provide a complete list of all attributes used.\n",
    "    * Attributes used are Survived, Pclass, Sex, Age, SibSp, Parch, Fare and Embarked\n",
    "\n",
    "**Question 3.**  _(3 points)_\n",
    "* Did you engineer any attributes (created new attributes)? If yes, explain the rationale and how the new attributes were used in the analysis?\n",
    "     * Yes, I created the Family attribute through addition of SibSp and Parch, as there were a lot of similarities when previously analyzing the two attributes separately. There were also some overlaps in determining if the people who traveled without parents/children were also without siblings/spouses. Therefore it was just easier to add them together and use the sum.\n",
    "* If you have excluded any attributes from the analysis, provide an explanation why you believe they can be excluded.\n",
    "    * Attributes excluded are passender ID, name, ticket and cabin. Rational as follows:\n",
    "        - PassengerId - originally used as the index, but realized that after filtering for suvived=1, this would no longer be consecutive\n",
    "        - Name - irrelevant to survival as we have other characteristics of the passengers\n",
    "        - Ticket - refers to ticket number and seems to be a series of random numbers\n",
    "        - Cabin - this data is missing for >2/3 of the entire data, thus difficult to use to form any conclusions. We also don't know what the layout of the ship is and what the cabin number refers to where the room is located\n",
    "\n",
    "**Question 4.**  _(5 points)_\n",
    "* How did you treat missing values for those attributes that you included in the analysis (for example, `age` attribute)? Provide a detailed explanation in the comments.\n",
    "    * Out of the columns that I used, Embarked had 2 missing values. I dropped those rows as it was not a significant quantity. Age had 177 missing values, 52 of which belonged to survivors. I dropped the rows those rows as well, although out of 342 survivor entries, ~15% isn't insignificant. I then tried to fill them  with the survivor mean age. That didn't seem like the correct method as it increased the height of the existing peak. I then tried to create an array of normal distribution values, with the same mean and standard deviation as the survivor age distribution. However, I ran into a lot of trouble with the filling part and eventually gave up. I think this might've been a better solution than dropping the values or filling with a scalar."
   ]
  },
  {
   "cell_type": "code",
   "execution_count": 2,
   "metadata": {
    "collapsed": true
   },
   "outputs": [],
   "source": [
    "#load libraries and read data csv file\n",
    "\n",
    "import pandas as pd\n",
    "import numpy as np\n",
    "import seaborn as sns\n",
    "import matplotlib.pyplot as plt\n",
    "\n",
    "df = pd.read_csv(\"train.csv\")"
   ]
  },
  {
   "cell_type": "code",
   "execution_count": 3,
   "metadata": {},
   "outputs": [
    {
     "data": {
      "text/html": [
       "<div>\n",
       "<style>\n",
       "    .dataframe thead tr:only-child th {\n",
       "        text-align: right;\n",
       "    }\n",
       "\n",
       "    .dataframe thead th {\n",
       "        text-align: left;\n",
       "    }\n",
       "\n",
       "    .dataframe tbody tr th {\n",
       "        vertical-align: top;\n",
       "    }\n",
       "</style>\n",
       "<table border=\"1\" class=\"dataframe\">\n",
       "  <thead>\n",
       "    <tr style=\"text-align: right;\">\n",
       "      <th></th>\n",
       "      <th>PassengerId</th>\n",
       "      <th>Survived</th>\n",
       "      <th>Pclass</th>\n",
       "      <th>Name</th>\n",
       "      <th>Sex</th>\n",
       "      <th>Age</th>\n",
       "      <th>SibSp</th>\n",
       "      <th>Parch</th>\n",
       "      <th>Ticket</th>\n",
       "      <th>Fare</th>\n",
       "      <th>Cabin</th>\n",
       "      <th>Embarked</th>\n",
       "    </tr>\n",
       "  </thead>\n",
       "  <tbody>\n",
       "    <tr>\n",
       "      <th>0</th>\n",
       "      <td>1</td>\n",
       "      <td>0</td>\n",
       "      <td>3</td>\n",
       "      <td>Braund, Mr. Owen Harris</td>\n",
       "      <td>male</td>\n",
       "      <td>22.0</td>\n",
       "      <td>1</td>\n",
       "      <td>0</td>\n",
       "      <td>A/5 21171</td>\n",
       "      <td>7.2500</td>\n",
       "      <td>NaN</td>\n",
       "      <td>S</td>\n",
       "    </tr>\n",
       "    <tr>\n",
       "      <th>1</th>\n",
       "      <td>2</td>\n",
       "      <td>1</td>\n",
       "      <td>1</td>\n",
       "      <td>Cumings, Mrs. John Bradley (Florence Briggs Th...</td>\n",
       "      <td>female</td>\n",
       "      <td>38.0</td>\n",
       "      <td>1</td>\n",
       "      <td>0</td>\n",
       "      <td>PC 17599</td>\n",
       "      <td>71.2833</td>\n",
       "      <td>C85</td>\n",
       "      <td>C</td>\n",
       "    </tr>\n",
       "    <tr>\n",
       "      <th>2</th>\n",
       "      <td>3</td>\n",
       "      <td>1</td>\n",
       "      <td>3</td>\n",
       "      <td>Heikkinen, Miss. Laina</td>\n",
       "      <td>female</td>\n",
       "      <td>26.0</td>\n",
       "      <td>0</td>\n",
       "      <td>0</td>\n",
       "      <td>STON/O2. 3101282</td>\n",
       "      <td>7.9250</td>\n",
       "      <td>NaN</td>\n",
       "      <td>S</td>\n",
       "    </tr>\n",
       "    <tr>\n",
       "      <th>3</th>\n",
       "      <td>4</td>\n",
       "      <td>1</td>\n",
       "      <td>1</td>\n",
       "      <td>Futrelle, Mrs. Jacques Heath (Lily May Peel)</td>\n",
       "      <td>female</td>\n",
       "      <td>35.0</td>\n",
       "      <td>1</td>\n",
       "      <td>0</td>\n",
       "      <td>113803</td>\n",
       "      <td>53.1000</td>\n",
       "      <td>C123</td>\n",
       "      <td>S</td>\n",
       "    </tr>\n",
       "    <tr>\n",
       "      <th>4</th>\n",
       "      <td>5</td>\n",
       "      <td>0</td>\n",
       "      <td>3</td>\n",
       "      <td>Allen, Mr. William Henry</td>\n",
       "      <td>male</td>\n",
       "      <td>35.0</td>\n",
       "      <td>0</td>\n",
       "      <td>0</td>\n",
       "      <td>373450</td>\n",
       "      <td>8.0500</td>\n",
       "      <td>NaN</td>\n",
       "      <td>S</td>\n",
       "    </tr>\n",
       "  </tbody>\n",
       "</table>\n",
       "</div>"
      ],
      "text/plain": [
       "   PassengerId  Survived  Pclass  \\\n",
       "0            1         0       3   \n",
       "1            2         1       1   \n",
       "2            3         1       3   \n",
       "3            4         1       1   \n",
       "4            5         0       3   \n",
       "\n",
       "                                                Name     Sex   Age  SibSp  \\\n",
       "0                            Braund, Mr. Owen Harris    male  22.0      1   \n",
       "1  Cumings, Mrs. John Bradley (Florence Briggs Th...  female  38.0      1   \n",
       "2                             Heikkinen, Miss. Laina  female  26.0      0   \n",
       "3       Futrelle, Mrs. Jacques Heath (Lily May Peel)  female  35.0      1   \n",
       "4                           Allen, Mr. William Henry    male  35.0      0   \n",
       "\n",
       "   Parch            Ticket     Fare Cabin Embarked  \n",
       "0      0         A/5 21171   7.2500   NaN        S  \n",
       "1      0          PC 17599  71.2833   C85        C  \n",
       "2      0  STON/O2. 3101282   7.9250   NaN        S  \n",
       "3      0            113803  53.1000  C123        S  \n",
       "4      0            373450   8.0500   NaN        S  "
      ]
     },
     "execution_count": 3,
     "metadata": {},
     "output_type": "execute_result"
    }
   ],
   "source": [
    "#inspect dataframe\n",
    "df.head()"
   ]
  },
  {
   "cell_type": "code",
   "execution_count": 4,
   "metadata": {},
   "outputs": [
    {
     "name": "stdout",
     "output_type": "stream",
     "text": [
      "<class 'pandas.core.frame.DataFrame'>\n",
      "RangeIndex: 891 entries, 0 to 890\n",
      "Data columns (total 12 columns):\n",
      "PassengerId    891 non-null int64\n",
      "Survived       891 non-null int64\n",
      "Pclass         891 non-null int64\n",
      "Name           891 non-null object\n",
      "Sex            891 non-null object\n",
      "Age            714 non-null float64\n",
      "SibSp          891 non-null int64\n",
      "Parch          891 non-null int64\n",
      "Ticket         891 non-null object\n",
      "Fare           891 non-null float64\n",
      "Cabin          204 non-null object\n",
      "Embarked       889 non-null object\n",
      "dtypes: float64(2), int64(5), object(5)\n",
      "memory usage: 83.6+ KB\n"
     ]
    }
   ],
   "source": [
    "df.info()"
   ]
  },
  {
   "cell_type": "code",
   "execution_count": 5,
   "metadata": {},
   "outputs": [
    {
     "data": {
      "text/plain": [
       "PassengerId      0\n",
       "Survived         0\n",
       "Pclass           0\n",
       "Name             0\n",
       "Sex              0\n",
       "Age            177\n",
       "SibSp            0\n",
       "Parch            0\n",
       "Ticket           0\n",
       "Fare             0\n",
       "Cabin          687\n",
       "Embarked         2\n",
       "dtype: int64"
      ]
     },
     "execution_count": 5,
     "metadata": {},
     "output_type": "execute_result"
    }
   ],
   "source": [
    "#Check for missing data\n",
    "df.isnull().sum()"
   ]
  },
  {
   "cell_type": "code",
   "execution_count": 6,
   "metadata": {
    "collapsed": true
   },
   "outputs": [],
   "source": [
    "#Drop columns that have no correlation to survival\n",
    "df.drop([\"PassengerId\", \"Name\", \"Ticket\", \"Cabin\"], axis=1, inplace=True)"
   ]
  },
  {
   "cell_type": "code",
   "execution_count": 7,
   "metadata": {},
   "outputs": [
    {
     "data": {
      "text/html": [
       "<div>\n",
       "<style>\n",
       "    .dataframe thead tr:only-child th {\n",
       "        text-align: right;\n",
       "    }\n",
       "\n",
       "    .dataframe thead th {\n",
       "        text-align: left;\n",
       "    }\n",
       "\n",
       "    .dataframe tbody tr th {\n",
       "        vertical-align: top;\n",
       "    }\n",
       "</style>\n",
       "<table border=\"1\" class=\"dataframe\">\n",
       "  <thead>\n",
       "    <tr style=\"text-align: right;\">\n",
       "      <th></th>\n",
       "      <th>Survived</th>\n",
       "      <th>Pclass</th>\n",
       "      <th>Sex</th>\n",
       "      <th>Age</th>\n",
       "      <th>SibSp</th>\n",
       "      <th>Parch</th>\n",
       "      <th>Fare</th>\n",
       "      <th>Embarked</th>\n",
       "    </tr>\n",
       "  </thead>\n",
       "  <tbody>\n",
       "    <tr>\n",
       "      <th>0</th>\n",
       "      <td>0</td>\n",
       "      <td>3</td>\n",
       "      <td>male</td>\n",
       "      <td>22.0</td>\n",
       "      <td>1</td>\n",
       "      <td>0</td>\n",
       "      <td>7.2500</td>\n",
       "      <td>S</td>\n",
       "    </tr>\n",
       "    <tr>\n",
       "      <th>1</th>\n",
       "      <td>1</td>\n",
       "      <td>1</td>\n",
       "      <td>female</td>\n",
       "      <td>38.0</td>\n",
       "      <td>1</td>\n",
       "      <td>0</td>\n",
       "      <td>71.2833</td>\n",
       "      <td>C</td>\n",
       "    </tr>\n",
       "    <tr>\n",
       "      <th>2</th>\n",
       "      <td>1</td>\n",
       "      <td>3</td>\n",
       "      <td>female</td>\n",
       "      <td>26.0</td>\n",
       "      <td>0</td>\n",
       "      <td>0</td>\n",
       "      <td>7.9250</td>\n",
       "      <td>S</td>\n",
       "    </tr>\n",
       "    <tr>\n",
       "      <th>3</th>\n",
       "      <td>1</td>\n",
       "      <td>1</td>\n",
       "      <td>female</td>\n",
       "      <td>35.0</td>\n",
       "      <td>1</td>\n",
       "      <td>0</td>\n",
       "      <td>53.1000</td>\n",
       "      <td>S</td>\n",
       "    </tr>\n",
       "    <tr>\n",
       "      <th>4</th>\n",
       "      <td>0</td>\n",
       "      <td>3</td>\n",
       "      <td>male</td>\n",
       "      <td>35.0</td>\n",
       "      <td>0</td>\n",
       "      <td>0</td>\n",
       "      <td>8.0500</td>\n",
       "      <td>S</td>\n",
       "    </tr>\n",
       "  </tbody>\n",
       "</table>\n",
       "</div>"
      ],
      "text/plain": [
       "   Survived  Pclass     Sex   Age  SibSp  Parch     Fare Embarked\n",
       "0         0       3    male  22.0      1      0   7.2500        S\n",
       "1         1       1  female  38.0      1      0  71.2833        C\n",
       "2         1       3  female  26.0      0      0   7.9250        S\n",
       "3         1       1  female  35.0      1      0  53.1000        S\n",
       "4         0       3    male  35.0      0      0   8.0500        S"
      ]
     },
     "execution_count": 7,
     "metadata": {},
     "output_type": "execute_result"
    }
   ],
   "source": [
    "df.head()"
   ]
  },
  {
   "cell_type": "code",
   "execution_count": 8,
   "metadata": {},
   "outputs": [
    {
     "data": {
      "text/html": [
       "<div>\n",
       "<style>\n",
       "    .dataframe thead tr:only-child th {\n",
       "        text-align: right;\n",
       "    }\n",
       "\n",
       "    .dataframe thead th {\n",
       "        text-align: left;\n",
       "    }\n",
       "\n",
       "    .dataframe tbody tr th {\n",
       "        vertical-align: top;\n",
       "    }\n",
       "</style>\n",
       "<table border=\"1\" class=\"dataframe\">\n",
       "  <thead>\n",
       "    <tr style=\"text-align: right;\">\n",
       "      <th></th>\n",
       "      <th>Survived</th>\n",
       "      <th>Pclass</th>\n",
       "      <th>Sex</th>\n",
       "      <th>Age</th>\n",
       "      <th>SibSp</th>\n",
       "      <th>Parch</th>\n",
       "      <th>Fare</th>\n",
       "      <th>Embarked</th>\n",
       "      <th>Family</th>\n",
       "    </tr>\n",
       "  </thead>\n",
       "  <tbody>\n",
       "    <tr>\n",
       "      <th>0</th>\n",
       "      <td>0</td>\n",
       "      <td>3</td>\n",
       "      <td>male</td>\n",
       "      <td>22.0</td>\n",
       "      <td>1</td>\n",
       "      <td>0</td>\n",
       "      <td>7.2500</td>\n",
       "      <td>S</td>\n",
       "      <td>1</td>\n",
       "    </tr>\n",
       "    <tr>\n",
       "      <th>1</th>\n",
       "      <td>1</td>\n",
       "      <td>1</td>\n",
       "      <td>female</td>\n",
       "      <td>38.0</td>\n",
       "      <td>1</td>\n",
       "      <td>0</td>\n",
       "      <td>71.2833</td>\n",
       "      <td>C</td>\n",
       "      <td>1</td>\n",
       "    </tr>\n",
       "    <tr>\n",
       "      <th>2</th>\n",
       "      <td>1</td>\n",
       "      <td>3</td>\n",
       "      <td>female</td>\n",
       "      <td>26.0</td>\n",
       "      <td>0</td>\n",
       "      <td>0</td>\n",
       "      <td>7.9250</td>\n",
       "      <td>S</td>\n",
       "      <td>0</td>\n",
       "    </tr>\n",
       "    <tr>\n",
       "      <th>3</th>\n",
       "      <td>1</td>\n",
       "      <td>1</td>\n",
       "      <td>female</td>\n",
       "      <td>35.0</td>\n",
       "      <td>1</td>\n",
       "      <td>0</td>\n",
       "      <td>53.1000</td>\n",
       "      <td>S</td>\n",
       "      <td>1</td>\n",
       "    </tr>\n",
       "    <tr>\n",
       "      <th>4</th>\n",
       "      <td>0</td>\n",
       "      <td>3</td>\n",
       "      <td>male</td>\n",
       "      <td>35.0</td>\n",
       "      <td>0</td>\n",
       "      <td>0</td>\n",
       "      <td>8.0500</td>\n",
       "      <td>S</td>\n",
       "      <td>0</td>\n",
       "    </tr>\n",
       "  </tbody>\n",
       "</table>\n",
       "</div>"
      ],
      "text/plain": [
       "   Survived  Pclass     Sex   Age  SibSp  Parch     Fare Embarked  Family\n",
       "0         0       3    male  22.0      1      0   7.2500        S       1\n",
       "1         1       1  female  38.0      1      0  71.2833        C       1\n",
       "2         1       3  female  26.0      0      0   7.9250        S       0\n",
       "3         1       1  female  35.0      1      0  53.1000        S       1\n",
       "4         0       3    male  35.0      0      0   8.0500        S       0"
      ]
     },
     "execution_count": 8,
     "metadata": {},
     "output_type": "execute_result"
    }
   ],
   "source": [
    "df.insert(8, \"Family\", df.SibSp+df.Parch)\n",
    "df.head()"
   ]
  },
  {
   "cell_type": "code",
   "execution_count": 9,
   "metadata": {},
   "outputs": [
    {
     "data": {
      "text/html": [
       "<div>\n",
       "<style>\n",
       "    .dataframe thead tr:only-child th {\n",
       "        text-align: right;\n",
       "    }\n",
       "\n",
       "    .dataframe thead th {\n",
       "        text-align: left;\n",
       "    }\n",
       "\n",
       "    .dataframe tbody tr th {\n",
       "        vertical-align: top;\n",
       "    }\n",
       "</style>\n",
       "<table border=\"1\" class=\"dataframe\">\n",
       "  <thead>\n",
       "    <tr style=\"text-align: right;\">\n",
       "      <th></th>\n",
       "      <th>Survived</th>\n",
       "      <th>Pclass</th>\n",
       "      <th>Sex</th>\n",
       "      <th>Age</th>\n",
       "      <th>SibSp</th>\n",
       "      <th>Parch</th>\n",
       "      <th>Fare</th>\n",
       "      <th>Embarked</th>\n",
       "      <th>Family</th>\n",
       "    </tr>\n",
       "  </thead>\n",
       "  <tbody>\n",
       "    <tr>\n",
       "      <th>1</th>\n",
       "      <td>1</td>\n",
       "      <td>1</td>\n",
       "      <td>female</td>\n",
       "      <td>38.0</td>\n",
       "      <td>1</td>\n",
       "      <td>0</td>\n",
       "      <td>71.2833</td>\n",
       "      <td>C</td>\n",
       "      <td>1</td>\n",
       "    </tr>\n",
       "    <tr>\n",
       "      <th>2</th>\n",
       "      <td>1</td>\n",
       "      <td>3</td>\n",
       "      <td>female</td>\n",
       "      <td>26.0</td>\n",
       "      <td>0</td>\n",
       "      <td>0</td>\n",
       "      <td>7.9250</td>\n",
       "      <td>S</td>\n",
       "      <td>0</td>\n",
       "    </tr>\n",
       "    <tr>\n",
       "      <th>3</th>\n",
       "      <td>1</td>\n",
       "      <td>1</td>\n",
       "      <td>female</td>\n",
       "      <td>35.0</td>\n",
       "      <td>1</td>\n",
       "      <td>0</td>\n",
       "      <td>53.1000</td>\n",
       "      <td>S</td>\n",
       "      <td>1</td>\n",
       "    </tr>\n",
       "    <tr>\n",
       "      <th>8</th>\n",
       "      <td>1</td>\n",
       "      <td>3</td>\n",
       "      <td>female</td>\n",
       "      <td>27.0</td>\n",
       "      <td>0</td>\n",
       "      <td>2</td>\n",
       "      <td>11.1333</td>\n",
       "      <td>S</td>\n",
       "      <td>2</td>\n",
       "    </tr>\n",
       "    <tr>\n",
       "      <th>9</th>\n",
       "      <td>1</td>\n",
       "      <td>2</td>\n",
       "      <td>female</td>\n",
       "      <td>14.0</td>\n",
       "      <td>1</td>\n",
       "      <td>0</td>\n",
       "      <td>30.0708</td>\n",
       "      <td>C</td>\n",
       "      <td>1</td>\n",
       "    </tr>\n",
       "  </tbody>\n",
       "</table>\n",
       "</div>"
      ],
      "text/plain": [
       "   Survived  Pclass     Sex   Age  SibSp  Parch     Fare Embarked  Family\n",
       "1         1       1  female  38.0      1      0  71.2833        C       1\n",
       "2         1       3  female  26.0      0      0   7.9250        S       0\n",
       "3         1       1  female  35.0      1      0  53.1000        S       1\n",
       "8         1       3  female  27.0      0      2  11.1333        S       2\n",
       "9         1       2  female  14.0      1      0  30.0708        C       1"
      ]
     },
     "execution_count": 9,
     "metadata": {},
     "output_type": "execute_result"
    }
   ],
   "source": [
    "#Check for survivors\n",
    "survived=df.loc[df['Survived']==1]\n",
    "survived.head()"
   ]
  },
  {
   "cell_type": "code",
   "execution_count": 10,
   "metadata": {},
   "outputs": [
    {
     "name": "stdout",
     "output_type": "stream",
     "text": [
      "<class 'pandas.core.frame.DataFrame'>\n",
      "Int64Index: 342 entries, 1 to 889\n",
      "Data columns (total 9 columns):\n",
      "Survived    342 non-null int64\n",
      "Pclass      342 non-null int64\n",
      "Sex         342 non-null object\n",
      "Age         290 non-null float64\n",
      "SibSp       342 non-null int64\n",
      "Parch       342 non-null int64\n",
      "Fare        342 non-null float64\n",
      "Embarked    340 non-null object\n",
      "Family      342 non-null int64\n",
      "dtypes: float64(2), int64(5), object(2)\n",
      "memory usage: 26.7+ KB\n"
     ]
    }
   ],
   "source": [
    "survived.info()"
   ]
  },
  {
   "cell_type": "code",
   "execution_count": 11,
   "metadata": {},
   "outputs": [
    {
     "data": {
      "text/html": [
       "<div>\n",
       "<style>\n",
       "    .dataframe thead tr:only-child th {\n",
       "        text-align: right;\n",
       "    }\n",
       "\n",
       "    .dataframe thead th {\n",
       "        text-align: left;\n",
       "    }\n",
       "\n",
       "    .dataframe tbody tr th {\n",
       "        vertical-align: top;\n",
       "    }\n",
       "</style>\n",
       "<table border=\"1\" class=\"dataframe\">\n",
       "  <thead>\n",
       "    <tr style=\"text-align: right;\">\n",
       "      <th></th>\n",
       "      <th>Survived</th>\n",
       "      <th>Pclass</th>\n",
       "      <th>Sex</th>\n",
       "      <th>Age</th>\n",
       "      <th>SibSp</th>\n",
       "      <th>Parch</th>\n",
       "      <th>Fare</th>\n",
       "      <th>Embarked</th>\n",
       "      <th>Family</th>\n",
       "    </tr>\n",
       "  </thead>\n",
       "  <tbody>\n",
       "    <tr>\n",
       "      <th>1</th>\n",
       "      <td>1</td>\n",
       "      <td>1</td>\n",
       "      <td>female</td>\n",
       "      <td>38.0</td>\n",
       "      <td>1</td>\n",
       "      <td>0</td>\n",
       "      <td>71.2833</td>\n",
       "      <td>C</td>\n",
       "      <td>1</td>\n",
       "    </tr>\n",
       "    <tr>\n",
       "      <th>2</th>\n",
       "      <td>1</td>\n",
       "      <td>3</td>\n",
       "      <td>female</td>\n",
       "      <td>26.0</td>\n",
       "      <td>0</td>\n",
       "      <td>0</td>\n",
       "      <td>7.9250</td>\n",
       "      <td>S</td>\n",
       "      <td>0</td>\n",
       "    </tr>\n",
       "    <tr>\n",
       "      <th>3</th>\n",
       "      <td>1</td>\n",
       "      <td>1</td>\n",
       "      <td>female</td>\n",
       "      <td>35.0</td>\n",
       "      <td>1</td>\n",
       "      <td>0</td>\n",
       "      <td>53.1000</td>\n",
       "      <td>S</td>\n",
       "      <td>1</td>\n",
       "    </tr>\n",
       "    <tr>\n",
       "      <th>8</th>\n",
       "      <td>1</td>\n",
       "      <td>3</td>\n",
       "      <td>female</td>\n",
       "      <td>27.0</td>\n",
       "      <td>0</td>\n",
       "      <td>2</td>\n",
       "      <td>11.1333</td>\n",
       "      <td>S</td>\n",
       "      <td>2</td>\n",
       "    </tr>\n",
       "    <tr>\n",
       "      <th>9</th>\n",
       "      <td>1</td>\n",
       "      <td>2</td>\n",
       "      <td>female</td>\n",
       "      <td>14.0</td>\n",
       "      <td>1</td>\n",
       "      <td>0</td>\n",
       "      <td>30.0708</td>\n",
       "      <td>C</td>\n",
       "      <td>1</td>\n",
       "    </tr>\n",
       "  </tbody>\n",
       "</table>\n",
       "</div>"
      ],
      "text/plain": [
       "   Survived  Pclass     Sex   Age  SibSp  Parch     Fare Embarked  Family\n",
       "1         1       1  female  38.0      1      0  71.2833        C       1\n",
       "2         1       3  female  26.0      0      0   7.9250        S       0\n",
       "3         1       1  female  35.0      1      0  53.1000        S       1\n",
       "8         1       3  female  27.0      0      2  11.1333        S       2\n",
       "9         1       2  female  14.0      1      0  30.0708        C       1"
      ]
     },
     "execution_count": 11,
     "metadata": {},
     "output_type": "execute_result"
    }
   ],
   "source": [
    "#Split data based on sex\n",
    "#Female\n",
    "survived_f=survived.loc[survived['Sex']=='female']\n",
    "survived_f.head()"
   ]
  },
  {
   "cell_type": "code",
   "execution_count": 12,
   "metadata": {},
   "outputs": [
    {
     "data": {
      "text/html": [
       "<div>\n",
       "<style>\n",
       "    .dataframe thead tr:only-child th {\n",
       "        text-align: right;\n",
       "    }\n",
       "\n",
       "    .dataframe thead th {\n",
       "        text-align: left;\n",
       "    }\n",
       "\n",
       "    .dataframe tbody tr th {\n",
       "        vertical-align: top;\n",
       "    }\n",
       "</style>\n",
       "<table border=\"1\" class=\"dataframe\">\n",
       "  <thead>\n",
       "    <tr style=\"text-align: right;\">\n",
       "      <th></th>\n",
       "      <th>Survived</th>\n",
       "      <th>Pclass</th>\n",
       "      <th>Sex</th>\n",
       "      <th>Age</th>\n",
       "      <th>SibSp</th>\n",
       "      <th>Parch</th>\n",
       "      <th>Fare</th>\n",
       "      <th>Embarked</th>\n",
       "      <th>Family</th>\n",
       "    </tr>\n",
       "  </thead>\n",
       "  <tbody>\n",
       "    <tr>\n",
       "      <th>17</th>\n",
       "      <td>1</td>\n",
       "      <td>2</td>\n",
       "      <td>male</td>\n",
       "      <td>NaN</td>\n",
       "      <td>0</td>\n",
       "      <td>0</td>\n",
       "      <td>13.0000</td>\n",
       "      <td>S</td>\n",
       "      <td>0</td>\n",
       "    </tr>\n",
       "    <tr>\n",
       "      <th>21</th>\n",
       "      <td>1</td>\n",
       "      <td>2</td>\n",
       "      <td>male</td>\n",
       "      <td>34.0</td>\n",
       "      <td>0</td>\n",
       "      <td>0</td>\n",
       "      <td>13.0000</td>\n",
       "      <td>S</td>\n",
       "      <td>0</td>\n",
       "    </tr>\n",
       "    <tr>\n",
       "      <th>23</th>\n",
       "      <td>1</td>\n",
       "      <td>1</td>\n",
       "      <td>male</td>\n",
       "      <td>28.0</td>\n",
       "      <td>0</td>\n",
       "      <td>0</td>\n",
       "      <td>35.5000</td>\n",
       "      <td>S</td>\n",
       "      <td>0</td>\n",
       "    </tr>\n",
       "    <tr>\n",
       "      <th>36</th>\n",
       "      <td>1</td>\n",
       "      <td>3</td>\n",
       "      <td>male</td>\n",
       "      <td>NaN</td>\n",
       "      <td>0</td>\n",
       "      <td>0</td>\n",
       "      <td>7.2292</td>\n",
       "      <td>C</td>\n",
       "      <td>0</td>\n",
       "    </tr>\n",
       "    <tr>\n",
       "      <th>55</th>\n",
       "      <td>1</td>\n",
       "      <td>1</td>\n",
       "      <td>male</td>\n",
       "      <td>NaN</td>\n",
       "      <td>0</td>\n",
       "      <td>0</td>\n",
       "      <td>35.5000</td>\n",
       "      <td>S</td>\n",
       "      <td>0</td>\n",
       "    </tr>\n",
       "  </tbody>\n",
       "</table>\n",
       "</div>"
      ],
      "text/plain": [
       "    Survived  Pclass   Sex   Age  SibSp  Parch     Fare Embarked  Family\n",
       "17         1       2  male   NaN      0      0  13.0000        S       0\n",
       "21         1       2  male  34.0      0      0  13.0000        S       0\n",
       "23         1       1  male  28.0      0      0  35.5000        S       0\n",
       "36         1       3  male   NaN      0      0   7.2292        C       0\n",
       "55         1       1  male   NaN      0      0  35.5000        S       0"
      ]
     },
     "execution_count": 12,
     "metadata": {},
     "output_type": "execute_result"
    }
   ],
   "source": [
    "#Male\n",
    "survived_m=survived.loc[survived['Sex']=='male']\n",
    "survived_m.head()"
   ]
  },
  {
   "cell_type": "code",
   "execution_count": 13,
   "metadata": {},
   "outputs": [
    {
     "name": "stdout",
     "output_type": "stream",
     "text": [
      "male      577\n",
      "female    314\n",
      "Name: Sex, dtype: int64\n",
      "female    233\n",
      "male      109\n",
      "Name: Sex, dtype: int64\n"
     ]
    },
    {
     "data": {
      "text/plain": [
       "female    0.742038\n",
       "male      0.188908\n",
       "Name: Sex, dtype: float64"
      ]
     },
     "execution_count": 13,
     "metadata": {},
     "output_type": "execute_result"
    }
   ],
   "source": [
    "print(df.Sex.value_counts())\n",
    "print(survived.Sex.value_counts())\n",
    "\n",
    "survived.Sex.value_counts()/df.Sex.value_counts()"
   ]
  },
  {
   "cell_type": "code",
   "execution_count": 14,
   "metadata": {},
   "outputs": [
    {
     "name": "stdout",
     "output_type": "stream",
     "text": [
      "% of all passengers that were women =  35.24\n",
      "% of survivors that were women 68.13\n"
     ]
    }
   ],
   "source": [
    "#See from above that 74% of female passengers and 19% of male passengers survived\n",
    "print(\"% of all passengers that were women = \", round(len(df[df['Sex']=='female'])/len(df)*100,2))\n",
    "print(\"% of survivors that were women\", round(len(survived[survived['Sex']=='female'])/len(survived)*100,2))"
   ]
  },
  {
   "cell_type": "code",
   "execution_count": 15,
   "metadata": {},
   "outputs": [
    {
     "name": "stdout",
     "output_type": "stream",
     "text": [
      "<class 'pandas.core.frame.DataFrame'>\n",
      "Int64Index: 314 entries, 1 to 888\n",
      "Data columns (total 9 columns):\n",
      "Survived    314 non-null int64\n",
      "Pclass      314 non-null int64\n",
      "Sex         314 non-null object\n",
      "Age         261 non-null float64\n",
      "SibSp       314 non-null int64\n",
      "Parch       314 non-null int64\n",
      "Fare        314 non-null float64\n",
      "Embarked    312 non-null object\n",
      "Family      314 non-null int64\n",
      "dtypes: float64(2), int64(5), object(2)\n",
      "memory usage: 24.5+ KB\n"
     ]
    }
   ],
   "source": [
    "#Create separate dataframes for sexes from all passengers\n",
    "all_m=df.loc[df['Sex']=='male']\n",
    "all_f=df.loc[df['Sex']=='female']\n",
    "all_f.info()"
   ]
  },
  {
   "cell_type": "code",
   "execution_count": 16,
   "metadata": {},
   "outputs": [
    {
     "name": "stdout",
     "output_type": "stream",
     "text": [
      "<class 'pandas.core.frame.DataFrame'>\n",
      "Int64Index: 577 entries, 0 to 890\n",
      "Data columns (total 9 columns):\n",
      "Survived    577 non-null int64\n",
      "Pclass      577 non-null int64\n",
      "Sex         577 non-null object\n",
      "Age         453 non-null float64\n",
      "SibSp       577 non-null int64\n",
      "Parch       577 non-null int64\n",
      "Fare        577 non-null float64\n",
      "Embarked    577 non-null object\n",
      "Family      577 non-null int64\n",
      "dtypes: float64(2), int64(5), object(2)\n",
      "memory usage: 45.1+ KB\n"
     ]
    }
   ],
   "source": [
    "all_m.info()"
   ]
  },
  {
   "cell_type": "code",
   "execution_count": 17,
   "metadata": {},
   "outputs": [
    {
     "data": {
      "image/png": "[encoded data removed]",
      "text/plain": [
       "<matplotlib.figure.Figure at 0x227874f1978>"
      ]
     },
     "metadata": {},
     "output_type": "display_data"
    }
   ],
   "source": [
    "#Compare age among survivors\n",
    "bins = np.arange(0, survived.Age.max()+1, 1)\n",
    "plt.hist(survived.Age.dropna().astype(int), bins, color='yellow', label='Survived - total', alpha=0.3)\n",
    "plt.hist(survived_f.Age.dropna().astype(int), bins, color='salmon', label='Survived - female', alpha=0.5)\n",
    "plt.hist(survived_m.Age.dropna().astype(int), bins, color='skyblue', label='Survived - male', alpha=0.5)\n",
    "plt.legend()\n",
    "plt.xlabel('Age')\n",
    "plt.ylabel('Count')\n",
    "plt.show()"
   ]
  },
  {
   "cell_type": "code",
   "execution_count": 18,
   "metadata": {},
   "outputs": [
    {
     "data": {
      "image/png": "[encoded data removed]",
      "text/plain": [
       "<matplotlib.figure.Figure at 0x227876917f0>"
      ]
     },
     "metadata": {},
     "output_type": "display_data"
    }
   ],
   "source": [
    "#Compare age in multiples of 5 yrs\n",
    "bins_age5 = np.arange(0, survived.Age.max()+1, 5)\n",
    "plt.hist(survived.Age.dropna().astype(int), bins_age5, color='yellow', label='Survived - total', alpha=0.3)\n",
    "plt.hist(survived_f.Age.dropna().astype(int), bins_age5, color='salmon', label='Survived - female', alpha=0.5)\n",
    "plt.hist(survived_m.Age.dropna().astype(int), bins_age5, color='skyblue', label='Survived - male', alpha=0.5)\n",
    "plt.legend()\n",
    "plt.xlabel('Age Group (Multiples of 5)')\n",
    "plt.ylabel('Count')\n",
    "plt.show()"
   ]
  },
  {
   "cell_type": "code",
   "execution_count": 19,
   "metadata": {},
   "outputs": [
    {
     "data": {
      "image/png": "[encoded data removed]",
      "text/plain": [
       "<matplotlib.figure.Figure at 0x227883c59b0>"
      ]
     },
     "metadata": {},
     "output_type": "display_data"
    }
   ],
   "source": [
    "#Compare age among all passengers\n",
    "bins = np.arange(0, survived.Age.max()+1, 1)\n",
    "plt.hist(df.Age.dropna().astype(int), bins, color='green', label='All', alpha=0.3)\n",
    "plt.hist(all_m.Age.dropna().astype(int), bins, color='purple', label='All male', alpha=0.5)\n",
    "plt.hist(all_f.Age.dropna().astype(int), bins, color='orange', label='All female', alpha=0.5)\n",
    "plt.legend()\n",
    "plt.xlabel('Age - All Passengers')\n",
    "plt.ylabel('Count')\n",
    "plt.show()"
   ]
  },
  {
   "cell_type": "code",
   "execution_count": 20,
   "metadata": {},
   "outputs": [
    {
     "name": "stdout",
     "output_type": "stream",
     "text": [
      "% of children under age of 15 whos survived =  59.04\n"
     ]
    }
   ],
   "source": [
    "print(\"% of children under age of 15 whos survived = \",round(len(survived.loc[survived['Age']<=15])/len(df.loc[df['Age']<=15])*100,2))"
   ]
  },
  {
   "cell_type": "code",
   "execution_count": 21,
   "metadata": {},
   "outputs": [
    {
     "data": {
      "image/png": "[encoded data removed]",
      "text/plain": [
       "<matplotlib.figure.Figure at 0x22788599b70>"
      ]
     },
     "metadata": {},
     "output_type": "display_data"
    }
   ],
   "source": [
    "#Are the missing age values significant? Replace with mean and compare with above graphs\n",
    "plt.hist(survived.Age.fillna(survived.Age.mean()), bins, color='yellow', label='Survived - total', alpha=0.3)\n",
    "plt.hist(survived_f.Age.fillna(survived.Age.mean()), bins, color='salmon', label='Survived - female', alpha=0.5)\n",
    "plt.hist(survived_m.Age.fillna(survived.Age.mean()), bins, color='skyblue', label='Survived - male', alpha=0.5)\n",
    "plt.legend()\n",
    "plt.xlabel('Age')\n",
    "plt.ylabel('Count')\n",
    "plt.show()"
   ]
  },
  {
   "cell_type": "code",
   "execution_count": 22,
   "metadata": {
    "collapsed": true
   },
   "outputs": [],
   "source": [
    "#No, this will significantly skew the distribution\n",
    "#What if we fill missing values with random values of a normal distribution with same mean and std as survived.Age?\n",
    "\n",
    "# missing_age=survived.loc[survived.Age.isnull()]\n",
    "# fill_age=pd.DataFrame(np.random.normal(survived.Age.mean(), survived.Age.std(), size=len(missing_age)))\n",
    "# print(len(survived.Age.loc[survived['Age'].isnull()==True]))\n",
    "\n",
    "#Aaaaand this is where I got stuck\n",
    "    \n",
    "# missing_age.Age\n",
    "#plt.hist(survived.Age, color='yellow', label='Survived - total', alpha=0.3)\n",
    "#plt.hist(survived_f.Age, bins, color='salmon', label='Survived - female', alpha=0.5)\n",
    "#plt.hist(survived_m.Age, bins, color='skyblue', label='Survived - male', alpha=0.5)\n",
    "# plt.legend()\n",
    "# plt.xlabel('Age')\n",
    "# plt.ylabel('Count')\n",
    "#plt.show()"
   ]
  },
  {
   "cell_type": "code",
   "execution_count": 23,
   "metadata": {},
   "outputs": [
    {
     "data": {
      "image/png": "[encoded data removed]",
      "text/plain": [
       "<matplotlib.figure.Figure at 0x22787cb5898>"
      ]
     },
     "metadata": {},
     "output_type": "display_data"
    }
   ],
   "source": [
    "pclass, pclass_count_f=np.unique(survived_f.Pclass, return_counts=True)\n",
    "pclass_m, pclass_count_m=np.unique(survived_m.Pclass, return_counts=True)\n",
    "pclass_f, pclass_count=np.unique(survived.Pclass, return_counts=True)\n",
    "\n",
    "plt.bar(pclass, pclass_count, color='yellow', label='Survived - total', alpha=0.3)\n",
    "plt.bar(pclass_m, pclass_count_f, color='salmon', label='Survived - female', alpha=0.5)\n",
    "plt.bar(pclass_f, pclass_count_m, color='skyblue', label='Survived - male', alpha=0.5)\n",
    "plt.xticks(pclass)\n",
    "plt.legend()\n",
    "plt.xlabel('Passenger Class')\n",
    "plt.ylabel('Count')\n",
    "plt.show()\n"
   ]
  },
  {
   "cell_type": "code",
   "execution_count": 24,
   "metadata": {},
   "outputs": [
    {
     "data": {
      "image/png": "[encoded data removed]",
      "text/plain": [
       "<matplotlib.figure.Figure at 0x22787a4af98>"
      ]
     },
     "metadata": {},
     "output_type": "display_data"
    }
   ],
   "source": [
    "#Men in first class just as likely to survive as women, less likely to survive in 2nd class and more likely to survive in \n",
    "#3rd class\n",
    "#Look at distribution among all passengers\n",
    "\n",
    "pclass, pclass_count=np.unique(df.Pclass, return_counts=True)\n",
    "pclass, pclass_count_am=np.unique(all_m.Pclass, return_counts=True)\n",
    "pclass, pclass_count_af=np.unique(all_f.Pclass, return_counts=True)\n",
    "\n",
    "plt.bar(pclass, pclass_count, color='green', label='Total', alpha=0.3)\n",
    "plt.bar(pclass, pclass_count_am, color='orange', label='Male', alpha=0.5)\n",
    "plt.bar(pclass, pclass_count_af, color='purple', label='Female', alpha=0.5)\n",
    "plt.xticks(pclass)\n",
    "plt.legend()\n",
    "plt.xlabel('Passenger Class - All Passengers')\n",
    "plt.ylabel('Count')\n",
    "plt.show()"
   ]
  },
  {
   "cell_type": "code",
   "execution_count": 25,
   "metadata": {
    "collapsed": true
   },
   "outputs": [],
   "source": [
    "#There are significantly more males in 3rd class, but survival for that category is disproportionally low"
   ]
  },
  {
   "cell_type": "code",
   "execution_count": 26,
   "metadata": {},
   "outputs": [
    {
     "data": {
      "image/png": "[encoded data removed]",
      "text/plain": [
       "<matplotlib.figure.Figure at 0x227884e7240>"
      ]
     },
     "metadata": {},
     "output_type": "display_data"
    }
   ],
   "source": [
    "#Analyze impact of fare on likelihood of survival\n",
    "fare_bins=np.arange(0, survived.Fare.max()+1, 10)\n",
    "plt.hist(survived.Fare.dropna().astype(int), fare_bins, color='yellow', label='Survived - total', alpha=0.4)\n",
    "plt.hist(survived_f.Fare.dropna().astype(int), fare_bins, color='salmon', label='Survived - female', alpha=0.5)\n",
    "plt.hist(survived_m.Fare.dropna().astype(int), fare_bins, color='skyblue', label='Survived - male', alpha=0.5)\n",
    "plt.legend()\n",
    "plt.xlabel('Fare')\n",
    "plt.ylabel('Count')\n",
    "plt.show()"
   ]
  },
  {
   "cell_type": "code",
   "execution_count": 27,
   "metadata": {
    "scrolled": true
   },
   "outputs": [
    {
     "data": {
      "image/png": "[encoded data removed]",
      "text/plain": [
       "<matplotlib.figure.Figure at 0x227878de588>"
      ]
     },
     "metadata": {},
     "output_type": "display_data"
    }
   ],
   "source": [
    "#Is there a relationship between passenger class and fare costs?\n",
    "plt.scatter(survived.Pclass, survived.Fare)\n",
    "plt.xticks([1,2,3])\n",
    "plt.xlabel(\"Passenger Class\")\n",
    "plt.ylabel(\"Fare\")\n",
    "plt.show()"
   ]
  },
  {
   "cell_type": "code",
   "execution_count": 28,
   "metadata": {},
   "outputs": [
    {
     "name": "stdout",
     "output_type": "stream",
     "text": [
      "Max fare for survivors in passenger class 2 is 65.0\n",
      "Max fare for survivors in passenger class 3 is 56.4958\n",
      "Total surivors in class 1 is 136\n",
      "# surivors in class 1 with fare <= class 2 is  57\n"
     ]
    }
   ],
   "source": [
    "#Fares for classes 2 and 3 are towards the lower end of the scale, but seems like some some class 1 fares are also within that\n",
    "#range\n",
    "print(\"Max fare for survivors in passenger class 2 is\", survived.loc[survived['Pclass']==2].Fare.max())\n",
    "print(\"Max fare for survivors in passenger class 3 is\", survived.loc[survived['Pclass']==3].Fare.max())\n",
    "print(\"Total surivors in class 1 is\", len(survived[survived['Pclass']==1]))\n",
    "print(\"# surivors in class 1 with fare <= class 2 is \", len(survived.loc[(survived['Pclass']==1) & (survived['Fare']<=65)]))\n",
    "#Wide range for class 1 fares. Approx 40% of class 1 survivors paid less for their ticket than the survivors in class 2.\n",
    "#Therefore I don't believe Fare has a strong correlation with survival"
   ]
  },
  {
   "cell_type": "code",
   "execution_count": 29,
   "metadata": {},
   "outputs": [
    {
     "data": {
      "image/png": "[encoded data removed]",
      "text/plain": [
       "<matplotlib.figure.Figure at 0x22787ccfbe0>"
      ]
     },
     "metadata": {},
     "output_type": "display_data"
    }
   ],
   "source": [
    "#Compare sibling/spouse counts for survivors\n",
    "fam_f, fam_count_f = np.unique(survived_f.Family, return_counts=True)\n",
    "fam_m, fam_count_m=np.unique(survived_m.Family, return_counts=True)\n",
    "fam, fam_count=np.unique(survived.Family, return_counts=True)\n",
    "\n",
    "plt.bar(fam, fam_count, color='yellow',label='Survived - total', alpha=0.3)\n",
    "plt.bar(fam_f, fam_count_f, color='salmon', label='Survived - female', alpha=0.5)\n",
    "plt.bar(fam_m, fam_count_m, color='skyblue',label='Survived - male', alpha=0.5)\n",
    "\n",
    "plt.ylabel(\"Count\")\n",
    "plt.xlabel(\"Num of Family Members on Board for Survivors\")\n",
    "plt.legend()\n",
    "plt.show()\n",
    "#General trend is that the more people you're traveling with, the less likely you'll be to survive\n",
    "#More women traveling alone survived"
   ]
  },
  {
   "cell_type": "code",
   "execution_count": 30,
   "metadata": {},
   "outputs": [
    {
     "data": {
      "image/png": "[encoded data removed]",
      "text/plain": [
       "<matplotlib.figure.Figure at 0x22787d45908>"
      ]
     },
     "metadata": {},
     "output_type": "display_data"
    }
   ],
   "source": [
    "#Compare sibling/spouse counts for all passengers\n",
    "fam_af, fam_count_af = np.unique(all_f.Family, return_counts=True)\n",
    "fam_am, fam_count_am=np.unique(all_m.Family, return_counts=True)\n",
    "fam_a, fam_count_a=np.unique(df.Family, return_counts=True)\n",
    "\n",
    "plt.bar(fam_a, fam_count_a, color='green',label='All', alpha=0.3)\n",
    "plt.bar(fam_am, fam_count_am, color='purple',label='Male', alpha=0.5)\n",
    "plt.bar(fam_af, fam_count_af, color='orange', label='Female', alpha=0.5)\n",
    "\n",
    "plt.ylabel(\"Count\")\n",
    "plt.xlabel(\"Num of Family Members on Board for All Passengers\")\n",
    "plt.legend()\n",
    "plt.show()\n",
    "#Most people travelled alone, especially men"
   ]
  },
  {
   "cell_type": "code",
   "execution_count": 31,
   "metadata": {},
   "outputs": [
    {
     "data": {
      "image/png": "[encoded data removed]",
      "text/plain": [
       "<matplotlib.figure.Figure at 0x227887ae358>"
      ]
     },
     "metadata": {},
     "output_type": "display_data"
    }
   ],
   "source": [
    "embarked=np.array(survived.Embarked.dropna().value_counts().index)\n",
    "\n",
    "emb_f=np.array(survived_f.Embarked.dropna().value_counts())\n",
    "emb_m=np.array(survived_m.Embarked.dropna().value_counts())\n",
    "emb=np.array(survived.Embarked.dropna().value_counts())\n",
    "embarked_xrange=np.arange(0,len(embarked),1)\n",
    "\n",
    "plt.bar(embarked_xrange, emb, color='yellow', alpha=0.3, label='Survived - total')\n",
    "plt.bar(embarked_xrange, emb_f, color='salmon', alpha=0.5, label='Survived - female')\n",
    "plt.bar(embarked_xrange, emb_m, color='skyblue', alpha=0.5, label='Survived - male')\n",
    "\n",
    "plt.xticks(embarked_xrange, embarked)\n",
    "\n",
    "plt.xlabel(\"Location of Embarkment\")\n",
    "plt.ylabel(\"Count among Survivors\")\n",
    "plt.legend()\n",
    "plt.show()"
   ]
  },
  {
   "cell_type": "code",
   "execution_count": 32,
   "metadata": {},
   "outputs": [
    {
     "data": {
      "image/png": "[encoded data removed]",
      "text/plain": [
       "<matplotlib.figure.Figure at 0x2278835a9b0>"
      ]
     },
     "metadata": {},
     "output_type": "display_data"
    }
   ],
   "source": [
    "embarked_all=np.array(df.Embarked.dropna().value_counts().index)\n",
    "\n",
    "emb_af=np.array(all_f.Embarked.dropna().value_counts())\n",
    "emb_am=np.array(all_m.Embarked.dropna().value_counts())\n",
    "emb_a=np.array(df.Embarked.dropna().value_counts())\n",
    "embarked_all_xrange=np.arange(0,len(embarked_all),1)\n",
    "\n",
    "plt.bar(embarked_all_xrange, emb_a, color='green', alpha=0.3, label='Survived - total')\n",
    "plt.bar(embarked_all_xrange, emb_am, color='purple', alpha=0.5, label='Survived - male')\n",
    "plt.bar(embarked_all_xrange, emb_f, color='orange', alpha=0.5, label='Survived - female')\n",
    "\n",
    "plt.xticks(embarked_all_xrange, embarked_all)\n",
    "\n",
    "plt.xlabel(\"Location of Embarkment\")\n",
    "plt.ylabel(\"Count among All Passengers\")\n",
    "plt.legend()\n",
    "plt.show()"
   ]
  },
  {
   "cell_type": "code",
   "execution_count": 33,
   "metadata": {},
   "outputs": [
    {
     "name": "stdout",
     "output_type": "stream",
     "text": [
      "% of all passengers embarked from Southampton =  72.28\n",
      "% of all passengers embarked from Cherbourg =  18.86\n",
      "% of all passengers embarked from Queenstown =  8.64\n",
      "% survivors embarked from Southampton = 63.45\n",
      "% survivors embarked from Cherbourg = 27.19\n",
      "% survivors embarked from Queensland = 8.77\n"
     ]
    }
   ],
   "source": [
    "print(\"% of all passengers embarked from Southampton = \", round(len(df[df['Embarked']=='S'])/len(df)*100,2))\n",
    "print(\"% of all passengers embarked from Cherbourg = \",round(len(df[df['Embarked']=='C'])/len(df)*100,2))\n",
    "print(\"% of all passengers embarked from Queenstown = \", round(len(df[df['Embarked']=='Q'])/len(df)*100,2))\n",
    "\n",
    "print(\"% survivors embarked from Southampton =\", round(len(survived[survived['Embarked']=='S'])/len(survived)*100,2))\n",
    "print(\"% survivors embarked from Cherbourg =\", round(len(survived[survived['Embarked']=='C'])/len(survived)*100,2))\n",
    "print(\"% survivors embarked from Queensland =\", round(len(survived[survived['Embarked']=='Q'])/len(survived)*100,2))"
   ]
  },
  {
   "cell_type": "code",
   "execution_count": 34,
   "metadata": {},
   "outputs": [
    {
     "name": "stdout",
     "output_type": "stream",
     "text": [
      "% of passengers embarked from Southampton that were female =  31.52\n",
      "% of passengers embarked from Cherbourg that were female =  43.45\n",
      "% of passengers embarked from Queensland that were female =  46.75\n"
     ]
    }
   ],
   "source": [
    "#Split of survivors for each location approximately proportional to total passenger boarding location split. Southampton slightly\n",
    "#lower, Cherbourg slightly higher\n",
    "\n",
    "print(\"% of passengers embarked from Southampton that were female = \", round(len(df[(df['Embarked']=='S') & (df['Sex']=='female')])/len(df[df['Embarked']=='S'])*100, 2))\n",
    "print(\"% of passengers embarked from Cherbourg that were female = \", round(len(df[(df['Embarked']=='C') & (df['Sex']=='female')])/len(df[df['Embarked']=='C'])*100, 2))\n",
    "print(\"% of passengers embarked from Queensland that were female = \", round(len(df[(df['Embarked']=='Q') & (df['Sex']=='female')])/len(df[df['Embarked']=='Q'])*100, 2))"
   ]
  },
  {
   "cell_type": "code",
   "execution_count": 35,
   "metadata": {
    "collapsed": true
   },
   "outputs": [],
   "source": [
    "#Based on boarding location, looks like Southampton had the loweset percent of females.\n",
    "#This may be why % of survivors from Southampton were lower than proportional"
   ]
  },
  {
   "cell_type": "code",
   "execution_count": 36,
   "metadata": {},
   "outputs": [
    {
     "name": "stdout",
     "output_type": "stream",
     "text": [
      "<class 'pandas.core.frame.DataFrame'>\n",
      "Int64Index: 190 entries, 1 to 889\n",
      "Data columns (total 9 columns):\n",
      "Survived    190 non-null int64\n",
      "Pclass      190 non-null int64\n",
      "Sex         190 non-null object\n",
      "Age         190 non-null float64\n",
      "SibSp       190 non-null int64\n",
      "Parch       190 non-null int64\n",
      "Fare        190 non-null float64\n",
      "Embarked    189 non-null object\n",
      "Family      190 non-null int64\n",
      "dtypes: float64(2), int64(5), object(2)\n",
      "memory usage: 14.8+ KB\n"
     ]
    }
   ],
   "source": [
    "#Are passengers aged 15-40 more likely to survive because they are by themselves?\n",
    "survived_15_40=survived.loc[(survived['Age']<=40) & ((survived['Age']>=15))]\n",
    "survived_15_40.info()"
   ]
  },
  {
   "cell_type": "code",
   "execution_count": 37,
   "metadata": {},
   "outputs": [
    {
     "name": "stdout",
     "output_type": "stream",
     "text": [
      "% of survivors that belong to the 15-40 age group =  55.56\n"
     ]
    }
   ],
   "source": [
    "print(\"% of survivors that belong to the 15-40 age group = \", round(len(survived_15_40)/len(survived)*100,2))"
   ]
  },
  {
   "cell_type": "code",
   "execution_count": 38,
   "metadata": {},
   "outputs": [
    {
     "data": {
      "image/png": "[encoded data removed]",
      "text/plain": [
       "<matplotlib.figure.Figure at 0x22787f8be48>"
      ]
     },
     "metadata": {},
     "output_type": "display_data"
    }
   ],
   "source": [
    "#Compare distribution of family members count of survivors 15-40 years of age against that of all survivors\n",
    "\n",
    "bins_15_40=np.arange(0,max(survived_15_40.Family.max(), survived_15_40.Family.max())+1, 1)\n",
    "plt.hist(survived.Family, bins=bins_15_40, alpha=0.5, color= 'orange', label='All survivors')\n",
    "plt.hist(survived_15_40.Family, bins=bins_15_40, alpha=0.5, color='purple', label='Survivors 15-40 Years')\n",
    "plt.xlabel('# Family on Board (Parents/children + siblings/spouses)')\n",
    "plt.ylabel('Count')\n",
    "plt.legend()\n",
    "plt.show()"
   ]
  },
  {
   "cell_type": "code",
   "execution_count": 39,
   "metadata": {
    "collapsed": true
   },
   "outputs": [],
   "source": [
    "#Relatives = 0 distributions for survivors in age segment approximately proportional to that of all survivors,\n",
    "#slightly higher"
   ]
  },
  {
   "cell_type": "code",
   "execution_count": 40,
   "metadata": {},
   "outputs": [
    {
     "data": {
      "image/png": "[encoded data removed]",
      "text/plain": [
       "<matplotlib.figure.Figure at 0x227878b50b8>"
      ]
     },
     "metadata": {},
     "output_type": "display_data"
    }
   ],
   "source": [
    "#Does class play a role?\n",
    "\n",
    "plt.hist(survived.Pclass, bins=3, alpha=0.5, color='orange', label='All survivors')\n",
    "plt.hist(survived_15_40.Pclass, bins=3, alpha=0.5, color='purple', label='Survivors 15-40 Years')\n",
    "plt.xticks=[1,2,3]\n",
    "plt.xlabel('Passenger Class')\n",
    "plt.ylabel('Count')\n",
    "plt.legend()\n",
    "plt.show()"
   ]
  },
  {
   "cell_type": "code",
   "execution_count": 41,
   "metadata": {
    "collapsed": true
   },
   "outputs": [],
   "source": [
    "#Passenger class distribution looks proportional as well."
   ]
  },
  {
   "cell_type": "code",
   "execution_count": 44,
   "metadata": {},
   "outputs": [
    {
     "data": {
      "image/png": "[encoded data removed]",
      "text/plain": [
       "<matplotlib.figure.Figure at 0x227884b0828>"
      ]
     },
     "metadata": {},
     "output_type": "display_data"
    }
   ],
   "source": [
    "#Let's go back to srvivors traveling alone\n",
    "alone_s=survived.loc[survived['Family']==0]\n",
    "alone_s_age_bins=np.arange(0, alone_s.Age.max().astype(int), 5)\n",
    "\n",
    "plt.hist(alone_s.Age.dropna(), alpha=0.3, bins=alone_s_age_bins, color='blue', label='All')\n",
    "plt.hist(alone_s[alone_s['Sex']=='female'].Age.dropna(), alpha=0.5, bins=alone_s_age_bins, color='pink', label='Female')\n",
    "plt.hist(alone_s[alone_s['Sex']=='male'].Age.dropna(), alpha=0.5, bins=alone_s_age_bins,color='gold',label='Male')\n",
    "plt.legend()\n",
    "plt.xlabel(\"Age of Solo Survivors\")\n",
    "plt.ylabel(\"Count\")\n",
    "plt.show()"
   ]
  },
  {
   "cell_type": "code",
   "execution_count": 45,
   "metadata": {
    "scrolled": true
   },
   "outputs": [
    {
     "data": {
      "image/png": "[encoded data removed]",
      "text/plain": [
       "<matplotlib.figure.Figure at 0x22787f8b390>"
      ]
     },
     "metadata": {},
     "output_type": "display_data"
    }
   ],
   "source": [
    "#Let's go back to srvivors traveling alone\n",
    "alone=df.loc[df['Family']==0]\n",
    "alone_age_bins=np.arange(0, alone.Age.max().astype(int), 5)\n",
    "alone.head()\n",
    "plt.hist(alone.Age.dropna(), alpha=0.5, bins=alone_age_bins, color='palegreen', label='All')\n",
    "plt.hist(alone[alone['Sex']=='male'].Age.dropna(), alpha=0.3, bins=alone_age_bins,color='cyan',label='Male')\n",
    "plt.hist(alone[alone['Sex']=='female'].Age.dropna(), alpha=0.5, bins=alone_age_bins, color='orchid', label='Female')\n",
    "plt.legend()\n",
    "plt.xlabel(\"Age of Solo Passengers\")\n",
    "plt.ylabel(\"Count\")\n",
    "plt.show()"
   ]
  },
  {
   "cell_type": "code",
   "execution_count": 46,
   "metadata": {
    "collapsed": true
   },
   "outputs": [],
   "source": [
    "#Age distribution of solo travellers similar among survivors and all passengers. Most between ages of 15-40."
   ]
  },
  {
   "cell_type": "code",
   "execution_count": 47,
   "metadata": {},
   "outputs": [
    {
     "data": {
      "image/png": "[encoded data removed]",
      "text/plain": [
       "<matplotlib.figure.Figure at 0x22787fac390>"
      ]
     },
     "metadata": {},
     "output_type": "display_data"
    }
   ],
   "source": [
    "#What about class? Do most solo travelers happen to be first class?\n",
    "plt.hist(alone['Pclass'], alpha=0.5, label='Solo Traveler - Survivors')\n",
    "plt.hist(alone_s['Pclass'], alpha=0.5, label='Solo Traveler - All Passengers')\n",
    "plt.legend()\n",
    "plt.xlabel(\"Passenger Class\")\n",
    "plt.show()"
   ]
  },
  {
   "cell_type": "code",
   "execution_count": 48,
   "metadata": {
    "collapsed": true
   },
   "outputs": [],
   "source": [
    "#Survivors from first and third class look comparable, and is not proportional to the total solo travelers belonging to those\n",
    "#classes. Therefore, passenger class does not largely influence probability of survival."
   ]
  },
  {
   "cell_type": "code",
   "execution_count": 49,
   "metadata": {
    "collapsed": true
   },
   "outputs": [],
   "source": [
    "#Based on the data available, it seems that females within this age range who travel alone are most likely to survive."
   ]
  },
  {
   "cell_type": "code",
   "execution_count": null,
   "metadata": {
    "collapsed": true
   },
   "outputs": [],
   "source": []
  }
 ],
 "metadata": {
  "kernelspec": {
   "display_name": "Python 3",
   "language": "python",
   "name": "python3"
  },
  "language_info": {
   "codemirror_mode": {
    "name": "ipython",
    "version": 3
   },
   "file_extension": ".py",
   "mimetype": "text/x-python",
   "name": "python",
   "nbconvert_exporter": "python",
   "pygments_lexer": "ipython3",
   "version": "3.6.2"
  },
  "toc": {
   "base_numbering": 1,
   "nav_menu": {},
   "number_sections": false,
   "sideBar": true,
   "skip_h1_title": false,
   "title_cell": "Table of Contents",
   "title_sidebar": "Contents",
   "toc_cell": false,
   "toc_position": {},
   "toc_section_display": true,
   "toc_window_display": false
  }
 },
 "nbformat": 4,
 "nbformat_minor": 2
}
