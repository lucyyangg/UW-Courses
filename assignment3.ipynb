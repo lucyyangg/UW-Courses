{
 "cells": [
  {
   "cell_type": "markdown",
   "metadata": {},
   "source": [
    "Before you turn this problem in, make sure everything runs as expected. First, **restart the kernel** (in the menu bar, select Kernel$\\rightarrow$Restart) and then **run all cells** (in the menu bar, select Cell$\\rightarrow$Run All).\n",
    "\n",
    "Below, please fill in your name and collaborators:"
   ]
  },
  {
   "cell_type": "code",
   "execution_count": 1,
   "metadata": {
    "collapsed": true
   },
   "outputs": [],
   "source": [
    "NAME = \"Lucy Yang\"\n",
    "COLLABORATORS = \"\""
   ]
  },
  {
   "cell_type": "markdown",
   "metadata": {},
   "source": [
    "# Assignment 3 - Time Series Analysis\n",
    "**(15 points total)**"
   ]
  },
  {
   "cell_type": "markdown",
   "metadata": {},
   "source": [
    "## Assignment tasks:"
   ]
  },
  {
   "cell_type": "markdown",
   "metadata": {},
   "source": [
    "In this assignment you will conduct time series analysis of the financial data. \n",
    "\n",
    "1. Setup your environment to access and download latest stock data. Please see instructions below for different tools you can use to get the data. You can use any of the options provided, either Quandl or Yahoo Finance. If you know of any other service to download the data, please use that service, provide an explanation in the comments.\n",
    "\n",
    "2. *(2 points)* Download the **adjusted** close prices for FB, MMM, IBM and AMZN for the last 60 months. If you run into any issues downloading the data from online sources, you can use `.csv` files provided. This will not affect your grade for the assignment.\n",
    "\n",
    "3. *(3 points)* Resample the data to get prices for the end of the **business** month. Select the **Adjusted Close** for each stock.\n",
    "\n",
    "4. *(3 points)* Use the pandas `autocorrelation_plot()` function to plot the autocorrelation of the adjusted month-end close prices for each of the stocks.\n",
    "    - Are they autocorrelated?\n",
    "    - Provide short explanation.\n",
    "\n",
    "5. *(4 points)* \n",
    "    - Calculate the monthly returns for each stock using the \"shift trick\" explained in the lecture, using `shift()` function. \n",
    "    - Use pandas `autotocorrelation_plot()` to plot the autocorrelation of the monthly returns.\n",
    "    - Are the returns autocorrelated? Provide short explanation.\n",
    "\n",
    "6. *(3 points)*\n",
    "    - Combine all 4 time series (returns) into a single DataFrame,\n",
    "    - Visualize the correlation between the returns of all pairs of stocks using a scatter plot matrix (use `scatter_matrix()` function from `pandas.plotting`).\n",
    "    - Explain the results. Is there any correlation?\n",
    "\n",
    "**NOTES:** \n",
    "1. In this assignment, please make sure the DataFrame(s) do not contain any NAs before you plot autocorrelations or scatter matrix.\n",
    "2. Both options explained below use `pandas-datareader` package for remote data access. To install it, type the following in a command window: `conda install pandas-datareader`. You will also need to install one or more of the following packages `fix_yahoo_finance`, `quandl`. See below.\n",
    "\n",
    "---------"
   ]
  },
  {
   "cell_type": "markdown",
   "metadata": {},
   "source": [
    "## Downloading Stock Prices"
   ]
  },
  {
   "cell_type": "markdown",
   "metadata": {},
   "source": [
    "### Option 1 - Using QUANDL"
   ]
  },
  {
   "cell_type": "markdown",
   "metadata": {},
   "source": [
    "To use QUANDL service, you need to create an account and get an API Key. Here is the short description of steps:\n",
    "\n",
    "- Go to https://www.quandl.com/\n",
    "- Click either `sign up` at the top right corner of the home page, or scroll all the way down and click `Create Free Account` button at the bottom of the page.\n",
    "- Create an account. \n",
    "- You will receive an email to the email address you have used during the registration. Confirm your email.\n",
    "\n",
    "You are all set.\n",
    "\n",
    "Now, as you login into your account, click the avatar icon at the top right corner of the page, select `\"Account Settings.\"`\n",
    "On the next page, you will see `Your API Key` field with a long string of numbers and characters underneath. You need this API key for your call to Quandl from the notebook. In the code below, replace `YOUR_API_KEY` with the actual API key from your account. \n",
    "\n",
    "**NOTE**: You can remove this key before submitting the assignment."
   ]
  },
  {
   "cell_type": "code",
   "execution_count": 2,
   "metadata": {
    "collapsed": true
   },
   "outputs": [],
   "source": [
    "#Having issues installing pandas-datareader for anaconda. Code below for pulling data from Quandl and YFinance commented out.\n",
    "#Data imported from csv files.\n",
    "\n",
    "# # all imports and env variables\n",
    "# import pandas as pd\n",
    "# pd.core.common.is_list_like = pd.api.types.is_list_like\n",
    "# import datetime\n",
    "# import pandas_datareader.data as web\n",
    "\n",
    "# # This line of code should work on Windows and Mac\n",
    "# %env QUANDL_API_KEY = \"qcruXQqr_faBk3VtcPw6\"\n",
    "\n",
    "# # If the above line of code does not work on your system,\n",
    "# # You can use this way of setting Quandl env variable\n",
    "# import quandl\n",
    "# quandl.ApiConfig.api_key = \"qcruXQqr_faBk3VtcPw6\""
   ]
  },
  {
   "cell_type": "code",
   "execution_count": 3,
   "metadata": {
    "collapsed": true
   },
   "outputs": [],
   "source": [
    "# Make sure you adjust the start and end date accordingly\n",
    "# so that the start date = today date\n",
    "\n",
    "# start = datetime.datetime(2013, 11, 12)\n",
    "# end = datetime.datetime(2018, 11, 12)\n",
    "\n",
    "#amzn = web.DataReader('WIKI/AMZN', 'quandl', start, end)"
   ]
  },
  {
   "cell_type": "markdown",
   "metadata": {},
   "source": [
    "### Option 2 - Using Yahoo Finance `yfinance` library"
   ]
  },
  {
   "cell_type": "code",
   "execution_count": 4,
   "metadata": {
    "collapsed": true
   },
   "outputs": [],
   "source": [
    "# import yfinance as yf\n",
    "# from pandas_datareader import data as pdr\n",
    "\n",
    "# # 1) Using pandas datareader and Yahoo Finance\n",
    "# yf.pdr_override()\n",
    "\n",
    "# amzn = pdr.get_data_yahoo('AMZN', start = start)\n"
   ]
  },
  {
   "cell_type": "code",
   "execution_count": 5,
   "metadata": {
    "collapsed": true
   },
   "outputs": [],
   "source": [
    "# 2) Using fix_yahoo_finance library only to download AMZN data\n",
    "\n",
    "# amzn = yf.download('AMZN', start=start)"
   ]
  },
  {
   "cell_type": "code",
   "execution_count": 6,
   "metadata": {
    "collapsed": true
   },
   "outputs": [],
   "source": [
    "# If we want to download multipe stocks into a single dataframe:\n",
    "\n",
    "# all_stocks_list = ['AMZN', 'FB']\n",
    "# all_stocks = yf.download(all_stocks_list, start = start)"
   ]
  },
  {
   "cell_type": "code",
   "execution_count": 7,
   "metadata": {
    "collapsed": true
   },
   "outputs": [],
   "source": [
    "## TYPE YOUE CODE BELOW\n",
    "\n",
    "#import libraries\n",
    "import numpy as np\n",
    "import matplotlib.pyplot as plt\n",
    "import pandas as pd\n",
    "\n",
    "#load stock data from csv files\n",
    "amzn=pd.read_csv(\"amzn_2012-7-31_2017-6-30.csv\",  index_col=0)\n",
    "fb=pd.read_csv(\"fb_2012-7-31_2017-6-30.csv\",  index_col=0)\n",
    "ibm=pd.read_csv(\"ibm_2012-7-31_2017-6-30.csv\",  index_col=0)\n",
    "mmm=pd.read_csv(\"mmm_2012-7-31_2017-6-30.csv\",  index_col=0)"
   ]
  },
  {
   "cell_type": "code",
   "execution_count": 8,
   "metadata": {},
   "outputs": [
    {
     "data": {
      "text/html": [
       "<div>\n",
       "<style>\n",
       "    .dataframe thead tr:only-child th {\n",
       "        text-align: right;\n",
       "    }\n",
       "\n",
       "    .dataframe thead th {\n",
       "        text-align: left;\n",
       "    }\n",
       "\n",
       "    .dataframe tbody tr th {\n",
       "        vertical-align: top;\n",
       "    }\n",
       "</style>\n",
       "<table border=\"1\" class=\"dataframe\">\n",
       "  <thead>\n",
       "    <tr style=\"text-align: right;\">\n",
       "      <th></th>\n",
       "      <th>Open</th>\n",
       "      <th>High</th>\n",
       "      <th>Low</th>\n",
       "      <th>Close</th>\n",
       "      <th>Volume</th>\n",
       "      <th>ExDividend</th>\n",
       "      <th>SplitRatio</th>\n",
       "      <th>AdjOpen</th>\n",
       "      <th>AdjHigh</th>\n",
       "      <th>AdjLow</th>\n",
       "      <th>AdjClose</th>\n",
       "      <th>AdjVolume</th>\n",
       "    </tr>\n",
       "    <tr>\n",
       "      <th>Date</th>\n",
       "      <th></th>\n",
       "      <th></th>\n",
       "      <th></th>\n",
       "      <th></th>\n",
       "      <th></th>\n",
       "      <th></th>\n",
       "      <th></th>\n",
       "      <th></th>\n",
       "      <th></th>\n",
       "      <th></th>\n",
       "      <th></th>\n",
       "      <th></th>\n",
       "    </tr>\n",
       "  </thead>\n",
       "  <tbody>\n",
       "    <tr>\n",
       "      <th>2017-06-30</th>\n",
       "      <td>980.12</td>\n",
       "      <td>983.47</td>\n",
       "      <td>967.61</td>\n",
       "      <td>968.00</td>\n",
       "      <td>3309138.0</td>\n",
       "      <td>0.0</td>\n",
       "      <td>1.0</td>\n",
       "      <td>980.12</td>\n",
       "      <td>983.47</td>\n",
       "      <td>967.61</td>\n",
       "      <td>968.00</td>\n",
       "      <td>3309138.0</td>\n",
       "    </tr>\n",
       "    <tr>\n",
       "      <th>2017-06-29</th>\n",
       "      <td>979.00</td>\n",
       "      <td>987.56</td>\n",
       "      <td>965.25</td>\n",
       "      <td>975.93</td>\n",
       "      <td>4246765.0</td>\n",
       "      <td>0.0</td>\n",
       "      <td>1.0</td>\n",
       "      <td>979.00</td>\n",
       "      <td>987.56</td>\n",
       "      <td>965.25</td>\n",
       "      <td>975.93</td>\n",
       "      <td>4246765.0</td>\n",
       "    </tr>\n",
       "    <tr>\n",
       "      <th>2017-06-28</th>\n",
       "      <td>978.55</td>\n",
       "      <td>990.68</td>\n",
       "      <td>969.21</td>\n",
       "      <td>990.33</td>\n",
       "      <td>3708638.0</td>\n",
       "      <td>0.0</td>\n",
       "      <td>1.0</td>\n",
       "      <td>978.55</td>\n",
       "      <td>990.68</td>\n",
       "      <td>969.21</td>\n",
       "      <td>990.33</td>\n",
       "      <td>3708638.0</td>\n",
       "    </tr>\n",
       "    <tr>\n",
       "      <th>2017-06-27</th>\n",
       "      <td>990.69</td>\n",
       "      <td>998.80</td>\n",
       "      <td>976.00</td>\n",
       "      <td>976.78</td>\n",
       "      <td>3735360.0</td>\n",
       "      <td>0.0</td>\n",
       "      <td>1.0</td>\n",
       "      <td>990.69</td>\n",
       "      <td>998.80</td>\n",
       "      <td>976.00</td>\n",
       "      <td>976.78</td>\n",
       "      <td>3735360.0</td>\n",
       "    </tr>\n",
       "    <tr>\n",
       "      <th>2017-06-26</th>\n",
       "      <td>1008.50</td>\n",
       "      <td>1009.80</td>\n",
       "      <td>992.00</td>\n",
       "      <td>993.98</td>\n",
       "      <td>3347195.0</td>\n",
       "      <td>0.0</td>\n",
       "      <td>1.0</td>\n",
       "      <td>1008.50</td>\n",
       "      <td>1009.80</td>\n",
       "      <td>992.00</td>\n",
       "      <td>993.98</td>\n",
       "      <td>3347195.0</td>\n",
       "    </tr>\n",
       "  </tbody>\n",
       "</table>\n",
       "</div>"
      ],
      "text/plain": [
       "               Open     High     Low   Close     Volume  ExDividend  \\\n",
       "Date                                                                  \n",
       "2017-06-30   980.12   983.47  967.61  968.00  3309138.0         0.0   \n",
       "2017-06-29   979.00   987.56  965.25  975.93  4246765.0         0.0   \n",
       "2017-06-28   978.55   990.68  969.21  990.33  3708638.0         0.0   \n",
       "2017-06-27   990.69   998.80  976.00  976.78  3735360.0         0.0   \n",
       "2017-06-26  1008.50  1009.80  992.00  993.98  3347195.0         0.0   \n",
       "\n",
       "            SplitRatio  AdjOpen  AdjHigh  AdjLow  AdjClose  AdjVolume  \n",
       "Date                                                                   \n",
       "2017-06-30         1.0   980.12   983.47  967.61    968.00  3309138.0  \n",
       "2017-06-29         1.0   979.00   987.56  965.25    975.93  4246765.0  \n",
       "2017-06-28         1.0   978.55   990.68  969.21    990.33  3708638.0  \n",
       "2017-06-27         1.0   990.69   998.80  976.00    976.78  3735360.0  \n",
       "2017-06-26         1.0  1008.50  1009.80  992.00    993.98  3347195.0  "
      ]
     },
     "execution_count": 8,
     "metadata": {},
     "output_type": "execute_result"
    }
   ],
   "source": [
    "#examine dataframes\n",
    "amzn.head()"
   ]
  },
  {
   "cell_type": "code",
   "execution_count": 9,
   "metadata": {},
   "outputs": [
    {
     "data": {
      "text/html": [
       "<div>\n",
       "<style>\n",
       "    .dataframe thead tr:only-child th {\n",
       "        text-align: right;\n",
       "    }\n",
       "\n",
       "    .dataframe thead th {\n",
       "        text-align: left;\n",
       "    }\n",
       "\n",
       "    .dataframe tbody tr th {\n",
       "        vertical-align: top;\n",
       "    }\n",
       "</style>\n",
       "<table border=\"1\" class=\"dataframe\">\n",
       "  <thead>\n",
       "    <tr style=\"text-align: right;\">\n",
       "      <th></th>\n",
       "      <th>Open</th>\n",
       "      <th>High</th>\n",
       "      <th>Low</th>\n",
       "      <th>Close</th>\n",
       "      <th>Volume</th>\n",
       "      <th>ExDividend</th>\n",
       "      <th>SplitRatio</th>\n",
       "      <th>AdjOpen</th>\n",
       "      <th>AdjHigh</th>\n",
       "      <th>AdjLow</th>\n",
       "      <th>AdjClose</th>\n",
       "      <th>AdjVolume</th>\n",
       "    </tr>\n",
       "    <tr>\n",
       "      <th>Date</th>\n",
       "      <th></th>\n",
       "      <th></th>\n",
       "      <th></th>\n",
       "      <th></th>\n",
       "      <th></th>\n",
       "      <th></th>\n",
       "      <th></th>\n",
       "      <th></th>\n",
       "      <th></th>\n",
       "      <th></th>\n",
       "      <th></th>\n",
       "      <th></th>\n",
       "    </tr>\n",
       "  </thead>\n",
       "  <tbody>\n",
       "    <tr>\n",
       "      <th>2017-06-30</th>\n",
       "      <td>151.90</td>\n",
       "      <td>151.92</td>\n",
       "      <td>150.0600</td>\n",
       "      <td>150.98</td>\n",
       "      <td>14540013.0</td>\n",
       "      <td>0.0</td>\n",
       "      <td>1.0</td>\n",
       "      <td>151.90</td>\n",
       "      <td>151.92</td>\n",
       "      <td>150.0600</td>\n",
       "      <td>150.98</td>\n",
       "      <td>14540013.0</td>\n",
       "    </tr>\n",
       "    <tr>\n",
       "      <th>2017-06-29</th>\n",
       "      <td>152.28</td>\n",
       "      <td>152.50</td>\n",
       "      <td>148.9175</td>\n",
       "      <td>151.04</td>\n",
       "      <td>23771610.0</td>\n",
       "      <td>0.0</td>\n",
       "      <td>1.0</td>\n",
       "      <td>152.28</td>\n",
       "      <td>152.50</td>\n",
       "      <td>148.9175</td>\n",
       "      <td>151.04</td>\n",
       "      <td>23771610.0</td>\n",
       "    </tr>\n",
       "    <tr>\n",
       "      <th>2017-06-28</th>\n",
       "      <td>150.92</td>\n",
       "      <td>153.47</td>\n",
       "      <td>149.8600</td>\n",
       "      <td>153.24</td>\n",
       "      <td>16621566.0</td>\n",
       "      <td>0.0</td>\n",
       "      <td>1.0</td>\n",
       "      <td>150.92</td>\n",
       "      <td>153.47</td>\n",
       "      <td>149.8600</td>\n",
       "      <td>153.24</td>\n",
       "      <td>16621566.0</td>\n",
       "    </tr>\n",
       "    <tr>\n",
       "      <th>2017-06-27</th>\n",
       "      <td>152.84</td>\n",
       "      <td>153.31</td>\n",
       "      <td>150.3900</td>\n",
       "      <td>150.58</td>\n",
       "      <td>19274022.0</td>\n",
       "      <td>0.0</td>\n",
       "      <td>1.0</td>\n",
       "      <td>152.84</td>\n",
       "      <td>153.31</td>\n",
       "      <td>150.3900</td>\n",
       "      <td>150.58</td>\n",
       "      <td>19274022.0</td>\n",
       "    </tr>\n",
       "    <tr>\n",
       "      <th>2017-06-26</th>\n",
       "      <td>156.25</td>\n",
       "      <td>156.50</td>\n",
       "      <td>153.1954</td>\n",
       "      <td>153.59</td>\n",
       "      <td>17934289.0</td>\n",
       "      <td>0.0</td>\n",
       "      <td>1.0</td>\n",
       "      <td>156.25</td>\n",
       "      <td>156.50</td>\n",
       "      <td>153.1954</td>\n",
       "      <td>153.59</td>\n",
       "      <td>17934289.0</td>\n",
       "    </tr>\n",
       "  </tbody>\n",
       "</table>\n",
       "</div>"
      ],
      "text/plain": [
       "              Open    High       Low   Close      Volume  ExDividend  \\\n",
       "Date                                                                   \n",
       "2017-06-30  151.90  151.92  150.0600  150.98  14540013.0         0.0   \n",
       "2017-06-29  152.28  152.50  148.9175  151.04  23771610.0         0.0   \n",
       "2017-06-28  150.92  153.47  149.8600  153.24  16621566.0         0.0   \n",
       "2017-06-27  152.84  153.31  150.3900  150.58  19274022.0         0.0   \n",
       "2017-06-26  156.25  156.50  153.1954  153.59  17934289.0         0.0   \n",
       "\n",
       "            SplitRatio  AdjOpen  AdjHigh    AdjLow  AdjClose   AdjVolume  \n",
       "Date                                                                      \n",
       "2017-06-30         1.0   151.90   151.92  150.0600    150.98  14540013.0  \n",
       "2017-06-29         1.0   152.28   152.50  148.9175    151.04  23771610.0  \n",
       "2017-06-28         1.0   150.92   153.47  149.8600    153.24  16621566.0  \n",
       "2017-06-27         1.0   152.84   153.31  150.3900    150.58  19274022.0  \n",
       "2017-06-26         1.0   156.25   156.50  153.1954    153.59  17934289.0  "
      ]
     },
     "execution_count": 9,
     "metadata": {},
     "output_type": "execute_result"
    }
   ],
   "source": [
    "fb.head()"
   ]
  },
  {
   "cell_type": "code",
   "execution_count": 10,
   "metadata": {},
   "outputs": [
    {
     "data": {
      "text/html": [
       "<div>\n",
       "<style>\n",
       "    .dataframe thead tr:only-child th {\n",
       "        text-align: right;\n",
       "    }\n",
       "\n",
       "    .dataframe thead th {\n",
       "        text-align: left;\n",
       "    }\n",
       "\n",
       "    .dataframe tbody tr th {\n",
       "        vertical-align: top;\n",
       "    }\n",
       "</style>\n",
       "<table border=\"1\" class=\"dataframe\">\n",
       "  <thead>\n",
       "    <tr style=\"text-align: right;\">\n",
       "      <th></th>\n",
       "      <th>Open</th>\n",
       "      <th>High</th>\n",
       "      <th>Low</th>\n",
       "      <th>Close</th>\n",
       "      <th>Volume</th>\n",
       "      <th>ExDividend</th>\n",
       "      <th>SplitRatio</th>\n",
       "      <th>AdjOpen</th>\n",
       "      <th>AdjHigh</th>\n",
       "      <th>AdjLow</th>\n",
       "      <th>AdjClose</th>\n",
       "      <th>AdjVolume</th>\n",
       "    </tr>\n",
       "    <tr>\n",
       "      <th>Date</th>\n",
       "      <th></th>\n",
       "      <th></th>\n",
       "      <th></th>\n",
       "      <th></th>\n",
       "      <th></th>\n",
       "      <th></th>\n",
       "      <th></th>\n",
       "      <th></th>\n",
       "      <th></th>\n",
       "      <th></th>\n",
       "      <th></th>\n",
       "      <th></th>\n",
       "    </tr>\n",
       "  </thead>\n",
       "  <tbody>\n",
       "    <tr>\n",
       "      <th>2017-06-30</th>\n",
       "      <td>154.28</td>\n",
       "      <td>154.50</td>\n",
       "      <td>153.14</td>\n",
       "      <td>153.83</td>\n",
       "      <td>3501395.0</td>\n",
       "      <td>0.0</td>\n",
       "      <td>1.0</td>\n",
       "      <td>151.159970</td>\n",
       "      <td>151.375521</td>\n",
       "      <td>150.043024</td>\n",
       "      <td>150.719070</td>\n",
       "      <td>3501395.0</td>\n",
       "    </tr>\n",
       "    <tr>\n",
       "      <th>2017-06-29</th>\n",
       "      <td>155.35</td>\n",
       "      <td>155.74</td>\n",
       "      <td>153.62</td>\n",
       "      <td>154.13</td>\n",
       "      <td>3245649.0</td>\n",
       "      <td>0.0</td>\n",
       "      <td>1.0</td>\n",
       "      <td>152.208331</td>\n",
       "      <td>152.590444</td>\n",
       "      <td>150.513317</td>\n",
       "      <td>151.013003</td>\n",
       "      <td>3245649.0</td>\n",
       "    </tr>\n",
       "    <tr>\n",
       "      <th>2017-06-28</th>\n",
       "      <td>155.15</td>\n",
       "      <td>155.55</td>\n",
       "      <td>154.78</td>\n",
       "      <td>155.32</td>\n",
       "      <td>2203062.0</td>\n",
       "      <td>0.0</td>\n",
       "      <td>1.0</td>\n",
       "      <td>152.012376</td>\n",
       "      <td>152.404286</td>\n",
       "      <td>151.649858</td>\n",
       "      <td>152.178938</td>\n",
       "      <td>2203062.0</td>\n",
       "    </tr>\n",
       "    <tr>\n",
       "      <th>2017-06-27</th>\n",
       "      <td>155.00</td>\n",
       "      <td>155.34</td>\n",
       "      <td>154.50</td>\n",
       "      <td>154.75</td>\n",
       "      <td>2385619.0</td>\n",
       "      <td>0.0</td>\n",
       "      <td>1.0</td>\n",
       "      <td>151.865409</td>\n",
       "      <td>152.198533</td>\n",
       "      <td>151.375521</td>\n",
       "      <td>151.620465</td>\n",
       "      <td>2385619.0</td>\n",
       "    </tr>\n",
       "    <tr>\n",
       "      <th>2017-06-26</th>\n",
       "      <td>154.71</td>\n",
       "      <td>155.75</td>\n",
       "      <td>154.63</td>\n",
       "      <td>155.23</td>\n",
       "      <td>2129945.0</td>\n",
       "      <td>0.0</td>\n",
       "      <td>1.0</td>\n",
       "      <td>151.581274</td>\n",
       "      <td>152.600242</td>\n",
       "      <td>151.502892</td>\n",
       "      <td>152.090758</td>\n",
       "      <td>2129945.0</td>\n",
       "    </tr>\n",
       "  </tbody>\n",
       "</table>\n",
       "</div>"
      ],
      "text/plain": [
       "              Open    High     Low   Close     Volume  ExDividend  SplitRatio  \\\n",
       "Date                                                                            \n",
       "2017-06-30  154.28  154.50  153.14  153.83  3501395.0         0.0         1.0   \n",
       "2017-06-29  155.35  155.74  153.62  154.13  3245649.0         0.0         1.0   \n",
       "2017-06-28  155.15  155.55  154.78  155.32  2203062.0         0.0         1.0   \n",
       "2017-06-27  155.00  155.34  154.50  154.75  2385619.0         0.0         1.0   \n",
       "2017-06-26  154.71  155.75  154.63  155.23  2129945.0         0.0         1.0   \n",
       "\n",
       "               AdjOpen     AdjHigh      AdjLow    AdjClose  AdjVolume  \n",
       "Date                                                                   \n",
       "2017-06-30  151.159970  151.375521  150.043024  150.719070  3501395.0  \n",
       "2017-06-29  152.208331  152.590444  150.513317  151.013003  3245649.0  \n",
       "2017-06-28  152.012376  152.404286  151.649858  152.178938  2203062.0  \n",
       "2017-06-27  151.865409  152.198533  151.375521  151.620465  2385619.0  \n",
       "2017-06-26  151.581274  152.600242  151.502892  152.090758  2129945.0  "
      ]
     },
     "execution_count": 10,
     "metadata": {},
     "output_type": "execute_result"
    }
   ],
   "source": [
    "ibm.head()"
   ]
  },
  {
   "cell_type": "code",
   "execution_count": 11,
   "metadata": {},
   "outputs": [
    {
     "data": {
      "text/html": [
       "<div>\n",
       "<style>\n",
       "    .dataframe thead tr:only-child th {\n",
       "        text-align: right;\n",
       "    }\n",
       "\n",
       "    .dataframe thead th {\n",
       "        text-align: left;\n",
       "    }\n",
       "\n",
       "    .dataframe tbody tr th {\n",
       "        vertical-align: top;\n",
       "    }\n",
       "</style>\n",
       "<table border=\"1\" class=\"dataframe\">\n",
       "  <thead>\n",
       "    <tr style=\"text-align: right;\">\n",
       "      <th></th>\n",
       "      <th>Open</th>\n",
       "      <th>High</th>\n",
       "      <th>Low</th>\n",
       "      <th>Close</th>\n",
       "      <th>Volume</th>\n",
       "      <th>ExDividend</th>\n",
       "      <th>SplitRatio</th>\n",
       "      <th>AdjOpen</th>\n",
       "      <th>AdjHigh</th>\n",
       "      <th>AdjLow</th>\n",
       "      <th>AdjClose</th>\n",
       "      <th>AdjVolume</th>\n",
       "    </tr>\n",
       "    <tr>\n",
       "      <th>Date</th>\n",
       "      <th></th>\n",
       "      <th></th>\n",
       "      <th></th>\n",
       "      <th></th>\n",
       "      <th></th>\n",
       "      <th></th>\n",
       "      <th></th>\n",
       "      <th></th>\n",
       "      <th></th>\n",
       "      <th></th>\n",
       "      <th></th>\n",
       "      <th></th>\n",
       "    </tr>\n",
       "  </thead>\n",
       "  <tbody>\n",
       "    <tr>\n",
       "      <th>2017-06-30</th>\n",
       "      <td>209.91</td>\n",
       "      <td>209.910</td>\n",
       "      <td>207.85</td>\n",
       "      <td>208.19</td>\n",
       "      <td>1749132.0</td>\n",
       "      <td>0.0</td>\n",
       "      <td>1.0</td>\n",
       "      <td>208.700040</td>\n",
       "      <td>208.700040</td>\n",
       "      <td>206.651914</td>\n",
       "      <td>206.989955</td>\n",
       "      <td>1749132.0</td>\n",
       "    </tr>\n",
       "    <tr>\n",
       "      <th>2017-06-29</th>\n",
       "      <td>211.05</td>\n",
       "      <td>211.050</td>\n",
       "      <td>207.08</td>\n",
       "      <td>207.85</td>\n",
       "      <td>1792372.0</td>\n",
       "      <td>0.0</td>\n",
       "      <td>1.0</td>\n",
       "      <td>209.833469</td>\n",
       "      <td>209.833469</td>\n",
       "      <td>205.886353</td>\n",
       "      <td>206.651914</td>\n",
       "      <td>1792372.0</td>\n",
       "    </tr>\n",
       "    <tr>\n",
       "      <th>2017-06-28</th>\n",
       "      <td>210.78</td>\n",
       "      <td>211.175</td>\n",
       "      <td>210.09</td>\n",
       "      <td>210.62</td>\n",
       "      <td>1532866.0</td>\n",
       "      <td>0.0</td>\n",
       "      <td>1.0</td>\n",
       "      <td>209.565025</td>\n",
       "      <td>209.957749</td>\n",
       "      <td>208.879003</td>\n",
       "      <td>209.405948</td>\n",
       "      <td>1532866.0</td>\n",
       "    </tr>\n",
       "    <tr>\n",
       "      <th>2017-06-27</th>\n",
       "      <td>212.00</td>\n",
       "      <td>212.500</td>\n",
       "      <td>209.38</td>\n",
       "      <td>209.78</td>\n",
       "      <td>2226566.0</td>\n",
       "      <td>0.0</td>\n",
       "      <td>1.0</td>\n",
       "      <td>210.777993</td>\n",
       "      <td>211.275111</td>\n",
       "      <td>208.173095</td>\n",
       "      <td>208.570790</td>\n",
       "      <td>2226566.0</td>\n",
       "    </tr>\n",
       "    <tr>\n",
       "      <th>2017-06-26</th>\n",
       "      <td>212.79</td>\n",
       "      <td>213.470</td>\n",
       "      <td>212.31</td>\n",
       "      <td>212.61</td>\n",
       "      <td>1319058.0</td>\n",
       "      <td>0.0</td>\n",
       "      <td>1.0</td>\n",
       "      <td>211.563439</td>\n",
       "      <td>212.239520</td>\n",
       "      <td>211.086206</td>\n",
       "      <td>211.384477</td>\n",
       "      <td>1319058.0</td>\n",
       "    </tr>\n",
       "  </tbody>\n",
       "</table>\n",
       "</div>"
      ],
      "text/plain": [
       "              Open     High     Low   Close     Volume  ExDividend  \\\n",
       "Date                                                                 \n",
       "2017-06-30  209.91  209.910  207.85  208.19  1749132.0         0.0   \n",
       "2017-06-29  211.05  211.050  207.08  207.85  1792372.0         0.0   \n",
       "2017-06-28  210.78  211.175  210.09  210.62  1532866.0         0.0   \n",
       "2017-06-27  212.00  212.500  209.38  209.78  2226566.0         0.0   \n",
       "2017-06-26  212.79  213.470  212.31  212.61  1319058.0         0.0   \n",
       "\n",
       "            SplitRatio     AdjOpen     AdjHigh      AdjLow    AdjClose  \\\n",
       "Date                                                                     \n",
       "2017-06-30         1.0  208.700040  208.700040  206.651914  206.989955   \n",
       "2017-06-29         1.0  209.833469  209.833469  205.886353  206.651914   \n",
       "2017-06-28         1.0  209.565025  209.957749  208.879003  209.405948   \n",
       "2017-06-27         1.0  210.777993  211.275111  208.173095  208.570790   \n",
       "2017-06-26         1.0  211.563439  212.239520  211.086206  211.384477   \n",
       "\n",
       "            AdjVolume  \n",
       "Date                   \n",
       "2017-06-30  1749132.0  \n",
       "2017-06-29  1792372.0  \n",
       "2017-06-28  1532866.0  \n",
       "2017-06-27  2226566.0  \n",
       "2017-06-26  1319058.0  "
      ]
     },
     "execution_count": 11,
     "metadata": {},
     "output_type": "execute_result"
    }
   ],
   "source": [
    "mmm.head()"
   ]
  },
  {
   "cell_type": "code",
   "execution_count": 12,
   "metadata": {
    "collapsed": true
   },
   "outputs": [],
   "source": [
    "#sample data for adjusted close price for end of each business month\n",
    "amzn.index=pd.to_datetime(amzn.index)\n",
    "amzn_adjClose=pd.DataFrame(amzn.AdjClose.resample(\"BM\").last())\n",
    "amzn_adjClose.columns=['amzn_adjClose']\n",
    "amzn_adjClose.index.name=\"EOBM_Date\"\n",
    "\n",
    "fb.index=pd.to_datetime(fb.index)\n",
    "fb_adjClose=pd.DataFrame(fb.AdjClose.resample(\"BM\").last())\n",
    "fb_adjClose.columns=['fb_adjClose']\n",
    "fb_adjClose.index.name=\"EOBM_Date\"\n",
    "\n",
    "\n",
    "ibm.index=pd.to_datetime(ibm.index)\n",
    "ibm_adjClose=pd.DataFrame(ibm.AdjClose.resample(\"BM\").last())\n",
    "ibm_adjClose.columns=['ibm_adjClose']\n",
    "ibm_adjClose.index.name=\"EOBM_Date\"\n",
    "\n",
    "mmm.index=pd.to_datetime(mmm.index)\n",
    "mmm_adjClose=pd.DataFrame(mmm.AdjClose.resample(\"BM\").last())\n",
    "mmm_adjClose.columns=['mmm_adjClose']\n",
    "mmm_adjClose.index.name=\"EOBM_Date\""
   ]
  },
  {
   "cell_type": "code",
   "execution_count": 13,
   "metadata": {},
   "outputs": [
    {
     "name": "stdout",
     "output_type": "stream",
     "text": [
      "amzn_adjClose    0\n",
      "dtype: int64\n",
      "fb_adjClose    0\n",
      "dtype: int64\n",
      "ibm_adjClose    0\n",
      "dtype: int64\n",
      "mmm_adjClose    0\n",
      "dtype: int64\n"
     ]
    }
   ],
   "source": [
    "# Check for nulls\n",
    "print(amzn_adjClose.isnull().sum())\n",
    "print(fb_adjClose.isnull().sum())\n",
    "print(ibm_adjClose.isnull().sum())\n",
    "print(mmm_adjClose.isnull().sum())"
   ]
  },
  {
   "cell_type": "code",
   "execution_count": 14,
   "metadata": {},
   "outputs": [
    {
     "data": {
      "image/png": "[encoded data removed]",
      "text/plain": [
       "<matplotlib.figure.Figure at 0x1f5e90280b8>"
      ]
     },
     "metadata": {},
     "output_type": "display_data"
    }
   ],
   "source": [
    "#plot autocorrelation for end of business month adjusted closing price for each stock\n",
    "plt.figure(figsize=(21, 7))\n",
    "pd.plotting.autocorrelation_plot(amzn_adjClose, label='AMZN')\n",
    "pd.plotting.autocorrelation_plot(fb_adjClose, label='FB')\n",
    "pd.plotting.autocorrelation_plot(ibm_adjClose, label='IBM')\n",
    "pd.plotting.autocorrelation_plot(mmm_adjClose, label='MMM')\n",
    "plt.xlabel('Lag (Months)')\n",
    "plt.ylabel('Correlation')\n",
    "plt.title('Autocorrelation Graph of End of Business Month Adjusted Closing Stock Prices')\n",
    "plt.show()"
   ]
  },
  {
   "cell_type": "code",
   "execution_count": 15,
   "metadata": {
    "collapsed": true
   },
   "outputs": [],
   "source": [
    "# 4.Use the pandas autocorrelation_plot() function to plot the autocorrelation of the adjusted month-end close prices\n",
    "# for each of the stocks. Are they autocorrelated?\n",
    "\n",
    "# AMZN, FB AND MMM are positively autocorrelated uptil approximately 13 months. IBM positively autocorrelated until approximately\n",
    "# 8 months of lag. After those respective lag periods, the autocorrelation for the stocks are mostly within the 99% confidence\n",
    "# interval and are stastically insignificant. FB and MMM have negative autocorrelation outside of the confidence interval around\n",
    "# the 30-50 months period."
   ]
  },
  {
   "cell_type": "code",
   "execution_count": 16,
   "metadata": {},
   "outputs": [
    {
     "data": {
      "image/png": "[encoded data removed]",
      "text/plain": [
       "<matplotlib.figure.Figure at 0x1f5e968e940>"
      ]
     },
     "metadata": {},
     "output_type": "display_data"
    }
   ],
   "source": [
    "# 5. Calculate the monthly returns for each stock using the \"shift trick\" explained in the lecture, using shift() function.\n",
    "# Use pandas autotocorrelation_plot() to plot the autocorrelation of the monthly returns.\n",
    "\n",
    "amzn_monthly_return=pd.DataFrame(amzn_adjClose.diff()/amzn_adjClose.shift(1))\n",
    "amzn_monthly_return.columns=['amzn_ret']\n",
    "\n",
    "fb_monthly_return=pd.DataFrame(fb_adjClose.diff()/fb_adjClose.shift(1)*100)\n",
    "fb_monthly_return.columns=['fb_ret']\n",
    "\n",
    "ibm_monthly_return=pd.DataFrame(ibm_adjClose.diff()/ibm_adjClose.shift(1)*100)\n",
    "ibm_monthly_return.columns=['ibm_ret']\n",
    "\n",
    "mmm_monthly_return=pd.DataFrame(mmm_adjClose.diff()/mmm_adjClose.shift(1)*100)\n",
    "mmm_monthly_return.columns=['mmm_ret']\n",
    "\n",
    "pd.plotting.autocorrelation_plot(amzn_monthly_return.dropna(), label='AMZN')\n",
    "pd.plotting.autocorrelation_plot(fb_monthly_return.dropna(), label='FB')\n",
    "pd.plotting.autocorrelation_plot(ibm_monthly_return.dropna(), label='IBM')\n",
    "pd.plotting.autocorrelation_plot(mmm_monthly_return.dropna(), label='MMM')\n",
    "plt.xlabel('Lag (Month)')\n",
    "plt.ylabel('Correlation')\n",
    "plt.title('Autocorrelation Graph of Monthly Returns')\n",
    "plt.show()"
   ]
  },
  {
   "cell_type": "code",
   "execution_count": 17,
   "metadata": {
    "collapsed": true
   },
   "outputs": [],
   "source": [
    "# Are the returns autocorrelated? Provide short explanation.\n",
    "\n",
    "# Autocorrelation coefficients are all within 95% and all within 99% confidence interval, thus negligible for monthly returns and\n",
    "# not autocorrelated. "
   ]
  },
  {
   "cell_type": "code",
   "execution_count": 18,
   "metadata": {
    "collapsed": true
   },
   "outputs": [],
   "source": [
    "# 6. Combine all 4 time series (returns) into a single DataFrame,\n",
    "# Visualize the correlation between the returns of all pairs of stocks using a scatter plot matrix (use scatter_matrix() \n",
    "# function from pandas.plotting). "
   ]
  },
  {
   "cell_type": "code",
   "execution_count": 19,
   "metadata": {},
   "outputs": [
    {
     "data": {
      "text/html": [
       "<div>\n",
       "<style>\n",
       "    .dataframe thead tr:only-child th {\n",
       "        text-align: right;\n",
       "    }\n",
       "\n",
       "    .dataframe thead th {\n",
       "        text-align: left;\n",
       "    }\n",
       "\n",
       "    .dataframe tbody tr th {\n",
       "        vertical-align: top;\n",
       "    }\n",
       "</style>\n",
       "<table border=\"1\" class=\"dataframe\">\n",
       "  <thead>\n",
       "    <tr style=\"text-align: right;\">\n",
       "      <th></th>\n",
       "      <th>amzn_ret</th>\n",
       "      <th>fb_ret</th>\n",
       "      <th>ibm_ret</th>\n",
       "      <th>mmm_ret</th>\n",
       "    </tr>\n",
       "    <tr>\n",
       "      <th>EOBM_Date</th>\n",
       "      <th></th>\n",
       "      <th></th>\n",
       "      <th></th>\n",
       "      <th></th>\n",
       "    </tr>\n",
       "  </thead>\n",
       "  <tbody>\n",
       "    <tr>\n",
       "      <th>2012-07-31</th>\n",
       "      <td>NaN</td>\n",
       "      <td>NaN</td>\n",
       "      <td>NaN</td>\n",
       "      <td>NaN</td>\n",
       "    </tr>\n",
       "    <tr>\n",
       "      <th>2012-08-31</th>\n",
       "      <td>0.064166</td>\n",
       "      <td>-16.821741</td>\n",
       "      <td>-0.151981</td>\n",
       "      <td>2.147858</td>\n",
       "    </tr>\n",
       "    <tr>\n",
       "      <th>2012-09-28</th>\n",
       "      <td>0.024369</td>\n",
       "      <td>19.946838</td>\n",
       "      <td>6.466513</td>\n",
       "      <td>-0.194384</td>\n",
       "    </tr>\n",
       "    <tr>\n",
       "      <th>2012-10-31</th>\n",
       "      <td>-0.084252</td>\n",
       "      <td>-2.539243</td>\n",
       "      <td>-6.228007</td>\n",
       "      <td>-5.215321</td>\n",
       "    </tr>\n",
       "    <tr>\n",
       "      <th>2012-11-30</th>\n",
       "      <td>0.082256</td>\n",
       "      <td>32.638560</td>\n",
       "      <td>-1.858246</td>\n",
       "      <td>4.512319</td>\n",
       "    </tr>\n",
       "  </tbody>\n",
       "</table>\n",
       "</div>"
      ],
      "text/plain": [
       "            amzn_ret     fb_ret   ibm_ret   mmm_ret\n",
       "EOBM_Date                                          \n",
       "2012-07-31       NaN        NaN       NaN       NaN\n",
       "2012-08-31  0.064166 -16.821741 -0.151981  2.147858\n",
       "2012-09-28  0.024369  19.946838  6.466513 -0.194384\n",
       "2012-10-31 -0.084252  -2.539243 -6.228007 -5.215321\n",
       "2012-11-30  0.082256  32.638560 -1.858246  4.512319"
      ]
     },
     "execution_count": 19,
     "metadata": {},
     "output_type": "execute_result"
    }
   ],
   "source": [
    "# merge adjusted close series on date\n",
    "merged_monthly_return=((amzn_monthly_return.join(fb_monthly_return)).join(ibm_monthly_return)).join(mmm_monthly_return)\n",
    "\n",
    "merged_monthly_return.head()"
   ]
  },
  {
   "cell_type": "code",
   "execution_count": 20,
   "metadata": {
    "collapsed": true
   },
   "outputs": [],
   "source": [
    "# First row is null, drop row\n",
    "merged_monthly_return.dropna(inplace=True)"
   ]
  },
  {
   "cell_type": "code",
   "execution_count": 21,
   "metadata": {},
   "outputs": [
    {
     "data": {
      "text/plain": [
       "<matplotlib.figure.Figure at 0x1f5e946bb38>"
      ]
     },
     "metadata": {},
     "output_type": "display_data"
    },
    {
     "data": {
      "image/png": "[encoded data removed]",
      "text/plain": [
       "<matplotlib.figure.Figure at 0x1f5e948ab00>"
      ]
     },
     "metadata": {},
     "output_type": "display_data"
    }
   ],
   "source": [
    "plt.figure(figsize=(50,50))\n",
    "pd.plotting.scatter_matrix(merged_monthly_return)\n",
    "plt.show()"
   ]
  },
  {
   "cell_type": "code",
   "execution_count": 22,
   "metadata": {
    "collapsed": true
   },
   "outputs": [],
   "source": [
    "#Explain the results. Is there any correlation?\n",
    "\n",
    "# All the individual scatter plots have points all over the place, so there doesn't seem to be any significant correlation\n",
    "# between the stock returns. However, IBM vs MMM returns seems to be a bit more linear."
   ]
  },
  {
   "cell_type": "code",
   "execution_count": 23,
   "metadata": {},
   "outputs": [
    {
     "data": {
      "text/html": [
       "<div>\n",
       "<style>\n",
       "    .dataframe thead tr:only-child th {\n",
       "        text-align: right;\n",
       "    }\n",
       "\n",
       "    .dataframe thead th {\n",
       "        text-align: left;\n",
       "    }\n",
       "\n",
       "    .dataframe tbody tr th {\n",
       "        vertical-align: top;\n",
       "    }\n",
       "</style>\n",
       "<table border=\"1\" class=\"dataframe\">\n",
       "  <thead>\n",
       "    <tr style=\"text-align: right;\">\n",
       "      <th></th>\n",
       "      <th>amzn_ret</th>\n",
       "      <th>fb_ret</th>\n",
       "      <th>ibm_ret</th>\n",
       "      <th>mmm_ret</th>\n",
       "    </tr>\n",
       "  </thead>\n",
       "  <tbody>\n",
       "    <tr>\n",
       "      <th>amzn_ret</th>\n",
       "      <td>1.000000</td>\n",
       "      <td>0.212371</td>\n",
       "      <td>0.199674</td>\n",
       "      <td>0.308424</td>\n",
       "    </tr>\n",
       "    <tr>\n",
       "      <th>fb_ret</th>\n",
       "      <td>0.212371</td>\n",
       "      <td>1.000000</td>\n",
       "      <td>0.041273</td>\n",
       "      <td>0.096255</td>\n",
       "    </tr>\n",
       "    <tr>\n",
       "      <th>ibm_ret</th>\n",
       "      <td>0.199674</td>\n",
       "      <td>0.041273</td>\n",
       "      <td>1.000000</td>\n",
       "      <td>0.260762</td>\n",
       "    </tr>\n",
       "    <tr>\n",
       "      <th>mmm_ret</th>\n",
       "      <td>0.308424</td>\n",
       "      <td>0.096255</td>\n",
       "      <td>0.260762</td>\n",
       "      <td>1.000000</td>\n",
       "    </tr>\n",
       "  </tbody>\n",
       "</table>\n",
       "</div>"
      ],
      "text/plain": [
       "          amzn_ret    fb_ret   ibm_ret   mmm_ret\n",
       "amzn_ret  1.000000  0.212371  0.199674  0.308424\n",
       "fb_ret    0.212371  1.000000  0.041273  0.096255\n",
       "ibm_ret   0.199674  0.041273  1.000000  0.260762\n",
       "mmm_ret   0.308424  0.096255  0.260762  1.000000"
      ]
     },
     "execution_count": 23,
     "metadata": {},
     "output_type": "execute_result"
    }
   ],
   "source": [
    "# pd.DataFrame(np.cor(merged_monthly_return))\n",
    "merged_monthly_return.corr()"
   ]
  },
  {
   "cell_type": "code",
   "execution_count": 24,
   "metadata": {
    "collapsed": true
   },
   "outputs": [],
   "source": [
    "# AMZN vs MMM return actually has the highest correlation, but this is not clear from looking at the scatter matrix plots."
   ]
  }
 ],
 "metadata": {
  "kernelspec": {
   "display_name": "Python 3",
   "language": "python",
   "name": "python3"
  },
  "language_info": {
   "codemirror_mode": {
    "name": "ipython",
    "version": 3
   },
   "file_extension": ".py",
   "mimetype": "text/x-python",
   "name": "python",
   "nbconvert_exporter": "python",
   "pygments_lexer": "ipython3",
   "version": "3.6.2"
  },
  "toc": {
   "base_numbering": 1,
   "nav_menu": {},
   "number_sections": false,
   "sideBar": true,
   "skip_h1_title": false,
   "title_cell": "Table of Contents",
   "title_sidebar": "Contents",
   "toc_cell": false,
   "toc_position": {},
   "toc_section_display": true,
   "toc_window_display": false
  }
 },
 "nbformat": 4,
 "nbformat_minor": 4
}
