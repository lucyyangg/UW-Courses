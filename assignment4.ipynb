{
 "cells": [
  {
   "cell_type": "markdown",
   "metadata": {},
   "source": [
    "Before you turn this problem in, make sure everything runs as expected. First, **restart the kernel** (in the menu bar, select Kernel$\\rightarrow$Restart) and then **run all cells** (in the menu bar, select Cell$\\rightarrow$Run All).\n",
    "\n",
    "\n",
    "Below, please fill in your name and collaborators, if any:"
   ]
  },
  {
   "cell_type": "code",
   "execution_count": 24,
   "metadata": {
    "collapsed": true,
    "execution": {
     "iopub.execute_input": "2021-07-16T08:56:28.403961Z",
     "iopub.status.busy": "2021-07-16T08:56:28.403577Z",
     "iopub.status.idle": "2021-07-16T08:56:28.407956Z",
     "shell.execute_reply": "2021-07-16T08:56:28.406853Z",
     "shell.execute_reply.started": "2021-07-16T08:56:28.403929Z"
    }
   },
   "outputs": [],
   "source": [
    "NAME = \"Lucy Yang\"\n",
    "COLLABORATORS = \"\""
   ]
  },
  {
   "cell_type": "markdown",
   "metadata": {},
   "source": [
    "# Assignment 4 - Classification"
   ]
  },
  {
   "cell_type": "markdown",
   "metadata": {},
   "source": [
    "In this assignment, you will practice using the kNN (k-Nearest Neighbors) algorithm to solve a classification problem.\n",
    "The kNN is a simple and robust classifier, which is used in different applications.\n",
    "\n",
    "We will use the Iris dataset for this assignment.\n",
    "The dataset was first introduced by statistician R. Fisher and consists of 50 observations from each of three species Iris (_Iris setosa_, _Iris virginica_ and _Iris versicolor_). For each sample, 4 features are given: the sepal length and width, and the petal length and width.\n",
    "\n",
    "The goal is to train kNN algorithm to distinguish the species from one another."
   ]
  },
  {
   "cell_type": "markdown",
   "metadata": {},
   "source": [
    "1. The dataset can be downloaded from UCI Machine Learning Repository: https://archive.ics.uci.edu/ml/machine-learning-databases/iris/.\n",
    "\n",
    "2. Download `iris.data` file from the Data Folder. The Data Set description with the definitions of all the columns can be found on the dataset page - https://archive.ics.uci.edu/ml/datasets/Iris. Alternatively, you can import the data using sklearn.datasets. You will need to dowload both the sepal/petal data and the target variable information, then merge the two datasets.\n",
    "\n",
    "3. _(1 points)_ Load the data from the file (`iris.data`) into the DataFrame. Set the names of columns according to the column definitions given in Data Description.\n",
    "\n",
    "4. _(2 points)_ **Data inspection.** \n",
    "    - Display the first 5 rows of the dataset and use any relevant functions that can help you to understand the data.\n",
    "    - Prepare 2 scatter plots - `sepal_width` vs `sepal_length` and `petal_width` vs `petal_length`. Scatter plots should show each class in different color (`seaborn.lmplot` is recommended for plotting). \n",
    "\n",
    "5. _(2 points)_ **Prepare the data for classification**. \n",
    "    - Using the pandas operators prepare the feature variables `X` and the response `Y` for the fit. Note that `sklean` expects data as arrays, so convert extracted columns into arrays.\n",
    "\n",
    "6. _(1 point)_ **Split** the data into `train` and `test` using `sklearn` `train_test_split` function.\n",
    "\n",
    "7. _(2 points)_ **Run the fit** using `KNeighborsClassifier` from `sklearn.neighbors`. \n",
    "    - First, instantiate the model,\n",
    "    - Then, run the classifier on the training set.\n",
    "\n",
    "8. _(3 points)_ Use learning model to **predict the class from features**, run prediction on `X` from test part. \n",
    "    - Show the **accuracy score** of the prediction by comparing predicted iris classes and the `Y` values from the test.\n",
    "    - Comparing these two arrays (predicted classes and test `Y`), count the numbers of correct predictions and predictions that were wrong. (**HINTS:** `NumPy` arrays can be compared using `==` operator. You can also use `NumPy`'s operator `count_nonzero` to count number of non-False values).\n",
    "\n",
    "9. _(4 points)_ In this task, we want to see how accuracy score and the number of correct predictions change with the number of neighbors `k`. We will use the following **number of neighbors `k`: 1, 3, 5, 7, 10, 20, 30, 40, and 50**:\n",
    "    - Generate 10 random train/test splits for each value of `k`\n",
    "    - Fit the model for each split and generate predictions\n",
    "    - Average the accuracy score for each `k`\n",
    "    - Calculate the average number of correct predictions for each `k` as well\n",
    "    - Plot the accuracy score for different values of `k`. What conclusion can you make based on the graph?\n"
   ]
  },
  {
   "cell_type": "code",
   "execution_count": 25,
   "metadata": {
    "collapsed": true,
    "execution": {
     "iopub.execute_input": "2021-07-16T08:56:28.410015Z",
     "iopub.status.busy": "2021-07-16T08:56:28.409693Z",
     "iopub.status.idle": "2021-07-16T08:56:28.422870Z",
     "shell.execute_reply": "2021-07-16T08:56:28.422050Z",
     "shell.execute_reply.started": "2021-07-16T08:56:28.409986Z"
    }
   },
   "outputs": [],
   "source": [
    "# Here are all imports that you will need\n",
    "\n",
    "import pandas as pd\n",
    "import matplotlib.pyplot as plt\n",
    "import seaborn as sns\n",
    "%matplotlib inline\n",
    "import numpy as np\n",
    "from sklearn.model_selection import train_test_split\n",
    "from sklearn.neighbors import KNeighborsClassifier"
   ]
  },
  {
   "cell_type": "code",
   "execution_count": 26,
   "metadata": {
    "execution": {
     "iopub.execute_input": "2021-07-16T08:56:28.439114Z",
     "iopub.status.busy": "2021-07-16T08:56:28.438618Z",
     "iopub.status.idle": "2021-07-16T08:56:28.465555Z",
     "shell.execute_reply": "2021-07-16T08:56:28.464173Z",
     "shell.execute_reply.started": "2021-07-16T08:56:28.439083Z"
    }
   },
   "outputs": [
    {
     "data": {
      "text/html": [
       "<div>\n",
       "<style>\n",
       "    .dataframe thead tr:only-child th {\n",
       "        text-align: right;\n",
       "    }\n",
       "\n",
       "    .dataframe thead th {\n",
       "        text-align: left;\n",
       "    }\n",
       "\n",
       "    .dataframe tbody tr th {\n",
       "        vertical-align: top;\n",
       "    }\n",
       "</style>\n",
       "<table border=\"1\" class=\"dataframe\">\n",
       "  <thead>\n",
       "    <tr style=\"text-align: right;\">\n",
       "      <th></th>\n",
       "      <th>sepal_length</th>\n",
       "      <th>sepal_width</th>\n",
       "      <th>petal_length</th>\n",
       "      <th>petal_width</th>\n",
       "      <th>target</th>\n",
       "    </tr>\n",
       "  </thead>\n",
       "  <tbody>\n",
       "    <tr>\n",
       "      <th>0</th>\n",
       "      <td>5.1</td>\n",
       "      <td>3.5</td>\n",
       "      <td>1.4</td>\n",
       "      <td>0.2</td>\n",
       "      <td>0</td>\n",
       "    </tr>\n",
       "    <tr>\n",
       "      <th>1</th>\n",
       "      <td>4.9</td>\n",
       "      <td>3.0</td>\n",
       "      <td>1.4</td>\n",
       "      <td>0.2</td>\n",
       "      <td>0</td>\n",
       "    </tr>\n",
       "    <tr>\n",
       "      <th>2</th>\n",
       "      <td>4.7</td>\n",
       "      <td>3.2</td>\n",
       "      <td>1.3</td>\n",
       "      <td>0.2</td>\n",
       "      <td>0</td>\n",
       "    </tr>\n",
       "    <tr>\n",
       "      <th>3</th>\n",
       "      <td>4.6</td>\n",
       "      <td>3.1</td>\n",
       "      <td>1.5</td>\n",
       "      <td>0.2</td>\n",
       "      <td>0</td>\n",
       "    </tr>\n",
       "    <tr>\n",
       "      <th>4</th>\n",
       "      <td>5.0</td>\n",
       "      <td>3.6</td>\n",
       "      <td>1.4</td>\n",
       "      <td>0.2</td>\n",
       "      <td>0</td>\n",
       "    </tr>\n",
       "  </tbody>\n",
       "</table>\n",
       "</div>"
      ],
      "text/plain": [
       "   sepal_length  sepal_width  petal_length  petal_width  target\n",
       "0           5.1          3.5           1.4          0.2       0\n",
       "1           4.9          3.0           1.4          0.2       0\n",
       "2           4.7          3.2           1.3          0.2       0\n",
       "3           4.6          3.1           1.5          0.2       0\n",
       "4           5.0          3.6           1.4          0.2       0"
      ]
     },
     "execution_count": 26,
     "metadata": {},
     "output_type": "execute_result"
    }
   ],
   "source": [
    "# Data download from sklearn\n",
    "from sklearn.datasets import load_iris\n",
    "data=load_iris().data\n",
    "target=load_iris().target\n",
    "\n",
    "df_data=pd.DataFrame(data,columns=['sepal_length','sepal_width','petal_length','petal_width'])\n",
    "df_target=pd.DataFrame(target,columns=['target'])\n",
    "\n",
    "target_names=load_iris().target_names\n",
    "\n",
    "# Remember to merge the DataFrames into one after they are created.\n",
    "df_merged=df_data.join(df_target)\n",
    "df_merged.head()"
   ]
  },
  {
   "cell_type": "code",
   "execution_count": 27,
   "metadata": {
    "execution": {
     "iopub.execute_input": "2021-07-16T08:56:28.468809Z",
     "iopub.status.busy": "2021-07-16T08:56:28.468515Z",
     "iopub.status.idle": "2021-07-16T08:56:28.476898Z",
     "shell.execute_reply": "2021-07-16T08:56:28.475529Z",
     "shell.execute_reply.started": "2021-07-16T08:56:28.468780Z"
    }
   },
   "outputs": [
    {
     "data": {
      "text/plain": [
       "array(['setosa', 'versicolor', 'virginica'],\n",
       "      dtype='<U10')"
      ]
     },
     "execution_count": 27,
     "metadata": {},
     "output_type": "execute_result"
    }
   ],
   "source": [
    "target_names"
   ]
  },
  {
   "cell_type": "code",
   "execution_count": 28,
   "metadata": {
    "collapsed": true,
    "execution": {
     "iopub.execute_input": "2021-07-16T08:56:28.485347Z",
     "iopub.status.busy": "2021-07-16T08:56:28.484770Z",
     "iopub.status.idle": "2021-07-16T08:56:28.494577Z",
     "shell.execute_reply": "2021-07-16T08:56:28.492788Z",
     "shell.execute_reply.started": "2021-07-16T08:56:28.485267Z"
    }
   },
   "outputs": [],
   "source": [
    "# Map class names to target\n",
    "df_merged['class']=df_merged.target.map(lambda x: target_names[x])"
   ]
  },
  {
   "cell_type": "code",
   "execution_count": 29,
   "metadata": {
    "execution": {
     "iopub.execute_input": "2021-07-16T08:56:28.497882Z",
     "iopub.status.busy": "2021-07-16T08:56:28.497292Z",
     "iopub.status.idle": "2021-07-16T08:56:28.534810Z",
     "shell.execute_reply": "2021-07-16T08:56:28.533808Z",
     "shell.execute_reply.started": "2021-07-16T08:56:28.497825Z"
    }
   },
   "outputs": [
    {
     "name": "stdout",
     "output_type": "stream",
     "text": [
      "<class 'pandas.core.frame.DataFrame'>\n",
      "RangeIndex: 150 entries, 0 to 149\n",
      "Data columns (total 6 columns):\n",
      "sepal_length    150 non-null float64\n",
      "sepal_width     150 non-null float64\n",
      "petal_length    150 non-null float64\n",
      "petal_width     150 non-null float64\n",
      "target          150 non-null int32\n",
      "class           150 non-null object\n",
      "dtypes: float64(4), int32(1), object(1)\n",
      "memory usage: 6.5+ KB\n",
      "None\n"
     ]
    },
    {
     "data": {
      "text/html": [
       "<div>\n",
       "<style>\n",
       "    .dataframe thead tr:only-child th {\n",
       "        text-align: right;\n",
       "    }\n",
       "\n",
       "    .dataframe thead th {\n",
       "        text-align: left;\n",
       "    }\n",
       "\n",
       "    .dataframe tbody tr th {\n",
       "        vertical-align: top;\n",
       "    }\n",
       "</style>\n",
       "<table border=\"1\" class=\"dataframe\">\n",
       "  <thead>\n",
       "    <tr style=\"text-align: right;\">\n",
       "      <th></th>\n",
       "      <th>sepal_length</th>\n",
       "      <th>sepal_width</th>\n",
       "      <th>petal_length</th>\n",
       "      <th>petal_width</th>\n",
       "      <th>target</th>\n",
       "      <th>class</th>\n",
       "    </tr>\n",
       "  </thead>\n",
       "  <tbody>\n",
       "    <tr>\n",
       "      <th>0</th>\n",
       "      <td>5.1</td>\n",
       "      <td>3.5</td>\n",
       "      <td>1.4</td>\n",
       "      <td>0.2</td>\n",
       "      <td>0</td>\n",
       "      <td>setosa</td>\n",
       "    </tr>\n",
       "    <tr>\n",
       "      <th>1</th>\n",
       "      <td>4.9</td>\n",
       "      <td>3.0</td>\n",
       "      <td>1.4</td>\n",
       "      <td>0.2</td>\n",
       "      <td>0</td>\n",
       "      <td>setosa</td>\n",
       "    </tr>\n",
       "    <tr>\n",
       "      <th>2</th>\n",
       "      <td>4.7</td>\n",
       "      <td>3.2</td>\n",
       "      <td>1.3</td>\n",
       "      <td>0.2</td>\n",
       "      <td>0</td>\n",
       "      <td>setosa</td>\n",
       "    </tr>\n",
       "    <tr>\n",
       "      <th>3</th>\n",
       "      <td>4.6</td>\n",
       "      <td>3.1</td>\n",
       "      <td>1.5</td>\n",
       "      <td>0.2</td>\n",
       "      <td>0</td>\n",
       "      <td>setosa</td>\n",
       "    </tr>\n",
       "    <tr>\n",
       "      <th>4</th>\n",
       "      <td>5.0</td>\n",
       "      <td>3.6</td>\n",
       "      <td>1.4</td>\n",
       "      <td>0.2</td>\n",
       "      <td>0</td>\n",
       "      <td>setosa</td>\n",
       "    </tr>\n",
       "  </tbody>\n",
       "</table>\n",
       "</div>"
      ],
      "text/plain": [
       "   sepal_length  sepal_width  petal_length  petal_width  target   class\n",
       "0           5.1          3.5           1.4          0.2       0  setosa\n",
       "1           4.9          3.0           1.4          0.2       0  setosa\n",
       "2           4.7          3.2           1.3          0.2       0  setosa\n",
       "3           4.6          3.1           1.5          0.2       0  setosa\n",
       "4           5.0          3.6           1.4          0.2       0  setosa"
      ]
     },
     "execution_count": 29,
     "metadata": {},
     "output_type": "execute_result"
    }
   ],
   "source": [
    "# 4. Data inspection.\n",
    "# inspect dataframe\n",
    "\n",
    "print(df_merged.info())\n",
    "df_merged.isnull().sum()\n",
    "df_merged.head()"
   ]
  },
  {
   "cell_type": "code",
   "execution_count": 30,
   "metadata": {
    "execution": {
     "iopub.execute_input": "2021-07-16T08:56:28.537510Z",
     "iopub.status.busy": "2021-07-16T08:56:28.536892Z",
     "iopub.status.idle": "2021-07-16T08:56:29.331524Z",
     "shell.execute_reply": "2021-07-16T08:56:29.330371Z",
     "shell.execute_reply.started": "2021-07-16T08:56:28.537462Z"
    }
   },
   "outputs": [
    {
     "data": {
      "image/png": "[encoded data removed]",
      "text/plain": [
       "<matplotlib.figure.Figure at 0x1feecfe4ef0>"
      ]
     },
     "metadata": {},
     "output_type": "display_data"
    }
   ],
   "source": [
    "# plot sepal_width vs sepal_length\n",
    "\n",
    "sns.lmplot(data=df_merged, x='sepal_width', y='sepal_length', hue='class')\n",
    "plt.xlabel('Sepal Width')\n",
    "plt.ylabel('Sepal Length')\n",
    "plt.title('Sepal Width vs Sepal Length')\n",
    "plt.show()"
   ]
  },
  {
   "cell_type": "code",
   "execution_count": 31,
   "metadata": {
    "execution": {
     "iopub.execute_input": "2021-07-16T08:56:29.333795Z",
     "iopub.status.busy": "2021-07-16T08:56:29.333489Z",
     "iopub.status.idle": "2021-07-16T08:56:30.103186Z",
     "shell.execute_reply": "2021-07-16T08:56:30.102058Z",
     "shell.execute_reply.started": "2021-07-16T08:56:29.333767Z"
    }
   },
   "outputs": [
    {
     "data": {
      "image/png": "[encoded data removed]",
      "text/plain": [
       "<matplotlib.figure.Figure at 0x1feed740f60>"
      ]
     },
     "metadata": {},
     "output_type": "display_data"
    }
   ],
   "source": [
    "# plot petal_width vs petal_length\n",
    "\n",
    "sns.lmplot(data=df_merged, x='petal_width', y='petal_length', hue='class')\n",
    "plt.xlabel('Petal Width')\n",
    "plt.ylabel('Petal Length')\n",
    "plt.title('Petal Width vs Petal Length')\n",
    "plt.show()"
   ]
  },
  {
   "cell_type": "code",
   "execution_count": 32,
   "metadata": {
    "collapsed": true,
    "execution": {
     "iopub.execute_input": "2021-07-16T08:56:30.105341Z",
     "iopub.status.busy": "2021-07-16T08:56:30.104868Z",
     "iopub.status.idle": "2021-07-16T08:56:30.112024Z",
     "shell.execute_reply": "2021-07-16T08:56:30.110705Z",
     "shell.execute_reply.started": "2021-07-16T08:56:30.105276Z"
    }
   },
   "outputs": [],
   "source": [
    "# (2 points) Prepare the data for classification.\n",
    "# Using the pandas operators prepare the feature variables X and the response Y for the fit.\n",
    "\n",
    "x = df_merged[['sepal_length','sepal_width','petal_length','petal_width']]\n",
    "y = df_merged['class']"
   ]
  },
  {
   "cell_type": "code",
   "execution_count": 33,
   "metadata": {
    "collapsed": true,
    "execution": {
     "iopub.execute_input": "2021-07-16T08:56:30.114156Z",
     "iopub.status.busy": "2021-07-16T08:56:30.113726Z",
     "iopub.status.idle": "2021-07-16T08:56:30.126054Z",
     "shell.execute_reply": "2021-07-16T08:56:30.124917Z",
     "shell.execute_reply.started": "2021-07-16T08:56:30.114119Z"
    }
   },
   "outputs": [],
   "source": [
    "# (1 point) Split the data into train and test using sklearn train_test_split function.\n",
    "x_train, x_test, y_train, y_test = train_test_split(x, y, test_size = 0.2, random_state = 11)"
   ]
  },
  {
   "cell_type": "code",
   "execution_count": 34,
   "metadata": {
    "collapsed": true,
    "execution": {
     "iopub.execute_input": "2021-07-16T08:56:30.130269Z",
     "iopub.status.busy": "2021-07-16T08:56:30.129920Z",
     "iopub.status.idle": "2021-07-16T08:56:30.138156Z",
     "shell.execute_reply": "2021-07-16T08:56:30.137059Z",
     "shell.execute_reply.started": "2021-07-16T08:56:30.130239Z"
    }
   },
   "outputs": [],
   "source": [
    "# (2 points) Run the fit using KNeighborsClassifier from sklearn.neighbors.\n",
    "# instantiate the model\n",
    "classifier = KNeighborsClassifier(n_neighbors=3)"
   ]
  },
  {
   "cell_type": "code",
   "execution_count": 35,
   "metadata": {
    "execution": {
     "iopub.execute_input": "2021-07-16T08:56:30.142355Z",
     "iopub.status.busy": "2021-07-16T08:56:30.142000Z",
     "iopub.status.idle": "2021-07-16T08:56:30.158690Z",
     "shell.execute_reply": "2021-07-16T08:56:30.157532Z",
     "shell.execute_reply.started": "2021-07-16T08:56:30.142322Z"
    }
   },
   "outputs": [
    {
     "data": {
      "text/plain": [
       "KNeighborsClassifier(algorithm='auto', leaf_size=30, metric='minkowski',\n",
       "           metric_params=None, n_jobs=1, n_neighbors=3, p=2,\n",
       "           weights='uniform')"
      ]
     },
     "execution_count": 35,
     "metadata": {},
     "output_type": "execute_result"
    }
   ],
   "source": [
    "# Then, run the classifier on the training set.\n",
    "classifier.fit(x_train, y_train)"
   ]
  },
  {
   "cell_type": "code",
   "execution_count": 36,
   "metadata": {
    "collapsed": true,
    "execution": {
     "iopub.execute_input": "2021-07-16T08:56:30.160914Z",
     "iopub.status.busy": "2021-07-16T08:56:30.160517Z",
     "iopub.status.idle": "2021-07-16T08:56:30.176796Z",
     "shell.execute_reply": "2021-07-16T08:56:30.175543Z",
     "shell.execute_reply.started": "2021-07-16T08:56:30.160873Z"
    }
   },
   "outputs": [],
   "source": [
    "# (3 points) Use learning model to predict the class from features, run prediction on X from test part.\n",
    "\n",
    "y_pred = classifier.predict(x_test)"
   ]
  },
  {
   "cell_type": "code",
   "execution_count": 37,
   "metadata": {
    "collapsed": true,
    "execution": {
     "iopub.execute_input": "2021-07-16T08:56:30.179237Z",
     "iopub.status.busy": "2021-07-16T08:56:30.178760Z",
     "iopub.status.idle": "2021-07-16T08:56:30.189825Z",
     "shell.execute_reply": "2021-07-16T08:56:30.188870Z",
     "shell.execute_reply.started": "2021-07-16T08:56:30.179197Z"
    }
   },
   "outputs": [],
   "source": [
    "# Show the accuracy score of the prediction by comparing predicted iris classes and the Y values from the test.\n",
    "# Comparing these two arrays (predicted classes and test Y), count the numbers of correct predictions and predictions that were wrong. (HINTS: NumPy arrays can be \n",
    "# compared using == operator. You can also use NumPy's operator count_nonzero to count number of non-False values)."
   ]
  },
  {
   "cell_type": "code",
   "execution_count": 38,
   "metadata": {
    "execution": {
     "iopub.execute_input": "2021-07-16T08:56:30.208480Z",
     "iopub.status.busy": "2021-07-16T08:56:30.208035Z",
     "iopub.status.idle": "2021-07-16T08:56:30.221556Z",
     "shell.execute_reply": "2021-07-16T08:56:30.220220Z",
     "shell.execute_reply.started": "2021-07-16T08:56:30.208448Z"
    }
   },
   "outputs": [
    {
     "name": "stdout",
     "output_type": "stream",
     "text": [
      "Number of accurate predictions =  28\n"
     ]
    }
   ],
   "source": [
    "# number of accurate predictions\n",
    "print(\"Number of accurate predictions = \", np.count_nonzero(y_test==y_pred))"
   ]
  },
  {
   "cell_type": "code",
   "execution_count": 39,
   "metadata": {
    "execution": {
     "iopub.execute_input": "2021-07-16T08:56:30.223750Z",
     "iopub.status.busy": "2021-07-16T08:56:30.223419Z",
     "iopub.status.idle": "2021-07-16T08:56:30.235282Z",
     "shell.execute_reply": "2021-07-16T08:56:30.233870Z",
     "shell.execute_reply.started": "2021-07-16T08:56:30.223719Z"
    }
   },
   "outputs": [
    {
     "name": "stdout",
     "output_type": "stream",
     "text": [
      "Number of inaccurate predictions =  2\n"
     ]
    }
   ],
   "source": [
    "# number of inaccurate predictions\n",
    "print(\"Number of inaccurate predictions = \", len(y_test)-np.count_nonzero(y_test==y_pred))"
   ]
  },
  {
   "cell_type": "code",
   "execution_count": 40,
   "metadata": {
    "collapsed": true,
    "execution": {
     "iopub.execute_input": "2021-07-16T08:56:30.237121Z",
     "iopub.status.busy": "2021-07-16T08:56:30.236682Z",
     "iopub.status.idle": "2021-07-16T08:56:30.247541Z",
     "shell.execute_reply": "2021-07-16T08:56:30.246521Z",
     "shell.execute_reply.started": "2021-07-16T08:56:30.237075Z"
    }
   },
   "outputs": [],
   "source": [
    "# (4 points) In this task, we want to see how accuracy score and the number of correct predictions change with the number of neighbors k. We will use the following \n",
    "# number of neighbors k: 1, 3, 5, 7, 10, 20, 30, 40, and 50:\n",
    "\n",
    "# Generate 10 random train/test splits for each value of k\n",
    "# Fit the model for each split and generate predictions\n",
    "# Average the accuracy score for each k\n",
    "# Calculate the average number of correct predictions for each k as well\n",
    "# Plot the accuracy score for different values of k. What conclusion can you make based on the graph?"
   ]
  },
  {
   "cell_type": "code",
   "execution_count": 41,
   "metadata": {
    "collapsed": true,
    "execution": {
     "iopub.execute_input": "2021-07-16T08:56:30.249727Z",
     "iopub.status.busy": "2021-07-16T08:56:30.249259Z",
     "iopub.status.idle": "2021-07-16T08:56:30.261944Z",
     "shell.execute_reply": "2021-07-16T08:56:30.260605Z",
     "shell.execute_reply.started": "2021-07-16T08:56:30.249676Z"
    }
   },
   "outputs": [],
   "source": [
    "k_list=[1, 3, 5, 7, 10, 20, 30, 40, 50]"
   ]
  },
  {
   "cell_type": "code",
   "execution_count": 42,
   "metadata": {
    "execution": {
     "iopub.execute_input": "2021-07-16T08:56:30.263920Z",
     "iopub.status.busy": "2021-07-16T08:56:30.263487Z",
     "iopub.status.idle": "2021-07-16T08:56:30.340573Z",
     "shell.execute_reply": "2021-07-16T08:56:30.339579Z",
     "shell.execute_reply.started": "2021-07-16T08:56:30.263872Z"
    }
   },
   "outputs": [
    {
     "name": "stdout",
     "output_type": "stream",
     "text": [
      "[0.9333333333333333, 0.9666666666666667, 0.9666666666666667, 0.9666666666666667, 1.0, 1.0, 0.9666666666666667, 0.9666666666666667, 0.9333333333333333]\n",
      "[28, 29, 29, 29, 30, 30, 29, 29, 28]\n"
     ]
    }
   ],
   "source": [
    "x_train, x_test, y_train, y_test = train_test_split(x, y, test_size = 0.2, random_state=3)\n",
    "num_correct=[]\n",
    "accuracy=[]\n",
    "\n",
    "for k in k_list:\n",
    "    knn = KNeighborsClassifier(n_neighbors=k)\n",
    "    knn.fit(x_train, y_train)\n",
    "    y_pred = knn.predict(x_test)\n",
    "    #accuracy = # correct/total\n",
    "    acc= (np.count_nonzero(y_test==y_pred))/len(y_test)\n",
    "    num_correct.append(np.count_nonzero(y_test==y_pred))\n",
    "    accuracy.append(acc)\n",
    "    \n",
    "print(accuracy)\n",
    "print(num_correct)"
   ]
  },
  {
   "cell_type": "code",
   "execution_count": 43,
   "metadata": {
    "execution": {
     "iopub.execute_input": "2021-07-16T08:56:30.342403Z",
     "iopub.status.busy": "2021-07-16T08:56:30.342079Z",
     "iopub.status.idle": "2021-07-16T08:56:30.356059Z",
     "shell.execute_reply": "2021-07-16T08:56:30.354795Z",
     "shell.execute_reply.started": "2021-07-16T08:56:30.342373Z"
    }
   },
   "outputs": [
    {
     "data": {
      "text/html": [
       "<div>\n",
       "<style>\n",
       "    .dataframe thead tr:only-child th {\n",
       "        text-align: right;\n",
       "    }\n",
       "\n",
       "    .dataframe thead th {\n",
       "        text-align: left;\n",
       "    }\n",
       "\n",
       "    .dataframe tbody tr th {\n",
       "        vertical-align: top;\n",
       "    }\n",
       "</style>\n",
       "<table border=\"1\" class=\"dataframe\">\n",
       "  <thead>\n",
       "    <tr style=\"text-align: right;\">\n",
       "      <th></th>\n",
       "      <th>Correct_predictions</th>\n",
       "      <th>Prediction_accuracy</th>\n",
       "      <th>k</th>\n",
       "    </tr>\n",
       "  </thead>\n",
       "  <tbody>\n",
       "    <tr>\n",
       "      <th>0</th>\n",
       "      <td>28</td>\n",
       "      <td>0.933333</td>\n",
       "      <td>1</td>\n",
       "    </tr>\n",
       "    <tr>\n",
       "      <th>1</th>\n",
       "      <td>29</td>\n",
       "      <td>0.966667</td>\n",
       "      <td>3</td>\n",
       "    </tr>\n",
       "    <tr>\n",
       "      <th>2</th>\n",
       "      <td>29</td>\n",
       "      <td>0.966667</td>\n",
       "      <td>5</td>\n",
       "    </tr>\n",
       "    <tr>\n",
       "      <th>3</th>\n",
       "      <td>29</td>\n",
       "      <td>0.966667</td>\n",
       "      <td>7</td>\n",
       "    </tr>\n",
       "    <tr>\n",
       "      <th>4</th>\n",
       "      <td>30</td>\n",
       "      <td>1.000000</td>\n",
       "      <td>10</td>\n",
       "    </tr>\n",
       "    <tr>\n",
       "      <th>5</th>\n",
       "      <td>30</td>\n",
       "      <td>1.000000</td>\n",
       "      <td>20</td>\n",
       "    </tr>\n",
       "    <tr>\n",
       "      <th>6</th>\n",
       "      <td>29</td>\n",
       "      <td>0.966667</td>\n",
       "      <td>30</td>\n",
       "    </tr>\n",
       "    <tr>\n",
       "      <th>7</th>\n",
       "      <td>29</td>\n",
       "      <td>0.966667</td>\n",
       "      <td>40</td>\n",
       "    </tr>\n",
       "    <tr>\n",
       "      <th>8</th>\n",
       "      <td>28</td>\n",
       "      <td>0.933333</td>\n",
       "      <td>50</td>\n",
       "    </tr>\n",
       "  </tbody>\n",
       "</table>\n",
       "</div>"
      ],
      "text/plain": [
       "   Correct_predictions  Prediction_accuracy   k\n",
       "0                   28             0.933333   1\n",
       "1                   29             0.966667   3\n",
       "2                   29             0.966667   5\n",
       "3                   29             0.966667   7\n",
       "4                   30             1.000000  10\n",
       "5                   30             1.000000  20\n",
       "6                   29             0.966667  30\n",
       "7                   29             0.966667  40\n",
       "8                   28             0.933333  50"
      ]
     },
     "execution_count": 43,
     "metadata": {},
     "output_type": "execute_result"
    }
   ],
   "source": [
    "knn_results=pd.DataFrame({'k': k_list, 'Correct_predictions':num_correct, 'Prediction_accuracy':accuracy})\n",
    "knn_results"
   ]
  },
  {
   "cell_type": "code",
   "execution_count": 44,
   "metadata": {
    "execution": {
     "iopub.execute_input": "2021-07-16T08:56:30.358048Z",
     "iopub.status.busy": "2021-07-16T08:56:30.357615Z",
     "iopub.status.idle": "2021-07-16T08:56:30.526352Z",
     "shell.execute_reply": "2021-07-16T08:56:30.525156Z",
     "shell.execute_reply.started": "2021-07-16T08:56:30.357993Z"
    }
   },
   "outputs": [
    {
     "data": {
      "image/png": "[encoded data removed]",
      "text/plain": [
       "<matplotlib.figure.Figure at 0x1feed9394a8>"
      ]
     },
     "metadata": {},
     "output_type": "display_data"
    }
   ],
   "source": [
    "plt.plot(knn_results.k, knn_results.Prediction_accuracy)\n",
    "plt.xlabel(\"Values of K\")\n",
    "plt.ylabel(\"Prediction Accuracy\")\n",
    "plt.title(\"Prediction Accuracy as a Function of KNN K Values\")\n",
    "plt.show()"
   ]
  },
  {
   "cell_type": "code",
   "execution_count": 45,
   "metadata": {
    "collapsed": true,
    "execution": {
     "iopub.execute_input": "2021-07-16T08:56:30.528421Z",
     "iopub.status.busy": "2021-07-16T08:56:30.528051Z",
     "iopub.status.idle": "2021-07-16T08:56:30.532374Z",
     "shell.execute_reply": "2021-07-16T08:56:30.531360Z",
     "shell.execute_reply.started": "2021-07-16T08:56:30.528387Z"
    }
   },
   "outputs": [],
   "source": [
    "# Based on the graph, accuracy decreases as K increase. Accuracy is optimal for this problem is approximately 10-20 for train_test_split random_state set to 3"
   ]
  }
 ],
 "metadata": {
  "kernelspec": {
   "display_name": "Python 3",
   "language": "python",
   "name": "python3"
  },
  "language_info": {
   "codemirror_mode": {
    "name": "ipython",
    "version": 3
   },
   "file_extension": ".py",
   "mimetype": "text/x-python",
   "name": "python",
   "nbconvert_exporter": "python",
   "pygments_lexer": "ipython3",
   "version": "3.6.2"
  }
 },
 "nbformat": 4,
 "nbformat_minor": 4
}
